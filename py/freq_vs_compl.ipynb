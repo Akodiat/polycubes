{
 "cells": [
  {
   "cell_type": "markdown",
   "metadata": {},
   "source": [
    "# Frequency vs complexity"
   ]
  },
  {
   "cell_type": "code",
   "execution_count": null,
   "metadata": {},
   "outputs": [],
   "source": [
    "import utils\n",
    "import altair as alt\n",
    "import pandas as pd\n",
    "from analysePhenotype import readAnalysed"
   ]
  },
  {
   "cell_type": "markdown",
   "metadata": {},
   "source": [
    "Check what files we have to analyse:"
   ]
  },
  {
   "cell_type": "code",
   "execution_count": null,
   "metadata": {},
   "outputs": [],
   "source": [
    "! ls -lh /mnt/extraspace/joakim/*/*/*/*.ftr"
   ]
  },
  {
   "cell_type": "markdown",
   "metadata": {},
   "source": [
    "We likely want more than 5000 rows"
   ]
  },
  {
   "cell_type": "code",
   "execution_count": null,
   "metadata": {},
   "outputs": [],
   "source": [
    "alt.data_transformers.disable_max_rows()"
   ]
  },
  {
   "cell_type": "code",
   "execution_count": null,
   "metadata": {},
   "outputs": [],
   "source": [
    "def saveRankedRules(size, path):\n",
    "    df = readAnalysed(path)\n",
    "    df.loc[df['size'] == size][['count', 'minNt_r']].sort_values(['count'], ascending=False).to_csv('{}_{}d_size_{}.csv'.format(method, nDim, size))\n",
    "#saveRankedRules(8, df)"
   ]
  },
  {
   "cell_type": "code",
   "execution_count": null,
   "metadata": {},
   "outputs": [],
   "source": [
    "def getSymmGroup(row):\n",
    "    if row['reflsymms'] == 2:\n",
    "      return 'D4'\n",
    "    if row['rotsymms'] == 3:\n",
    "      return 'C4'\n",
    "    if row['reflsymms'] == 1:\n",
    "      return 'D2'\n",
    "    if row['rotsymms'] == 1:\n",
    "      return 'C2'\n",
    "    if row['reflsymms'] == 0:\n",
    "      return 'D1'\n",
    "    if row['rotsymms'] == 0:\n",
    "      return 'C1'\n",
    "    return 'Other'"
   ]
  },
  {
   "cell_type": "code",
   "execution_count": null,
   "metadata": {},
   "outputs": [],
   "source": [
    "def plotFreq(path, nSampled, nDim, method, minCount=1, nMer = None, saveHTML=False):\n",
    "    title = 'Frequency vs complexity, {:.1E} samples of {}D {}'.format(nSampled, nDim, method)\n",
    "    tmp = \"{}/{}/{}d\".format(path, method, nDim)\n",
    "    [filename] = !ls $tmp/*.ftr\n",
    "    print(filename)\n",
    "    df = readAnalysed(filename)\n",
    "    df = df.loc[df['count'] >= minCount]\n",
    "    df = df.sort_values(['size'], ascending=True)\n",
    "    #df['symmetry_group'] = df.apply(lambda row: getSymmGroup(row), axis=1)\n",
    "    if nMer is not None:\n",
    "        df = df.loc[df['size'] == nMer]\n",
    "        title = '{}-mer frequency vs complexity, {:.1E} samples of {}D {}'.format(nMer, nSampled, nDim, method)\n",
    "    chart = alt.Chart(df).mark_circle(size=60).encode(\n",
    "        alt.X(alt.repeat(\"column\"), type='quantitative', axis=alt.Axis(tickMinStep = 1)),\n",
    "        alt.Y('freq:Q', scale=alt.Scale(type='log'), title=\"Frequency\"),\n",
    "        href='url:N',\n",
    "        #color=alt.Color('symmetry_group:N'),\n",
    "        color=alt.Color('size:Q', scale=alt.Scale(scheme=\"inferno\")),\n",
    "        tooltip=['url:N', 'count', 'freq:Q', 'minLz', 'minNc', 'minNt', 'rotsymms', 'reflsymms', 'invsymms']\n",
    "    ).transform_calculate(\n",
    "        freq='datum.count/{}'.format(nSampled),\n",
    "        url='\"https://akodiat.github.io/polycubes/?rule=\"+datum.minLz_r',\n",
    "        symmetries='1+datum.rotsymms+datum.reflsymms+datum.invsymms'\n",
    "    ).properties(\n",
    "        width=200,\n",
    "        height=200\n",
    "    ).repeat(\n",
    "        column=['minNt', 'minNc', 'minLz']\n",
    "    ).properties(title=title)\n",
    "    if saveHTML:\n",
    "        chart.save('freq_vs_compl.html')\n",
    "    return chart"
   ]
  },
  {
   "cell_type": "markdown",
   "metadata": {},
   "source": [
    "# 1e8"
   ]
  },
  {
   "cell_type": "markdown",
   "metadata": {},
   "source": [
    "### $$n_c <= 5$$"
   ]
  },
  {
   "cell_type": "code",
   "execution_count": null,
   "metadata": {},
   "outputs": [],
   "source": [
    "plotFreq(\n",
    "    path = '/mnt/extraspace/joakim/210924',\n",
    "    nSampled = 1e8, nDim = 2, method = 'seeded', minCount = 1\n",
    ")"
   ]
  },
  {
   "cell_type": "code",
   "execution_count": null,
   "metadata": {},
   "outputs": [],
   "source": [
    "plotFreq(\n",
    "    path = '/mnt/extraspace/joakim/210924',\n",
    "    nSampled = 1e8, nDim = 3, method = 'seeded', minCount = 1\n",
    ")"
   ]
  },
  {
   "cell_type": "code",
   "execution_count": null,
   "metadata": {},
   "outputs": [],
   "source": [
    "plotFreq(\n",
    "    path = '/mnt/extraspace/joakim/210924',\n",
    "    nSampled = 1e8, nDim = 3, method = 'stochastic', minCount = 1\n",
    ")"
   ]
  },
  {
   "cell_type": "code",
   "execution_count": null,
   "metadata": {},
   "outputs": [],
   "source": [
    "plotFreq(\n",
    "    path = '/mnt/extraspace/joakim/210924/',\n",
    "    nSampled = 1e8, nDim = 2, method = 'stochastic', minCount = 1\n",
    ")"
   ]
  },
  {
   "cell_type": "markdown",
   "metadata": {
    "tags": []
   },
   "source": [
    "### $$n_c <= 5$$"
   ]
  },
  {
   "cell_type": "code",
   "execution_count": null,
   "metadata": {},
   "outputs": [],
   "source": [
    "plotFreq(\n",
    "    path = '/mnt/extraspace/joakim/210918',\n",
    "    nSampled = 1e8, nDim = 2, method = 'seeded', minCount = 10\n",
    ")"
   ]
  },
  {
   "cell_type": "code",
   "execution_count": null,
   "metadata": {},
   "outputs": [],
   "source": [
    "plotFreq(\n",
    "    path = '/mnt/extraspace/joakim/210918',\n",
    "    nSampled = 1e8, nDim = 3, method = 'seeded', minCount = 10\n",
    ")"
   ]
  },
  {
   "cell_type": "code",
   "execution_count": null,
   "metadata": {},
   "outputs": [],
   "source": [
    "plotFreq(\n",
    "    path = '/mnt/extraspace/joakim/210918/',\n",
    "    nSampled = 1e8, nDim = 2, method = 'stochastic', minCount = 10\n",
    ")"
   ]
  },
  {
   "cell_type": "code",
   "execution_count": null,
   "metadata": {},
   "outputs": [],
   "source": [
    "plotFreq(\n",
    "    path = '/mnt/extraspace/joakim/210918/',\n",
    "    nSampled = 1e8, nDim = 3, method = 'stochastic', minCount = 10\n",
    ")"
   ]
  },
  {
   "cell_type": "markdown",
   "metadata": {},
   "source": [
    "## 8-mers"
   ]
  },
  {
   "cell_type": "code",
   "execution_count": null,
   "metadata": {},
   "outputs": [],
   "source": [
    "plotFreq(\n",
    "    path = '/mnt/extraspace/joakim/210924',\n",
    "    nSampled = 1e7, nDim = 2, method = 'seeded', minCount = 1, nMer=16\n",
    ")"
   ]
  },
  {
   "cell_type": "markdown",
   "metadata": {},
   "source": [
    "# OLD SAMPLINGS"
   ]
  },
  {
   "cell_type": "markdown",
   "metadata": {},
   "source": [
    "## Plotting all sizes"
   ]
  },
  {
   "cell_type": "code",
   "execution_count": null,
   "metadata": {},
   "outputs": [],
   "source": [
    "plotFreq(\n",
    "    path = '/mnt/extraspace/joakim/210324/stochastic/3d/out_3345_analysed.ftr',\n",
    "    nSampled = 1e8, nDim = 3, method = 'stochastic', minCount = 10\n",
    ")"
   ]
  },
  {
   "cell_type": "code",
   "execution_count": null,
   "metadata": {},
   "outputs": [],
   "source": [
    "plotFreq(\n",
    "    path = '/mnt/extraspace/joakim/210324/seeded/3d/out_16757_analysed.ftr',\n",
    "    nSampled = 1e8, nDim = 3, method = 'seeded', minCount = 10\n",
    ")"
   ]
  },
  {
   "cell_type": "code",
   "execution_count": null,
   "metadata": {
    "tags": []
   },
   "outputs": [],
   "source": [
    "plotFreq(\n",
    "    path = '/mnt/extraspace/joakim/210324/stochastic/2d/out_27175_analysed.ftr',\n",
    "    nSampled = 1e8, nDim = 2, method = 'stochastic', minCount = 10\n",
    ")"
   ]
  },
  {
   "cell_type": "markdown",
   "metadata": {},
   "source": [
    "## Plotting specific sizes"
   ]
  },
  {
   "cell_type": "code",
   "execution_count": null,
   "metadata": {},
   "outputs": [],
   "source": [
    "plotFreq(\n",
    "    path = '/mnt/extraspace/joakim/210324/seeded/3d/out_16757_analysed.ftr',\n",
    "    nSampled = 1e8, nDim = 3, method = 'seeded', minCount = 10, nMer = 8\n",
    ")"
   ]
  },
  {
   "cell_type": "code",
   "execution_count": null,
   "metadata": {},
   "outputs": [],
   "source": [
    "plotFreq(\n",
    "    path = '/mnt/extraspace/joakim/210324/stochastic/2d/out_27175_analysed.ftr',\n",
    "    nSampled = 1e8, nDim = 2, method = 'stochastic', minCount = 10, nMer = 16\n",
    ")"
   ]
  },
  {
   "cell_type": "code",
   "execution_count": null,
   "metadata": {},
   "outputs": [],
   "source": [
    "plotFreq(\n",
    "    path = '/mnt/extraspace/joakim/210324/stochastic/2d/out_27175_analysed.ftr',\n",
    "    nSampled = 1e8, nDim = 2, method = 'stochastic', minCount = 10, nMer = 16\n",
    ")"
   ]
  },
  {
   "cell_type": "code",
   "execution_count": null,
   "metadata": {},
   "outputs": [],
   "source": [
    "alt.Chart(df).mark_circle().encode(\n",
    "    alt.X(alt.repeat(\"column\"), type='quantitative'),\n",
    "    alt.Y(alt.repeat(\"row\"), type='quantitative'),\n",
    "    color=alt.Color('freq:Q', scale=alt.Scale(type='log', scheme=\"inferno\")),\n",
    "    href='url:N'\n",
    ").properties(\n",
    "    width=150,\n",
    "    height=150\n",
    ").transform_calculate(\n",
    "    freq='datum.count/{}'.format(nSampled),\n",
    "    url='\"https://akodiat.github.io/polycubes/?rule=\"+datum.minLz_r',\n",
    "    symmetries='1+datum.rotsymms+datum.reflsymms+datum.invsymms'\n",
    ").repeat(\n",
    "    row=['minLz', 'minNc', 'minNt', 'size', 'symmetries'],\n",
    "    column=['minLz', 'minNc', 'minNt', 'size', 'symmetries']\n",
    ").properties(\n",
    "    title='Complexity comparison, {:.1E} samples of {}D {}'.format(nSampled, nDim, method)\n",
    ")"
   ]
  },
  {
   "cell_type": "code",
   "execution_count": null,
   "metadata": {},
   "outputs": [],
   "source": [
    "alt.Chart(df).mark_rect().encode(\n",
    "    alt.X('minNc:N'),\n",
    "    alt.Y('minNt:N'),\n",
    "    color=alt.Color('count()', scale=alt.Scale(scheme=\"inferno\"))\n",
    ").properties(\n",
    "    width=200,\n",
    "    height=200\n",
    ")\n"
   ]
  },
  {
   "cell_type": "code",
   "execution_count": null,
   "metadata": {},
   "outputs": [],
   "source": [
    "alt.Chart(df).mark_rect().encode(\n",
    "    alt.Y(alt.repeat(\"row\"), type='ordinal', sort='-y'),\n",
    "    x='size:N',\n",
    "    color=alt.Color('count()', scale=alt.Scale(type='log', scheme=\"inferno\"))\n",
    ").repeat(\n",
    "    row=['rotsymms','reflsymms','invsymms']\n",
    ")"
   ]
  },
  {
   "cell_type": "code",
   "execution_count": null,
   "metadata": {},
   "outputs": [],
   "source": []
  }
 ],
 "metadata": {
  "kernelspec": {
   "display_name": "Python 3",
   "language": "python",
   "name": "python3"
  },
  "language_info": {
   "codemirror_mode": {
    "name": "ipython",
    "version": 3
   },
   "file_extension": ".py",
   "mimetype": "text/x-python",
   "name": "python",
   "nbconvert_exporter": "python",
   "pygments_lexer": "ipython3",
   "version": "3.8.5"
  }
 },
 "nbformat": 4,
 "nbformat_minor": 4
}
