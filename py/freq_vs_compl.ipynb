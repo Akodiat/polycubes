{
 "cells": [
  {
   "cell_type": "markdown",
   "metadata": {},
   "source": [
    "# Frequency vs complexity"
   ]
  },
  {
   "cell_type": "code",
   "execution_count": null,
   "metadata": {},
   "outputs": [],
   "source": [
    "import utils\n",
    "import altair as alt\n",
    "import pandas as pd\n",
    "from analysePhenotype import readAnalysed"
   ]
  },
  {
   "cell_type": "markdown",
   "metadata": {},
   "source": [
    "Initial setup:"
   ]
  },
  {
   "cell_type": "code",
   "execution_count": null,
   "metadata": {},
   "outputs": [],
   "source": [
    "df = readAnalysed('../cpp/out/out_12238_seeded2D_analysed.ftr')\n",
    "nSampled = 1e6"
   ]
  },
  {
   "cell_type": "code",
   "execution_count": null,
   "metadata": {},
   "outputs": [],
   "source": [
    "df = readAnalysed('../cpp/out/out_16989_analysed.ftr')\n",
    "nSampled = 1000"
   ]
  },
  {
   "cell_type": "code",
   "execution_count": null,
   "metadata": {},
   "outputs": [],
   "source": [
    "df = readAnalysed('/mnt/extraspace/joakim/210324/stochastic/2d/out_27175_analysed.ftr')\n",
    "nSampled = 1e8\n",
    "nDim = 2\n",
    "method = 'stochastic'\n",
    "alt.data_transformers.disable_max_rows()"
   ]
  },
  {
   "cell_type": "code",
   "execution_count": null,
   "metadata": {},
   "outputs": [],
   "source": [
    "df"
   ]
  },
  {
   "cell_type": "code",
   "execution_count": null,
   "metadata": {},
   "outputs": [],
   "source": [
    "chart = alt.Chart(df).mark_circle(size=60, opacity=0.6).encode(\n",
    "    alt.X(alt.repeat(\"column\"), type='quantitative', axis=alt.Axis(tickMinStep = 1)),\n",
    "    alt.Y('freq:Q', scale=alt.Scale(type='log'), title=\"Frequency\"),\n",
    "    href='url:N',\n",
    "    color=alt.Color('symmetries:Q', scale=alt.Scale(scheme=\"inferno\")),\n",
    "    tooltip=['url:N', 'count', 'freq:Q', 'minLz', 'minNc', 'minNt', 'rotsymms', 'reflsymms', 'invsymms']\n",
    ").transform_calculate(\n",
    "    freq='datum.count/{}'.format(nSampled),\n",
    "    url='\"https://akodiat.github.io/polycubes/?rule=\"+datum.minLz_r',\n",
    "    symmetries='1+datum.rotsymms+datum.reflsymms+datum.invsymms'\n",
    ").properties(\n",
    "    width=200,\n",
    "    height=200\n",
    ").repeat(\n",
    "    column=['minLz', 'minNc', 'minNt']\n",
    ").properties(\n",
    "title='Polycube frequency vs complexity, {:.1E} samples of {}D {}'.format(nSampled, nDim, method)\n",
    ")\n",
    "#chart.save('freq_vs_compl.html')\n",
    "chart"
   ]
  },
  {
   "cell_type": "code",
   "execution_count": null,
   "metadata": {},
   "outputs": [],
   "source": [
    "alt.Chart(df).mark_circle().encode(\n",
    "    alt.X(alt.repeat(\"column\"), type='quantitative'),\n",
    "    alt.Y(alt.repeat(\"row\"), type='quantitative'),\n",
    "    color=alt.Color('freq:Q', scale=alt.Scale(type='log', scheme=\"inferno\")),\n",
    "    href='url:N'\n",
    ").properties(\n",
    "    width=150,\n",
    "    height=150\n",
    ").transform_calculate(\n",
    "    freq='datum.count/{}'.format(nSampled),\n",
    "    url='\"https://akodiat.github.io/polycubes/?rule=\"+datum.minLz_r',\n",
    "    symmetries='1+datum.rotsymms+datum.reflsymms+datum.invsymms'\n",
    ").repeat(\n",
    "    row=['minLz', 'minNc', 'minNt', 'size', 'symmetries'],\n",
    "    column=['minLz', 'minNc', 'minNt', 'size', 'symmetries']\n",
    ").properties(\n",
    "    title='Complexity comparison, {:.1E} samples of {}D {}'.format(nSampled, nDim, method)\n",
    ")"
   ]
  },
  {
   "cell_type": "code",
   "execution_count": null,
   "metadata": {},
   "outputs": [],
   "source": [
    "alt.Chart(df).mark_rect().encode(\n",
    "    alt.X('minNc:N'),\n",
    "    alt.Y('minNt:N'),\n",
    "    color=alt.Color('count()', scale=alt.Scale(scheme=\"inferno\"))\n",
    ").properties(\n",
    "    width=200,\n",
    "    height=200\n",
    ")\n"
   ]
  },
  {
   "cell_type": "code",
   "execution_count": null,
   "metadata": {},
   "outputs": [],
   "source": [
    "alt.Chart(df).mark_rect().encode(\n",
    "    alt.X('minNc:N'),\n",
    "    alt.Y('minNt:N'),\n",
    "    color=alt.Color('count()', scale=alt.Scale(scheme=\"inferno\"))\n",
    ").properties(\n",
    "    width=200,\n",
    "    height=200\n",
    ")\n"
   ]
  },
  {
   "cell_type": "code",
   "execution_count": null,
   "metadata": {},
   "outputs": [],
   "source": [
    "import h5py\n",
    "f = h5py.File('/mnt/extraspace/joakim/210324/seeded/2d/out_10331.h5', 'r')"
   ]
  },
  {
   "cell_type": "code",
   "execution_count": null,
   "metadata": {},
   "outputs": [],
   "source": [
    "f"
   ]
  },
  {
   "cell_type": "markdown",
   "metadata": {},
   "source": [
    "Load data and plot"
   ]
  },
  {
   "cell_type": "code",
   "execution_count": null,
   "metadata": {},
   "outputs": [],
   "source": [
    "# Load phenotype data\n",
    "data = phenosToDataFrame({\n",
    "    '2d': utils.loadPhenos('../cpp/out/2d_31c_5t_1e7/phenos'),\n",
    "    '3d': utils.loadPhenos('../cpp/out/3d_31c_5t_1e7/phenos'),\n",
    "    '1d': utils.loadPhenos('../cpp/out/1d_31c_5t_1e7/phenos'),\n",
    "    \n",
    "})\n",
    "                          \n",
    "# Serialize data on disk to avoid embedding everything\n",
    "alt.data_transformers.enable('json');"
   ]
  },
  {
   "cell_type": "code",
   "execution_count": null,
   "metadata": {},
   "outputs": [],
   "source": [
    "# Plot\n",
    "chart = alt.Chart(data).mark_circle(size=60, opacity=0.7).encode(\n",
    "    alt.X('compl', title=\"Number of colours\", axis=alt.Axis(tickMinStep = 1)),\n",
    "    alt.Y('freq', scale=alt.Scale(type='log'), title=\"Frequency\"),\n",
    "    alt.Color('dataset', scale=alt.Scale(scheme='set1')),\n",
    "    href='url:N',\n",
    "    size = 'size',\n",
    "    tooltip=['rule','dataset', 'count', 'size']\n",
    ").properties(\n",
    "title='Phenotype frequency vs complexity'\n",
    ").interactive()\n",
    "chart.save('freq_vs_compl.html')\n",
    "chart"
   ]
  },
  {
   "cell_type": "code",
   "execution_count": null,
   "metadata": {},
   "outputs": [],
   "source": [
    "alt.vconcat(*[\n",
    "    alt.Chart(phenosToDataFrame({\n",
    "    name: utils.loadPhenos(path)\n",
    "})).mark_circle(size=60, opacity=0.7).encode(\n",
    "    alt.X('compl', title=\"Number of colours\", axis=alt.Axis(tickMinStep = 1)),\n",
    "    alt.Y('freq', scale=alt.Scale(type='log'), title=\"Frequency\"),\n",
    "    href='url:N',\n",
    "    size='size',\n",
    "    color='nCubeTypes',\n",
    "    tooltip=['rule','count','nCubeTypes','size']\n",
    ").properties(\n",
    "title=name\n",
    ") for name, path in [\n",
    "    ('1d', '../cpp/out/1d_31c_5t_1e7/phenos'),\n",
    "    ('2d', '../cpp/out/2d_31c_5t_1e7/phenos'),\n",
    "    ('3d', '../cpp/out/3d_31c_5t_1e7/phenos')\n",
    "]])"
   ]
  },
  {
   "cell_type": "code",
   "execution_count": null,
   "metadata": {},
   "outputs": [],
   "source": [
    "(\n",
    "    chart.transform_filter((alt.datum.dataset == '1d')) &\n",
    "    chart.transform_filter((alt.datum.dataset == '2d')) &\n",
    "    chart.transform_filter((alt.datum.dataset == '3d'))\n",
    ")"
   ]
  },
  {
   "cell_type": "code",
   "execution_count": null,
   "metadata": {},
   "outputs": [],
   "source": [
    "alt.Chart(data).transform_calculate(\n",
    "    url='https://akodiat.github.io/polycubes?rule=' + alt.datum.rule\n",
    ").mark_circle(size=60).encode(\n",
    "    alt.X('nCubeTypes', title=\"Number of cube types\", axis=alt.Axis(tickMinStep = 1)),\n",
    "    alt.Y('freq', scale=alt.Scale(type='log'), title=\"Frequency\"),\n",
    "    color='dataset',\n",
    "    href='url:N',\n",
    "    #size = 'size',\n",
    "    tooltip=['rule','dataset', 'count'] #,'size']\n",
    ").properties(\n",
    "title='Phenotype frequency vs complexity'\n",
    ").interactive()"
   ]
  },
  {
   "cell_type": "code",
   "execution_count": null,
   "metadata": {},
   "outputs": [],
   "source": [
    "alt.Chart(data).transform_calculate(\n",
    "    url='https://akodiat.github.io/polycubes?rule=' + alt.datum.rule\n",
    ").mark_circle(size=60).encode(\n",
    "    alt.X('nCubeTypes', title=\"Number of cube types\", axis=alt.Axis(tickMinStep = 1)),\n",
    "    alt.Y('compl', title=\"Number of colours\"),\n",
    "    color='dataset',\n",
    "    href='url:N',\n",
    "    #size = 'size',\n",
    "    tooltip=['rule','dataset', 'count'] #,'size']\n",
    ").properties(\n",
    "title='Phenotype frequency vs complexity'\n",
    ").interactive()"
   ]
  },
  {
   "cell_type": "code",
   "execution_count": null,
   "metadata": {},
   "outputs": [],
   "source": []
  }
 ],
 "metadata": {
  "kernelspec": {
   "display_name": "Python 3",
   "language": "python",
   "name": "python3"
  },
  "language_info": {
   "codemirror_mode": {
    "name": "ipython",
    "version": 3
   },
   "file_extension": ".py",
   "mimetype": "text/x-python",
   "name": "python",
   "nbconvert_exporter": "python",
   "pygments_lexer": "ipython3",
   "version": "3.8.5"
  }
 },
 "nbformat": 4,
 "nbformat_minor": 4
}
