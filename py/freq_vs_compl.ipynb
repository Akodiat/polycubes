{
 "cells": [
  {
   "cell_type": "markdown",
   "metadata": {},
   "source": [
    "# Frequency vs complexity"
   ]
  },
  {
   "cell_type": "markdown",
   "metadata": {},
   "source": [
    "Initial setup:"
   ]
  },
  {
   "cell_type": "code",
   "execution_count": 1,
   "metadata": {},
   "outputs": [],
   "source": [
    "import utils\n",
    "import altair as alt\n",
    "import pickle\n",
    "import pandas as pd\n",
    "\n",
    "def phenosToDataFrame(phenoslist):\n",
    "    data = {}\n",
    "    for dataset, phenos in phenoslist.items():\n",
    "        for pheno in phenos:\n",
    "            if pheno['count'] >= 1:\n",
    "                r = utils.simplifyHexRule(pheno['rule'])\n",
    "                data[r] = dict(pheno)\n",
    "                del data[r]['genotypes']\n",
    "                data[r]['dataset'] = dataset\n",
    "                data[r]['nCubeTypes'] = utils.countCubeTypes(r)\n",
    "                data[r]['url'] = 'https://akodiat.github.io/polycubes?rule={}'.format(r)\n",
    "    return pd.DataFrame(data=data).transpose()"
   ]
  },
  {
   "cell_type": "markdown",
   "metadata": {},
   "source": [
    "Load data and plot"
   ]
  },
  {
   "cell_type": "code",
   "execution_count": 2,
   "metadata": {},
   "outputs": [],
   "source": [
    "# Load phenotype data\n",
    "data = phenosToDataFrame({\n",
    "    '2d': utils.loadPhenos('../cpp/out/2d_31c_5t_1e7/phenos'),\n",
    "    '3d': utils.loadPhenos('../cpp/out/3d_31c_5t_1e7/phenos'),\n",
    "    '1d': utils.loadPhenos('../cpp/out/1d_31c_5t_1e7/phenos'),\n",
    "    \n",
    "})\n",
    "                          \n",
    "# Serialize data on disk to avoid embedding everything\n",
    "alt.data_transformers.enable('json');"
   ]
  },
  {
   "cell_type": "code",
   "execution_count": 3,
   "metadata": {},
   "outputs": [
    {
     "data": {
      "text/html": [
       "\n",
       "<div id=\"altair-viz-59335e9d8aa544dc80deb7058b5ef371\"></div>\n",
       "<script type=\"text/javascript\">\n",
       "  (function(spec, embedOpt){\n",
       "    const outputDiv = document.getElementById(\"altair-viz-59335e9d8aa544dc80deb7058b5ef371\");\n",
       "    const paths = {\n",
       "      \"vega\": \"https://cdn.jsdelivr.net/npm//vega@5?noext\",\n",
       "      \"vega-lib\": \"https://cdn.jsdelivr.net/npm//vega-lib?noext\",\n",
       "      \"vega-lite\": \"https://cdn.jsdelivr.net/npm//vega-lite@4.0.2?noext\",\n",
       "      \"vega-embed\": \"https://cdn.jsdelivr.net/npm//vega-embed@6?noext\",\n",
       "    };\n",
       "\n",
       "    function loadScript(lib) {\n",
       "      return new Promise(function(resolve, reject) {\n",
       "        var s = document.createElement('script');\n",
       "        s.src = paths[lib];\n",
       "        s.async = true;\n",
       "        s.onload = () => resolve(paths[lib]);\n",
       "        s.onerror = () => reject(`Error loading script: ${paths[lib]}`);\n",
       "        document.getElementsByTagName(\"head\")[0].appendChild(s);\n",
       "      });\n",
       "    }\n",
       "\n",
       "    function showError(err) {\n",
       "      outputDiv.innerHTML = `<div class=\"error\" style=\"color:red;\">${err}</div>`;\n",
       "      throw err;\n",
       "    }\n",
       "\n",
       "    function displayChart(vegaEmbed) {\n",
       "      vegaEmbed(outputDiv, spec, embedOpt)\n",
       "        .catch(err => showError(`Javascript Error: ${err.message}<br>This usually means there's a typo in your chart specification. See the javascript console for the full traceback.`));\n",
       "    }\n",
       "\n",
       "    if(typeof define === \"function\" && define.amd) {\n",
       "      requirejs.config({paths});\n",
       "      require([\"vega-embed\"], displayChart, err => showError(`Error loading script: ${err.message}`));\n",
       "    } else if (typeof vegaEmbed === \"function\") {\n",
       "      displayChart(vegaEmbed);\n",
       "    } else {\n",
       "      loadScript(\"vega\")\n",
       "        .then(() => loadScript(\"vega-lite\"))\n",
       "        .then(() => loadScript(\"vega-embed\"))\n",
       "        .catch(showError)\n",
       "        .then(() => displayChart(vegaEmbed));\n",
       "    }\n",
       "  })({\"config\": {\"view\": {\"continuousWidth\": 400, \"continuousHeight\": 300}}, \"data\": {\"url\": \"altair-data-864da3ba3d95f38c4792e062d6fe7e59.json\", \"format\": {\"type\": \"json\"}}, \"mark\": {\"type\": \"circle\", \"opacity\": 0.7, \"size\": 60}, \"encoding\": {\"color\": {\"type\": \"nominal\", \"field\": \"dataset\", \"scale\": {\"scheme\": \"set1\"}}, \"href\": {\"type\": \"nominal\", \"field\": \"url\"}, \"size\": {\"type\": \"quantitative\", \"field\": \"size\"}, \"tooltip\": [{\"type\": \"nominal\", \"field\": \"rule\"}, {\"type\": \"nominal\", \"field\": \"dataset\"}, {\"type\": \"quantitative\", \"field\": \"count\"}, {\"type\": \"quantitative\", \"field\": \"size\"}], \"x\": {\"type\": \"quantitative\", \"axis\": {\"tickMinStep\": 1}, \"field\": \"compl\", \"title\": \"Number of colours\"}, \"y\": {\"type\": \"quantitative\", \"field\": \"freq\", \"scale\": {\"type\": \"log\"}, \"title\": \"Frequency\"}}, \"selection\": {\"selector001\": {\"type\": \"interval\", \"bind\": \"scales\", \"encodings\": [\"x\", \"y\"]}}, \"title\": \"Phenotype frequency vs complexity\", \"$schema\": \"https://vega.github.io/schema/vega-lite/v4.0.2.json\"}, {\"mode\": \"vega-lite\"});\n",
       "</script>"
      ],
      "text/plain": [
       "alt.Chart(...)"
      ]
     },
     "execution_count": 3,
     "metadata": {},
     "output_type": "execute_result"
    }
   ],
   "source": [
    "# Plot\n",
    "chart = alt.Chart(data).mark_circle(size=60, opacity=0.7).encode(\n",
    "    alt.X('compl', title=\"Number of colours\", axis=alt.Axis(tickMinStep = 1)),\n",
    "    alt.Y('freq', scale=alt.Scale(type='log'), title=\"Frequency\"),\n",
    "    alt.Color('dataset', scale=alt.Scale(scheme='set1')),\n",
    "    href='url:N',\n",
    "    size = 'size',\n",
    "    tooltip=['rule','dataset', 'count', 'size']\n",
    ").properties(\n",
    "title='Phenotype frequency vs complexity'\n",
    ").interactive()\n",
    "chart.save('freq_vs_compl.html')\n",
    "chart"
   ]
  },
  {
   "cell_type": "code",
   "execution_count": 4,
   "metadata": {},
   "outputs": [
    {
     "data": {
      "text/html": [
       "\n",
       "<div id=\"altair-viz-2676616586a943a183447cd90f1f8d23\"></div>\n",
       "<script type=\"text/javascript\">\n",
       "  (function(spec, embedOpt){\n",
       "    const outputDiv = document.getElementById(\"altair-viz-2676616586a943a183447cd90f1f8d23\");\n",
       "    const paths = {\n",
       "      \"vega\": \"https://cdn.jsdelivr.net/npm//vega@5?noext\",\n",
       "      \"vega-lib\": \"https://cdn.jsdelivr.net/npm//vega-lib?noext\",\n",
       "      \"vega-lite\": \"https://cdn.jsdelivr.net/npm//vega-lite@4.0.2?noext\",\n",
       "      \"vega-embed\": \"https://cdn.jsdelivr.net/npm//vega-embed@6?noext\",\n",
       "    };\n",
       "\n",
       "    function loadScript(lib) {\n",
       "      return new Promise(function(resolve, reject) {\n",
       "        var s = document.createElement('script');\n",
       "        s.src = paths[lib];\n",
       "        s.async = true;\n",
       "        s.onload = () => resolve(paths[lib]);\n",
       "        s.onerror = () => reject(`Error loading script: ${paths[lib]}`);\n",
       "        document.getElementsByTagName(\"head\")[0].appendChild(s);\n",
       "      });\n",
       "    }\n",
       "\n",
       "    function showError(err) {\n",
       "      outputDiv.innerHTML = `<div class=\"error\" style=\"color:red;\">${err}</div>`;\n",
       "      throw err;\n",
       "    }\n",
       "\n",
       "    function displayChart(vegaEmbed) {\n",
       "      vegaEmbed(outputDiv, spec, embedOpt)\n",
       "        .catch(err => showError(`Javascript Error: ${err.message}<br>This usually means there's a typo in your chart specification. See the javascript console for the full traceback.`));\n",
       "    }\n",
       "\n",
       "    if(typeof define === \"function\" && define.amd) {\n",
       "      requirejs.config({paths});\n",
       "      require([\"vega-embed\"], displayChart, err => showError(`Error loading script: ${err.message}`));\n",
       "    } else if (typeof vegaEmbed === \"function\") {\n",
       "      displayChart(vegaEmbed);\n",
       "    } else {\n",
       "      loadScript(\"vega\")\n",
       "        .then(() => loadScript(\"vega-lite\"))\n",
       "        .then(() => loadScript(\"vega-embed\"))\n",
       "        .catch(showError)\n",
       "        .then(() => displayChart(vegaEmbed));\n",
       "    }\n",
       "  })({\"config\": {\"view\": {\"continuousWidth\": 400, \"continuousHeight\": 300}}, \"vconcat\": [{\"data\": {\"url\": \"altair-data-5cc401dc90390f5ab139696201c0c7e9.json\", \"format\": {\"type\": \"json\"}}, \"mark\": {\"type\": \"circle\", \"opacity\": 0.7, \"size\": 60}, \"encoding\": {\"color\": {\"type\": \"quantitative\", \"field\": \"nCubeTypes\"}, \"href\": {\"type\": \"nominal\", \"field\": \"url\"}, \"size\": {\"type\": \"quantitative\", \"field\": \"size\"}, \"tooltip\": [{\"type\": \"nominal\", \"field\": \"rule\"}, {\"type\": \"quantitative\", \"field\": \"count\"}, {\"type\": \"quantitative\", \"field\": \"nCubeTypes\"}, {\"type\": \"quantitative\", \"field\": \"size\"}], \"x\": {\"type\": \"quantitative\", \"axis\": {\"tickMinStep\": 1}, \"field\": \"compl\", \"title\": \"Number of colours\"}, \"y\": {\"type\": \"quantitative\", \"field\": \"freq\", \"scale\": {\"type\": \"log\"}, \"title\": \"Frequency\"}}, \"title\": \"1d\"}, {\"data\": {\"url\": \"altair-data-ab1a006625a9f940ed7dc4d97acbe30b.json\", \"format\": {\"type\": \"json\"}}, \"mark\": {\"type\": \"circle\", \"opacity\": 0.7, \"size\": 60}, \"encoding\": {\"color\": {\"type\": \"quantitative\", \"field\": \"nCubeTypes\"}, \"href\": {\"type\": \"nominal\", \"field\": \"url\"}, \"size\": {\"type\": \"quantitative\", \"field\": \"size\"}, \"tooltip\": [{\"type\": \"nominal\", \"field\": \"rule\"}, {\"type\": \"quantitative\", \"field\": \"count\"}, {\"type\": \"quantitative\", \"field\": \"nCubeTypes\"}, {\"type\": \"quantitative\", \"field\": \"size\"}], \"x\": {\"type\": \"quantitative\", \"axis\": {\"tickMinStep\": 1}, \"field\": \"compl\", \"title\": \"Number of colours\"}, \"y\": {\"type\": \"quantitative\", \"field\": \"freq\", \"scale\": {\"type\": \"log\"}, \"title\": \"Frequency\"}}, \"title\": \"2d\"}, {\"data\": {\"url\": \"altair-data-a5bfba97502bf834777911073e88e30a.json\", \"format\": {\"type\": \"json\"}}, \"mark\": {\"type\": \"circle\", \"opacity\": 0.7, \"size\": 60}, \"encoding\": {\"color\": {\"type\": \"quantitative\", \"field\": \"nCubeTypes\"}, \"href\": {\"type\": \"nominal\", \"field\": \"url\"}, \"size\": {\"type\": \"quantitative\", \"field\": \"size\"}, \"tooltip\": [{\"type\": \"nominal\", \"field\": \"rule\"}, {\"type\": \"quantitative\", \"field\": \"count\"}, {\"type\": \"quantitative\", \"field\": \"nCubeTypes\"}, {\"type\": \"quantitative\", \"field\": \"size\"}], \"x\": {\"type\": \"quantitative\", \"axis\": {\"tickMinStep\": 1}, \"field\": \"compl\", \"title\": \"Number of colours\"}, \"y\": {\"type\": \"quantitative\", \"field\": \"freq\", \"scale\": {\"type\": \"log\"}, \"title\": \"Frequency\"}}, \"title\": \"3d\"}], \"$schema\": \"https://vega.github.io/schema/vega-lite/v4.0.2.json\"}, {\"mode\": \"vega-lite\"});\n",
       "</script>"
      ],
      "text/plain": [
       "alt.VConcatChart(...)"
      ]
     },
     "execution_count": 4,
     "metadata": {},
     "output_type": "execute_result"
    }
   ],
   "source": [
    "alt.vconcat(*[\n",
    "    alt.Chart(phenosToDataFrame({\n",
    "    name: utils.loadPhenos(path)\n",
    "})).mark_circle(size=60, opacity=0.7).encode(\n",
    "    alt.X('compl', title=\"Number of colours\", axis=alt.Axis(tickMinStep = 1)),\n",
    "    alt.Y('freq', scale=alt.Scale(type='log'), title=\"Frequency\"),\n",
    "    href='url:N',\n",
    "    size='size',\n",
    "    color='nCubeTypes',\n",
    "    tooltip=['rule','count','nCubeTypes','size']\n",
    ").properties(\n",
    "title=name\n",
    ") for name, path in [\n",
    "    ('1d', '../cpp/out/1d_31c_5t_1e7/phenos'),\n",
    "    ('2d', '../cpp/out/2d_31c_5t_1e7/phenos'),\n",
    "    ('3d', '../cpp/out/3d_31c_5t_1e7/phenos')\n",
    "]])"
   ]
  },
  {
   "cell_type": "code",
   "execution_count": 5,
   "metadata": {},
   "outputs": [
    {
     "data": {
      "text/html": [
       "\n",
       "<div id=\"altair-viz-fdd3ed9a971c47c0b36ece48203c120d\"></div>\n",
       "<script type=\"text/javascript\">\n",
       "  (function(spec, embedOpt){\n",
       "    const outputDiv = document.getElementById(\"altair-viz-fdd3ed9a971c47c0b36ece48203c120d\");\n",
       "    const paths = {\n",
       "      \"vega\": \"https://cdn.jsdelivr.net/npm//vega@5?noext\",\n",
       "      \"vega-lib\": \"https://cdn.jsdelivr.net/npm//vega-lib?noext\",\n",
       "      \"vega-lite\": \"https://cdn.jsdelivr.net/npm//vega-lite@4.0.2?noext\",\n",
       "      \"vega-embed\": \"https://cdn.jsdelivr.net/npm//vega-embed@6?noext\",\n",
       "    };\n",
       "\n",
       "    function loadScript(lib) {\n",
       "      return new Promise(function(resolve, reject) {\n",
       "        var s = document.createElement('script');\n",
       "        s.src = paths[lib];\n",
       "        s.async = true;\n",
       "        s.onload = () => resolve(paths[lib]);\n",
       "        s.onerror = () => reject(`Error loading script: ${paths[lib]}`);\n",
       "        document.getElementsByTagName(\"head\")[0].appendChild(s);\n",
       "      });\n",
       "    }\n",
       "\n",
       "    function showError(err) {\n",
       "      outputDiv.innerHTML = `<div class=\"error\" style=\"color:red;\">${err}</div>`;\n",
       "      throw err;\n",
       "    }\n",
       "\n",
       "    function displayChart(vegaEmbed) {\n",
       "      vegaEmbed(outputDiv, spec, embedOpt)\n",
       "        .catch(err => showError(`Javascript Error: ${err.message}<br>This usually means there's a typo in your chart specification. See the javascript console for the full traceback.`));\n",
       "    }\n",
       "\n",
       "    if(typeof define === \"function\" && define.amd) {\n",
       "      requirejs.config({paths});\n",
       "      require([\"vega-embed\"], displayChart, err => showError(`Error loading script: ${err.message}`));\n",
       "    } else if (typeof vegaEmbed === \"function\") {\n",
       "      displayChart(vegaEmbed);\n",
       "    } else {\n",
       "      loadScript(\"vega\")\n",
       "        .then(() => loadScript(\"vega-lite\"))\n",
       "        .then(() => loadScript(\"vega-embed\"))\n",
       "        .catch(showError)\n",
       "        .then(() => displayChart(vegaEmbed));\n",
       "    }\n",
       "  })({\"config\": {\"view\": {\"continuousWidth\": 400, \"continuousHeight\": 300}}, \"vconcat\": [{\"mark\": {\"type\": \"circle\", \"opacity\": 0.7, \"size\": 60}, \"encoding\": {\"color\": {\"type\": \"nominal\", \"field\": \"dataset\", \"scale\": {\"scheme\": \"set1\"}}, \"href\": {\"type\": \"nominal\", \"field\": \"url\"}, \"size\": {\"type\": \"quantitative\", \"field\": \"size\"}, \"tooltip\": [{\"type\": \"nominal\", \"field\": \"rule\"}, {\"type\": \"nominal\", \"field\": \"dataset\"}, {\"type\": \"quantitative\", \"field\": \"count\"}, {\"type\": \"quantitative\", \"field\": \"size\"}], \"x\": {\"type\": \"quantitative\", \"axis\": {\"tickMinStep\": 1}, \"field\": \"compl\", \"title\": \"Number of colours\"}, \"y\": {\"type\": \"quantitative\", \"field\": \"freq\", \"scale\": {\"type\": \"log\"}, \"title\": \"Frequency\"}}, \"selection\": {\"selector001\": {\"type\": \"interval\", \"bind\": \"scales\", \"encodings\": [\"x\", \"y\"]}}, \"title\": \"Phenotype frequency vs complexity\", \"transform\": [{\"filter\": \"(datum.dataset === '1d')\"}]}, {\"mark\": {\"type\": \"circle\", \"opacity\": 0.7, \"size\": 60}, \"encoding\": {\"color\": {\"type\": \"nominal\", \"field\": \"dataset\", \"scale\": {\"scheme\": \"set1\"}}, \"href\": {\"type\": \"nominal\", \"field\": \"url\"}, \"size\": {\"type\": \"quantitative\", \"field\": \"size\"}, \"tooltip\": [{\"type\": \"nominal\", \"field\": \"rule\"}, {\"type\": \"nominal\", \"field\": \"dataset\"}, {\"type\": \"quantitative\", \"field\": \"count\"}, {\"type\": \"quantitative\", \"field\": \"size\"}], \"x\": {\"type\": \"quantitative\", \"axis\": {\"tickMinStep\": 1}, \"field\": \"compl\", \"title\": \"Number of colours\"}, \"y\": {\"type\": \"quantitative\", \"field\": \"freq\", \"scale\": {\"type\": \"log\"}, \"title\": \"Frequency\"}}, \"selection\": {\"selector001\": {\"type\": \"interval\", \"bind\": \"scales\", \"encodings\": [\"x\", \"y\"]}}, \"title\": \"Phenotype frequency vs complexity\", \"transform\": [{\"filter\": \"(datum.dataset === '2d')\"}]}, {\"mark\": {\"type\": \"circle\", \"opacity\": 0.7, \"size\": 60}, \"encoding\": {\"color\": {\"type\": \"nominal\", \"field\": \"dataset\", \"scale\": {\"scheme\": \"set1\"}}, \"href\": {\"type\": \"nominal\", \"field\": \"url\"}, \"size\": {\"type\": \"quantitative\", \"field\": \"size\"}, \"tooltip\": [{\"type\": \"nominal\", \"field\": \"rule\"}, {\"type\": \"nominal\", \"field\": \"dataset\"}, {\"type\": \"quantitative\", \"field\": \"count\"}, {\"type\": \"quantitative\", \"field\": \"size\"}], \"x\": {\"type\": \"quantitative\", \"axis\": {\"tickMinStep\": 1}, \"field\": \"compl\", \"title\": \"Number of colours\"}, \"y\": {\"type\": \"quantitative\", \"field\": \"freq\", \"scale\": {\"type\": \"log\"}, \"title\": \"Frequency\"}}, \"selection\": {\"selector001\": {\"type\": \"interval\", \"bind\": \"scales\", \"encodings\": [\"x\", \"y\"]}}, \"title\": \"Phenotype frequency vs complexity\", \"transform\": [{\"filter\": \"(datum.dataset === '3d')\"}]}], \"data\": {\"url\": \"altair-data-864da3ba3d95f38c4792e062d6fe7e59.json\", \"format\": {\"type\": \"json\"}}, \"$schema\": \"https://vega.github.io/schema/vega-lite/v4.0.2.json\"}, {\"mode\": \"vega-lite\"});\n",
       "</script>"
      ],
      "text/plain": [
       "alt.VConcatChart(...)"
      ]
     },
     "execution_count": 5,
     "metadata": {},
     "output_type": "execute_result"
    }
   ],
   "source": [
    "(\n",
    "    chart.transform_filter((alt.datum.dataset == '1d')) &\n",
    "    chart.transform_filter((alt.datum.dataset == '2d')) &\n",
    "    chart.transform_filter((alt.datum.dataset == '3d'))\n",
    ")"
   ]
  },
  {
   "cell_type": "code",
   "execution_count": 6,
   "metadata": {},
   "outputs": [
    {
     "data": {
      "text/html": [
       "\n",
       "<div id=\"altair-viz-5c229072c7d1495a8826a8e0bacf434f\"></div>\n",
       "<script type=\"text/javascript\">\n",
       "  (function(spec, embedOpt){\n",
       "    const outputDiv = document.getElementById(\"altair-viz-5c229072c7d1495a8826a8e0bacf434f\");\n",
       "    const paths = {\n",
       "      \"vega\": \"https://cdn.jsdelivr.net/npm//vega@5?noext\",\n",
       "      \"vega-lib\": \"https://cdn.jsdelivr.net/npm//vega-lib?noext\",\n",
       "      \"vega-lite\": \"https://cdn.jsdelivr.net/npm//vega-lite@4.0.2?noext\",\n",
       "      \"vega-embed\": \"https://cdn.jsdelivr.net/npm//vega-embed@6?noext\",\n",
       "    };\n",
       "\n",
       "    function loadScript(lib) {\n",
       "      return new Promise(function(resolve, reject) {\n",
       "        var s = document.createElement('script');\n",
       "        s.src = paths[lib];\n",
       "        s.async = true;\n",
       "        s.onload = () => resolve(paths[lib]);\n",
       "        s.onerror = () => reject(`Error loading script: ${paths[lib]}`);\n",
       "        document.getElementsByTagName(\"head\")[0].appendChild(s);\n",
       "      });\n",
       "    }\n",
       "\n",
       "    function showError(err) {\n",
       "      outputDiv.innerHTML = `<div class=\"error\" style=\"color:red;\">${err}</div>`;\n",
       "      throw err;\n",
       "    }\n",
       "\n",
       "    function displayChart(vegaEmbed) {\n",
       "      vegaEmbed(outputDiv, spec, embedOpt)\n",
       "        .catch(err => showError(`Javascript Error: ${err.message}<br>This usually means there's a typo in your chart specification. See the javascript console for the full traceback.`));\n",
       "    }\n",
       "\n",
       "    if(typeof define === \"function\" && define.amd) {\n",
       "      requirejs.config({paths});\n",
       "      require([\"vega-embed\"], displayChart, err => showError(`Error loading script: ${err.message}`));\n",
       "    } else if (typeof vegaEmbed === \"function\") {\n",
       "      displayChart(vegaEmbed);\n",
       "    } else {\n",
       "      loadScript(\"vega\")\n",
       "        .then(() => loadScript(\"vega-lite\"))\n",
       "        .then(() => loadScript(\"vega-embed\"))\n",
       "        .catch(showError)\n",
       "        .then(() => displayChart(vegaEmbed));\n",
       "    }\n",
       "  })({\"config\": {\"view\": {\"continuousWidth\": 400, \"continuousHeight\": 300}}, \"data\": {\"url\": \"altair-data-864da3ba3d95f38c4792e062d6fe7e59.json\", \"format\": {\"type\": \"json\"}}, \"mark\": {\"type\": \"circle\", \"size\": 60}, \"encoding\": {\"color\": {\"type\": \"nominal\", \"field\": \"dataset\"}, \"href\": {\"type\": \"nominal\", \"field\": \"url\"}, \"tooltip\": [{\"type\": \"nominal\", \"field\": \"rule\"}, {\"type\": \"nominal\", \"field\": \"dataset\"}, {\"type\": \"quantitative\", \"field\": \"count\"}], \"x\": {\"type\": \"quantitative\", \"axis\": {\"tickMinStep\": 1}, \"field\": \"nCubeTypes\", \"title\": \"Number of cube types\"}, \"y\": {\"type\": \"quantitative\", \"field\": \"freq\", \"scale\": {\"type\": \"log\"}, \"title\": \"Frequency\"}}, \"selection\": {\"selector002\": {\"type\": \"interval\", \"bind\": \"scales\", \"encodings\": [\"x\", \"y\"]}}, \"title\": \"Phenotype frequency vs complexity\", \"transform\": [{\"calculate\": \"('https://akodiat.github.io/polycubes?rule=' + datum.rule)\", \"as\": \"url\"}], \"$schema\": \"https://vega.github.io/schema/vega-lite/v4.0.2.json\"}, {\"mode\": \"vega-lite\"});\n",
       "</script>"
      ],
      "text/plain": [
       "alt.Chart(...)"
      ]
     },
     "execution_count": 6,
     "metadata": {},
     "output_type": "execute_result"
    }
   ],
   "source": [
    "alt.Chart(data).transform_calculate(\n",
    "    url='https://akodiat.github.io/polycubes?rule=' + alt.datum.rule\n",
    ").mark_circle(size=60).encode(\n",
    "    alt.X('nCubeTypes', title=\"Number of cube types\", axis=alt.Axis(tickMinStep = 1)),\n",
    "    alt.Y('freq', scale=alt.Scale(type='log'), title=\"Frequency\"),\n",
    "    color='dataset',\n",
    "    href='url:N',\n",
    "    #size = 'size',\n",
    "    tooltip=['rule','dataset', 'count'] #,'size']\n",
    ").properties(\n",
    "title='Phenotype frequency vs complexity'\n",
    ").interactive()"
   ]
  },
  {
   "cell_type": "code",
   "execution_count": 7,
   "metadata": {},
   "outputs": [
    {
     "data": {
      "text/html": [
       "\n",
       "<div id=\"altair-viz-cf04edbba9c946dea36cc7c2f37a85eb\"></div>\n",
       "<script type=\"text/javascript\">\n",
       "  (function(spec, embedOpt){\n",
       "    const outputDiv = document.getElementById(\"altair-viz-cf04edbba9c946dea36cc7c2f37a85eb\");\n",
       "    const paths = {\n",
       "      \"vega\": \"https://cdn.jsdelivr.net/npm//vega@5?noext\",\n",
       "      \"vega-lib\": \"https://cdn.jsdelivr.net/npm//vega-lib?noext\",\n",
       "      \"vega-lite\": \"https://cdn.jsdelivr.net/npm//vega-lite@4.0.2?noext\",\n",
       "      \"vega-embed\": \"https://cdn.jsdelivr.net/npm//vega-embed@6?noext\",\n",
       "    };\n",
       "\n",
       "    function loadScript(lib) {\n",
       "      return new Promise(function(resolve, reject) {\n",
       "        var s = document.createElement('script');\n",
       "        s.src = paths[lib];\n",
       "        s.async = true;\n",
       "        s.onload = () => resolve(paths[lib]);\n",
       "        s.onerror = () => reject(`Error loading script: ${paths[lib]}`);\n",
       "        document.getElementsByTagName(\"head\")[0].appendChild(s);\n",
       "      });\n",
       "    }\n",
       "\n",
       "    function showError(err) {\n",
       "      outputDiv.innerHTML = `<div class=\"error\" style=\"color:red;\">${err}</div>`;\n",
       "      throw err;\n",
       "    }\n",
       "\n",
       "    function displayChart(vegaEmbed) {\n",
       "      vegaEmbed(outputDiv, spec, embedOpt)\n",
       "        .catch(err => showError(`Javascript Error: ${err.message}<br>This usually means there's a typo in your chart specification. See the javascript console for the full traceback.`));\n",
       "    }\n",
       "\n",
       "    if(typeof define === \"function\" && define.amd) {\n",
       "      requirejs.config({paths});\n",
       "      require([\"vega-embed\"], displayChart, err => showError(`Error loading script: ${err.message}`));\n",
       "    } else if (typeof vegaEmbed === \"function\") {\n",
       "      displayChart(vegaEmbed);\n",
       "    } else {\n",
       "      loadScript(\"vega\")\n",
       "        .then(() => loadScript(\"vega-lite\"))\n",
       "        .then(() => loadScript(\"vega-embed\"))\n",
       "        .catch(showError)\n",
       "        .then(() => displayChart(vegaEmbed));\n",
       "    }\n",
       "  })({\"config\": {\"view\": {\"continuousWidth\": 400, \"continuousHeight\": 300}}, \"data\": {\"url\": \"altair-data-864da3ba3d95f38c4792e062d6fe7e59.json\", \"format\": {\"type\": \"json\"}}, \"mark\": {\"type\": \"circle\", \"size\": 60}, \"encoding\": {\"color\": {\"type\": \"nominal\", \"field\": \"dataset\"}, \"href\": {\"type\": \"nominal\", \"field\": \"url\"}, \"tooltip\": [{\"type\": \"nominal\", \"field\": \"rule\"}, {\"type\": \"nominal\", \"field\": \"dataset\"}, {\"type\": \"quantitative\", \"field\": \"count\"}], \"x\": {\"type\": \"quantitative\", \"axis\": {\"tickMinStep\": 1}, \"field\": \"nCubeTypes\", \"title\": \"Number of cube types\"}, \"y\": {\"type\": \"quantitative\", \"field\": \"compl\", \"title\": \"Number of colours\"}}, \"selection\": {\"selector003\": {\"type\": \"interval\", \"bind\": \"scales\", \"encodings\": [\"x\", \"y\"]}}, \"title\": \"Phenotype frequency vs complexity\", \"transform\": [{\"calculate\": \"('https://akodiat.github.io/polycubes?rule=' + datum.rule)\", \"as\": \"url\"}], \"$schema\": \"https://vega.github.io/schema/vega-lite/v4.0.2.json\"}, {\"mode\": \"vega-lite\"});\n",
       "</script>"
      ],
      "text/plain": [
       "alt.Chart(...)"
      ]
     },
     "execution_count": 7,
     "metadata": {},
     "output_type": "execute_result"
    }
   ],
   "source": [
    "alt.Chart(data).transform_calculate(\n",
    "    url='https://akodiat.github.io/polycubes?rule=' + alt.datum.rule\n",
    ").mark_circle(size=60).encode(\n",
    "    alt.X('nCubeTypes', title=\"Number of cube types\", axis=alt.Axis(tickMinStep = 1)),\n",
    "    alt.Y('compl', title=\"Number of colours\"),\n",
    "    color='dataset',\n",
    "    href='url:N',\n",
    "    #size = 'size',\n",
    "    tooltip=['rule','dataset', 'count'] #,'size']\n",
    ").properties(\n",
    "title='Phenotype frequency vs complexity'\n",
    ").interactive()"
   ]
  },
  {
   "cell_type": "code",
   "execution_count": null,
   "metadata": {},
   "outputs": [],
   "source": []
  }
 ],
 "metadata": {
  "kernelspec": {
   "display_name": "Python 3",
   "language": "python",
   "name": "python3"
  },
  "language_info": {
   "codemirror_mode": {
    "name": "ipython",
    "version": 3
   },
   "file_extension": ".py",
   "mimetype": "text/x-python",
   "name": "python",
   "nbconvert_exporter": "python",
   "pygments_lexer": "ipython3",
   "version": "3.6.11"
  }
 },
 "nbformat": 4,
 "nbformat_minor": 4
}
