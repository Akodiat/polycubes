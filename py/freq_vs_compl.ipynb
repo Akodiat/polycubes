{
 "cells": [
  {
   "cell_type": "markdown",
   "metadata": {},
   "source": [
    "# Frequency vs complexity"
   ]
  },
  {
   "cell_type": "markdown",
   "metadata": {},
   "source": [
    "Initial setup:"
   ]
  },
  {
   "cell_type": "code",
   "execution_count": 1,
   "metadata": {},
   "outputs": [],
   "source": [
    "import altair as alt\n",
    "import pickle\n",
    "import pandas as pd\n",
    "\n",
    "def phenosToDataFrame(phenoslist):\n",
    "    data = {}\n",
    "    for dataset, phenos in phenoslist.items():\n",
    "        for n, nmer in phenos.items():\n",
    "            for pheno in nmer:\n",
    "                r = pheno['rule']\n",
    "                data[r] = pheno  \n",
    "                data[r]['dataset'] = dataset\n",
    "                data[r]['size'] = n\n",
    "    return pd.DataFrame(data=data).transpose()\n",
    "\n",
    "def plotFreqVsCompl(data):\n",
    "    return alt.Chart(data).transform_calculate(\n",
    "        url='https://akodiat.github.io/polycubes/view?hexRule=' + alt.datum.rule\n",
    "    ).mark_circle(size=60).encode(\n",
    "        alt.X('compl', title=\"Complexity\"),\n",
    "        alt.Y('freq', scale=alt.Scale(type='log'), title=\"Frequency\"),\n",
    "        color='dataset',\n",
    "        href='url:N',\n",
    "        size = 'size',\n",
    "        tooltip=['rule','dataset','size']\n",
    "    ).properties(\n",
    "    title='Phenotype frequency vs complexity'\n",
    ").interactive()"
   ]
  },
  {
   "cell_type": "markdown",
   "metadata": {},
   "source": [
    "Load data and plot"
   ]
  },
  {
   "cell_type": "code",
   "execution_count": 2,
   "metadata": {},
   "outputs": [
    {
     "data": {
      "text/html": [
       "\n",
       "<div id=\"altair-viz-d25e744f24444389940e2f30ddcf7331\"></div>\n",
       "<script type=\"text/javascript\">\n",
       "  (function(spec, embedOpt){\n",
       "    const outputDiv = document.getElementById(\"altair-viz-d25e744f24444389940e2f30ddcf7331\");\n",
       "    const paths = {\n",
       "      \"vega\": \"https://cdn.jsdelivr.net/npm//vega@5?noext\",\n",
       "      \"vega-lib\": \"https://cdn.jsdelivr.net/npm//vega-lib?noext\",\n",
       "      \"vega-lite\": \"https://cdn.jsdelivr.net/npm//vega-lite@4.0.2?noext\",\n",
       "      \"vega-embed\": \"https://cdn.jsdelivr.net/npm//vega-embed@6?noext\",\n",
       "    };\n",
       "\n",
       "    function loadScript(lib) {\n",
       "      return new Promise(function(resolve, reject) {\n",
       "        var s = document.createElement('script');\n",
       "        s.src = paths[lib];\n",
       "        s.async = true;\n",
       "        s.onload = () => resolve(paths[lib]);\n",
       "        s.onerror = () => reject(`Error loading script: ${paths[lib]}`);\n",
       "        document.getElementsByTagName(\"head\")[0].appendChild(s);\n",
       "      });\n",
       "    }\n",
       "\n",
       "    function showError(err) {\n",
       "      outputDiv.innerHTML = `<div class=\"error\" style=\"color:red;\">${err}</div>`;\n",
       "      throw err;\n",
       "    }\n",
       "\n",
       "    function displayChart(vegaEmbed) {\n",
       "      vegaEmbed(outputDiv, spec, embedOpt)\n",
       "        .catch(err => showError(`Javascript Error: ${err.message}<br>This usually means there's a typo in your chart specification. See the javascript console for the full traceback.`));\n",
       "    }\n",
       "\n",
       "    if(typeof define === \"function\" && define.amd) {\n",
       "      requirejs.config({paths});\n",
       "      require([\"vega-embed\"], displayChart, err => showError(`Error loading script: ${err.message}`));\n",
       "    } else if (typeof vegaEmbed === \"function\") {\n",
       "      displayChart(vegaEmbed);\n",
       "    } else {\n",
       "      loadScript(\"vega\")\n",
       "        .then(() => loadScript(\"vega-lite\"))\n",
       "        .then(() => loadScript(\"vega-embed\"))\n",
       "        .catch(showError)\n",
       "        .then(() => displayChart(vegaEmbed));\n",
       "    }\n",
       "  })({\"config\": {\"view\": {\"continuousWidth\": 400, \"continuousHeight\": 300}}, \"data\": {\"url\": \"altair-data-10b07ce9c5c750d97daf816d516490a5.json\", \"format\": {\"type\": \"json\"}}, \"mark\": {\"type\": \"circle\", \"size\": 60}, \"encoding\": {\"color\": {\"type\": \"nominal\", \"field\": \"dataset\"}, \"href\": {\"type\": \"nominal\", \"field\": \"url\"}, \"size\": {\"type\": \"quantitative\", \"field\": \"size\"}, \"tooltip\": [{\"type\": \"nominal\", \"field\": \"rule\"}, {\"type\": \"nominal\", \"field\": \"dataset\"}, {\"type\": \"quantitative\", \"field\": \"size\"}], \"x\": {\"type\": \"quantitative\", \"field\": \"compl\", \"title\": \"Complexity\"}, \"y\": {\"type\": \"quantitative\", \"field\": \"freq\", \"scale\": {\"type\": \"log\"}, \"title\": \"Frequency\"}}, \"selection\": {\"selector001\": {\"type\": \"interval\", \"bind\": \"scales\", \"encodings\": [\"x\", \"y\"]}}, \"title\": \"Phenotype frequency vs complexity\", \"transform\": [{\"calculate\": \"('https://akodiat.github.io/polycubes/view?hexRule=' + datum.rule)\", \"as\": \"url\"}], \"$schema\": \"https://vega.github.io/schema/vega-lite/v4.0.2.json\"}, {\"mode\": \"vega-lite\"});\n",
       "</script>"
      ],
      "text/plain": [
       "alt.Chart(...)"
      ]
     },
     "execution_count": 2,
     "metadata": {},
     "output_type": "execute_result"
    }
   ],
   "source": [
    "# Load phenotype data\n",
    "data = phenosToDataFrame({\n",
    "    '2d': pickle.load(open('../cpp/out/2d/phenos_1.0E+09_rules_out_2d.p', \"rb\")),\n",
    "    '3d': pickle.load(open('../cpp/out/3d/phenos_1.0E+09_rules_out_3d.p', \"rb\"))\n",
    "})\n",
    "                          \n",
    "# Serialize data on disk to avoid embedding everything\n",
    "alt.data_transformers.enable('json')\n",
    "                          \n",
    "# Plot\n",
    "chart = plotFreqVsCompl(data)\n",
    "chart.save('freq_vs_compl.html')\n",
    "chart"
   ]
  },
  {
   "cell_type": "code",
   "execution_count": null,
   "metadata": {},
   "outputs": [],
   "source": []
  }
 ],
 "metadata": {
  "kernelspec": {
   "display_name": "Python 3",
   "language": "python",
   "name": "python3"
  },
  "language_info": {
   "codemirror_mode": {
    "name": "ipython",
    "version": 3
   },
   "file_extension": ".py",
   "mimetype": "text/x-python",
   "name": "python",
   "nbconvert_exporter": "python",
   "pygments_lexer": "ipython3",
   "version": "3.6.7"
  }
 },
 "nbformat": 4,
 "nbformat_minor": 4
}
