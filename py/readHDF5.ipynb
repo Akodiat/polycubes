{
 "cells": [
  {
   "cell_type": "code",
   "execution_count": 34,
   "metadata": {},
   "outputs": [],
   "source": [
    "import h5py\n",
    "import numpy\n",
    "def parseval(val):\n",
    "    return val if isinstance(val, str) or isinstance(val, numpy.int32) else val.decode()\n",
    "def phenoFromH5(path):\n",
    "    f = h5py.File(path, 'r')\n",
    "    return {n: {shape: [[\n",
    "                parseval(rule) for rule in rules\n",
    "            ] for rules in phenos.values()\n",
    "        ] for shape, phenos in shapegroup.items()\n",
    "    } for n, shapegroup in f.items()}\n",
    "def attrFromH5(path):\n",
    "    return {attr: parseval(val[0]) for attr, val in f.attrs.items()}"
   ]
  },
  {
   "cell_type": "code",
   "execution_count": 36,
   "metadata": {},
   "outputs": [
    {
     "data": {
      "text/plain": [
       "({'nColors': 31,\n",
       "  'nCubeTypes': 5,\n",
       "  'nDimensions': 3,\n",
       "  'nTries': 10,\n",
       "  'assemblyMode': 'stochastic',\n",
       "  'nRules': 1000},\n",
       " {'16-mer': {'5.5.2': [['d11c58413ecfd2952cfccb2fa39e42a509f8f0ee9b671d27cb154188c830']]},\n",
       "  '2-mer': {'2.1.1': [['fc2e01ea2a2dd6d8747c19813fd8213bc3840d185f73d04197e9c1453132',\n",
       "     '6a4b9882f69664db9c179b8156706399df0ff23456ae99f5c49370b8c72b']]},\n",
       "  '3-mer': {'2.2.1': [['e927e5255f135d97267018d671d0914084ad074c5a1ff78e8437f645c815',\n",
       "     '965be508267771441b2910e605384bae26c469ac4089774fff0d1a2f729c',\n",
       "     '35c32b97ff21d54debb55c9fa6cbfe327831441504cac88bbad705add4b0']]},\n",
       "  '4-mer': {'2.2.2': [['e4a65ad01c76b84f35c992be81167f022a1493dce1bb52a43c4f612a3600']],\n",
       "   '3.2.1': [['dabbad2931b9fc52a4451b5f149fea26f24001ce3ecf3ec1f06bfef2ff88',\n",
       "     'dd90c5bce60201740a015bca99f92a974184f578012e5f97f10b9e8ec6f9'],\n",
       "    ['b98adf5896b40232647008e2017297dc6301459a9568630606daf88e26d2',\n",
       "     'b88f9851304be79c50bb4542ea6e9d77160112b8e136e3b31ca45fbac83e']]},\n",
       "  '5-mer': {'2.2.2': [['04a16a30a79e36ec75a8d00f84cde1e328af3f789ab372e5bc9568033ae2']],\n",
       "   '3.2.2': [['b50de58b455e36a5b9401577065545b17bb1dc10b8b9cba7e092d203fa58'],\n",
       "    ['9e0214c430b77c0749085ca05baa8e9c40fbe99f4d8a6397aa7a3862b547'],\n",
       "    ['d43a0173eea1c11bcd0cc29dc61a41fcff1a526f1f316952e1737613ef95'],\n",
       "    ['a45d6d6b2abf071ac2a2186a4de7b2f9e0034b3667ec92f43eba4d514203']]},\n",
       "  '6-mer': {'3.2.2': [['8306b2c33e792ed3891b16ab8f1ceff71a544a9c9e84555128597c1157de']],\n",
       "   '3.3.2': [['f0ba41f3d16d62dc478c67357dd341a30e4fefed1d62b57a78d1be8789c6']],\n",
       "   '4.2.1': [['af5e1ca2e2aa16bb5c2e6dd799f865c87782e4b5f1ed1c76bb0b00dfd324']]},\n",
       "  '7-mer': {'3.2.2': [['ddda33b5c2c449d13349867e1baf5a1911f0c2e13409bcc74530fc03e632'],\n",
       "    ['5865608e8bf183af5fcbb7e3ed0af661145b81c4920eeb9ed9517dee3957']],\n",
       "   '3.3.3': [['065463ff6fddd5b0ade4cde97c3b4a7be43cdc5a6f042e77825494bb91a8']]},\n",
       "  '9-mer': {'4.3.3': [['87c087b320e39b3d2ec580e4b54b832906db20d7cfa972533efe5a01892b']]}})"
      ]
     },
     "execution_count": 36,
     "metadata": {},
     "output_type": "execute_result"
    }
   ],
   "source": [
    "path = '../cpp/out_9239.h5'\n",
    "attrFromH5(path), phenoFromH5(path)"
   ]
  }
 ],
 "metadata": {
  "kernelspec": {
   "display_name": "Python 3",
   "language": "python",
   "name": "python3"
  },
  "language_info": {
   "codemirror_mode": {
    "name": "ipython",
    "version": 3
   },
   "file_extension": ".py",
   "mimetype": "text/x-python",
   "name": "python",
   "nbconvert_exporter": "python",
   "pygments_lexer": "ipython3",
   "version": "3.7.6"
  }
 },
 "nbformat": 4,
 "nbformat_minor": 4
}
