{
 "cells": [
  {
   "cell_type": "code",
   "execution_count": null,
   "metadata": {},
   "outputs": [],
   "source": [
    "import h5py\n",
    "def phenoFromH5(path):\n",
    "    f = h5py.File(path, 'r')\n",
    "    return {n: {shape: [[\n",
    "                (rule if isinstance(rule, str) else rule.decode()) for rule in rules\n",
    "            ] for rules in phenos.values()\n",
    "        ] for shape, phenos in shapegroup.items()\n",
    "    } for n, shapegroup in f.items()}"
   ]
  },
  {
   "cell_type": "code",
   "execution_count": null,
   "metadata": {},
   "outputs": [],
   "source": [
    "phenoFromH5('../cpp/out/out_11913.h5')"
   ]
  }
 ],
 "metadata": {
  "kernelspec": {
   "display_name": "Python 3",
   "language": "python",
   "name": "python3"
  },
  "language_info": {
   "codemirror_mode": {
    "name": "ipython",
    "version": 3
   },
   "file_extension": ".py",
   "mimetype": "text/x-python",
   "name": "python",
   "nbconvert_exporter": "python",
   "pygments_lexer": "ipython3",
   "version": "3.7.6"
  }
 },
 "nbformat": 4,
 "nbformat_minor": 4
}
