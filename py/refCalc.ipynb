{
 "cells": [
  {
   "cell_type": "markdown",
   "id": "963a6d56-c1cf-4665-b528-c755de3188f4",
   "metadata": {},
   "source": [
    "# Reference calculation"
   ]
  },
  {
   "cell_type": "code",
   "execution_count": null,
   "id": "b0cabb2d-bad0-4772-87cf-170cf4f87cca",
   "metadata": {
    "tags": []
   },
   "outputs": [],
   "source": [
    "import utils\n",
    "import altair as alt\n",
    "import pandas as pd\n",
    "import re\n",
    "import math\n",
    "from analysePhenotype import readAnalysed\n",
    "\n",
    "def plotFreq(path, nSampled, nDim, method, minCount=1, nMer = None, saveHTML=False):\n",
    "    title = 'Frequency vs complexity, {:.1E} samples of {}D {}'.format(nSampled, nDim, method)\n",
    "    df = readAnalysed(path)\n",
    "    df = df.loc[df['count'] >= minCount]\n",
    "    df = df.sort_values(['size'], ascending=True)\n",
    "    if nMer is not None:\n",
    "        df = df.loc[df['size'] == nMer]\n",
    "        title = '{}-mer frequency vs complexity, {:.1E} samples of {}D {}'.format(nMer, nSampled, nDim, method)\n",
    "    chart = alt.Chart(df).mark_circle(size=60).encode(\n",
    "        alt.X('minNc:Q', axis=alt.Axis(tickMinStep = 1), title=\"Complexity (number of colours)\"),\n",
    "        alt.Y('freq:Q', scale=alt.Scale(type='log'), title=\"Frequency\"),\n",
    "        href='url:N',\n",
    "        color=alt.Color('size:Q', scale=alt.Scale(scheme=\"inferno\")),\n",
    "        tooltip=['url:N', 'count', 'freq:Q', 'minLz', 'minNc', 'minNt', 'rotsymms', 'reflsymms', 'invsymms']\n",
    "    ).transform_calculate(\n",
    "        freq='datum.count/{}'.format(nSampled),\n",
    "        url='\"https://akodiat.github.io/polycubes/?rule=\"+datum.minLz_r',\n",
    "        symmetries='1+datum.rotsymms+datum.reflsymms+datum.invsymms'\n",
    "    ).properties(\n",
    "        width=200,\n",
    "        height=200\n",
    "    ).properties(title=title)\n",
    "    if saveHTML:\n",
    "        chart.save('freq_vs_compl.html')\n",
    "    return chart"
   ]
  },
  {
   "cell_type": "markdown",
   "id": "c204e69b-245c-4bd8-b7a3-d4846e7bc4bc",
   "metadata": {},
   "source": [
    "## First, let's take a look at the raw data"
   ]
  },
  {
   "cell_type": "code",
   "execution_count": null,
   "id": "932a2c9a-8e5d-4895-84bb-059f4bae6b88",
   "metadata": {},
   "outputs": [],
   "source": [
    "path = '/mnt/extraspace/joakim/refcalc/seeded/2d'\n",
    "!ls -l $path\n",
    "alt.data_transformers.disable_max_rows()"
   ]
  },
  {
   "cell_type": "markdown",
   "id": "08aadc25-d67a-4f62-87bd-8fd7d24bef29",
   "metadata": {},
   "source": [
    "### How much time did it take?"
   ]
  },
  {
   "cell_type": "code",
   "execution_count": null,
   "id": "1c11b23f-1b59-4263-8888-2c99a4edf0ba",
   "metadata": {
    "tags": []
   },
   "outputs": [],
   "source": [
    "! grep \"Total run time\" $path/*.out"
   ]
  },
  {
   "cell_type": "markdown",
   "id": "51ede837-82bd-4c5a-af17-06d066ac74c7",
   "metadata": {},
   "source": [
    "### How large is the file?"
   ]
  },
  {
   "cell_type": "code",
   "execution_count": null,
   "id": "36c6815c-6517-45ee-bd2f-119a99c03358",
   "metadata": {},
   "outputs": [],
   "source": [
    "! ls -lh $path/*.h5"
   ]
  },
  {
   "cell_type": "markdown",
   "id": "80d7054e-bc3e-4ee5-b897-56efda4916ea",
   "metadata": {},
   "source": [
    "## How many did we sample and how many were valid?"
   ]
  },
  {
   "cell_type": "code",
   "execution_count": null,
   "id": "99fa10dd-9fed-485c-9061-57364296e8e7",
   "metadata": {
    "tags": []
   },
   "outputs": [],
   "source": [
    "def statsFromPath(path):\n",
    "    outputMessages = ! grep -h \"Done!\" $path/polycubes*.out\n",
    "    nValid = nUnbounded = nNondet = 0\n",
    "    for row in outputMessages:\n",
    "        nP, nU, nN = [int(n) for n in re.compile('(\\d+)').findall(row)]\n",
    "        nValid += nP\n",
    "        nUnbounded += nU\n",
    "        nNondet += nN\n",
    "    assemblyMode, nDim = path.split('/')[-2:]\n",
    "    df = pd.DataFrame({\n",
    "        'type': ['Valid', 'Non-deterministic', 'Unbounded'],\n",
    "        'count': [nValid, nUnbounded, nNondet]\n",
    "    })\n",
    "    df['assemblyMode'] = assemblyMode\n",
    "    df['nDim'] = nDim\n",
    "    \n",
    "    print('Loaded {} {}:'.format(assemblyMode, nDim))\n",
    "    print('  Sampled {:,d} rules in total'.format(nValid + nNondet + nUnbounded))\n",
    "    print('  Found {:,d} valid rules. Also found {:,d} unbounded and {:,d} nondeterministic rules'.format(nValid, nUnbounded, nNondet))\n",
    "    \n",
    "    return df"
   ]
  },
  {
   "cell_type": "code",
   "execution_count": null,
   "id": "f07fbdef-7bbc-4b31-b8ce-d5c99bad8068",
   "metadata": {},
   "outputs": [],
   "source": [
    "alt.Chart(statsFromPath(path)).mark_bar().encode(\n",
    "    x=alt.X('count:Q', title=\"Samples\"),\n",
    "    y=alt.Y('nDim:N', title=None),\n",
    "    color=alt.Color('type:O', title=\"Rule validity\", scale=alt.Scale(scheme='set1')),\n",
    "    row = alt.Row('assemblyMode', title=None)\n",
    ")"
   ]
  },
  {
   "cell_type": "code",
   "execution_count": null,
   "id": "36098e1c-a65a-44c7-bb88-e491279fac05",
   "metadata": {},
   "outputs": [],
   "source": [
    "import h5py\n",
    "[h5path] = !ls $path/*.h5\n",
    "f = h5py.File(h5path, 'r')"
   ]
  },
  {
   "cell_type": "code",
   "execution_count": null,
   "id": "67042afb-eb82-4a3d-8048-590847f2083b",
   "metadata": {},
   "outputs": [],
   "source": [
    "' '.join([k for k in f.keys()])"
   ]
  },
  {
   "cell_type": "code",
   "execution_count": null,
   "id": "8a1a1cb6-b31e-49bf-abd3-97f59ca35e87",
   "metadata": {},
   "outputs": [],
   "source": [
    "alt.Chart(statsFromPath(path)).mark_bar().encode(\n",
    "    x=alt.X('count:Q', title=\"Samples\"),\n",
    "    color=alt.Color('type:O', title=\"Rule validity\", scale=alt.Scale(scheme='set1'))\n",
    ")"
   ]
  },
  {
   "cell_type": "markdown",
   "id": "af395f2e-292f-4c97-a23a-3c6382fd22a6",
   "metadata": {},
   "source": [
    "## How many phenotypes of each size did we find?"
   ]
  },
  {
   "cell_type": "code",
   "execution_count": null,
   "id": "0861777c-6273-42c0-8e7e-15f0527c29cc",
   "metadata": {},
   "outputs": [],
   "source": [
    "oeisA000988 = [1, 1, 1, 2, 7, 18, 60, 196, 704, 2500, 9189, 33896, 126759, 476270, 1802312, 6849777, 26152418]\n",
    "oeisPlot = alt.Chart(pd.DataFrame({'count': oeisA000988, 'size': range(len(oeisA000988))})\n",
    ").mark_line(color='red').encode(\n",
    "    alt.X(\"size:O\"),\n",
    "    alt.Y(\"count:Q\")\n",
    ")\n",
    "oeisPlot"
   ]
  },
  {
   "cell_type": "code",
   "execution_count": null,
   "id": "09915691-60ab-4448-b8fc-e98bba624cf1",
   "metadata": {},
   "outputs": [],
   "source": [
    "def readAndAssign(path):\n",
    "    [f] = ! ls $path/*.ftr\n",
    "    df = readAnalysed(f)\n",
    "    return df\n",
    "df = readAndAssign(path)\n",
    "chart = alt.Chart(df)"
   ]
  },
  {
   "cell_type": "code",
   "execution_count": null,
   "id": "e982c6ae-fc03-477b-93c7-f6757a5445d4",
   "metadata": {},
   "outputs": [],
   "source": [
    "chart.mark_bar().encode(\n",
    "    alt.X('size:O', title=\"Polyomino size\"),\n",
    "    alt.Y('sum(count):Q', scale=alt.Scale(type='log'), title=\"Rule count\"),\n",
    "    tooltip=['sum(count):Q', \"size\"]\n",
    ").properties(\n",
    "    width=400,\n",
    "    height=200\n",
    ")"
   ]
  },
  {
   "cell_type": "code",
   "execution_count": null,
   "id": "6c7080ef-3935-40b2-912d-93cde643c8d8",
   "metadata": {
    "tags": []
   },
   "outputs": [],
   "source": [
    "chart.mark_bar().encode(\n",
    "    alt.X(\"size:O\", title=\"Polyomino size\"),\n",
    "    alt.Y(\"count()\", scale=alt.Scale(type='log'), title=\"Polyomino count\"),\n",
    "    tooltip=[\"count()\", \"size\"]\n",
    ").properties(\n",
    "    width=400,\n",
    "    height=200\n",
    ") + oeisPlot"
   ]
  },
  {
   "cell_type": "markdown",
   "id": "39990213-657c-44fd-8cfc-cbfba2b2d1ef",
   "metadata": {},
   "source": [
    "## Complexity distributions"
   ]
  },
  {
   "cell_type": "code",
   "execution_count": null,
   "id": "43386aa6-86b1-484f-86e6-ca3c0638b0c0",
   "metadata": {},
   "outputs": [],
   "source": [
    "chart.mark_bar().encode(\n",
    "    alt.X(\"minNc:O\", title=\"Complexity (number of colours)\"),\n",
    "    alt.Y(\"count()\", scale=alt.Scale(type='linear'), title=\"Polyomino count\"),\n",
    "    tooltip=[\"count()\", \"size\"]\n",
    ").properties(\n",
    "    width=400,\n",
    "    height=200,\n",
    "    title='All structures'\n",
    ")"
   ]
  },
  {
   "cell_type": "code",
   "execution_count": null,
   "id": "1089fc8e-fded-44b9-af5f-340d314bddd1",
   "metadata": {},
   "outputs": [],
   "source": [
    "df16 = df.loc[df['size'] == 16]\n",
    "alt.Chart(df16).mark_bar().encode(\n",
    "    alt.X(\"minNc:O\", title=\"Complexity (number of colours)\"),\n",
    "    alt.Y(\"count()\", scale=alt.Scale(type='linear'), title=\"Polyomino count\"),\n",
    "    tooltip=[\"count()\", \"size\"]\n",
    ").properties(\n",
    "    width=400,\n",
    "    height=200,\n",
    "    title='All 16-mers'\n",
    ")"
   ]
  },
  {
   "cell_type": "markdown",
   "id": "793d62ff-3321-4c37-bbc1-1a8398d85592",
   "metadata": {},
   "source": [
    "## Zoo plots"
   ]
  },
  {
   "cell_type": "code",
   "execution_count": null,
   "id": "d081d9b9-6c69-4fa4-bf6a-5cd7933da9f1",
   "metadata": {
    "tags": []
   },
   "outputs": [],
   "source": [
    "def plotZoo(path, size, sampled, dims=[400,400], sizeScaling='log'):\n",
    "    df = readAnalysed(path)\n",
    "    source = df.loc[df['size'] == size]\n",
    "    width = math.ceil(math.sqrt(len(source) * dims[0]/dims[1]))\n",
    "    assemblyMode, nDim = path.split('/')[-3:-1]\n",
    "    return alt.Chart(source).transform_window(\n",
    "        rank=\"rank()\",\n",
    "        sort=[\n",
    "            alt.SortField(\"count\", order=\"descending\"),\n",
    "            alt.SortField(\"minLz_r\", order=\"descending\"), # Needed if counts are equal\n",
    "        ]\n",
    "    ).transform_calculate(\n",
    "        freq='datum.count/{}'.format(sampled),\n",
    "        url='\"https://akodiat.github.io/polycubes/?rule=\"+datum.minLz_r',\n",
    "        row=\"floor((datum.rank-1)/{})\".format(width),\n",
    "        col=\"(datum.rank-1) % {}\".format(width)\n",
    "    ).mark_point(\n",
    "        filled=True, size=100\n",
    "    ).encode(\n",
    "        x=alt.X(\"col:O\", axis=None),\n",
    "        y=alt.Y(\"row:O\", axis=None),\n",
    "        tooltip=['count', 'rank:Q', 'minLz', 'minNc', 'minNt', 'sizeId', 'minNt', 'minLz_r'],\n",
    "        size = alt.Size('freq:Q', title=\"Frequency\", scale=alt.Scale(type=sizeScaling)),\n",
    "        color = alt.Color('freq:Q', scale=alt.Scale(scheme=\"redyellowgreen\")),\n",
    "        href='url:N'\n",
    "    ).properties(\n",
    "        width=dims[0],\n",
    "        height=dims[1],\n",
    "        title = '{}-mer frequencies ({} {})'.format(size, assemblyMode, nDim)\n",
    "    ).configure_view(\n",
    "        strokeWidth=0\n",
    "    )"
   ]
  },
  {
   "cell_type": "code",
   "execution_count": null,
   "id": "bc58185b-1e24-41ca-a967-371da9c0dd4e",
   "metadata": {},
   "outputs": [],
   "source": [
    "plotZoo(path+'/out_18067_analysed.ftr', 16, 1e9, dims=[200,500])"
   ]
  },
  {
   "cell_type": "code",
   "execution_count": null,
   "id": "e569fc88-d38a-4733-a42e-1ac50c6826c8",
   "metadata": {},
   "outputs": [],
   "source": []
  }
 ],
 "metadata": {
  "kernelspec": {
   "display_name": "Python 3",
   "language": "python",
   "name": "python3"
  },
  "language_info": {
   "codemirror_mode": {
    "name": "ipython",
    "version": 3
   },
   "file_extension": ".py",
   "mimetype": "text/x-python",
   "name": "python",
   "nbconvert_exporter": "python",
   "pygments_lexer": "ipython3",
   "version": "3.8.5"
  }
 },
 "nbformat": 4,
 "nbformat_minor": 5
}
