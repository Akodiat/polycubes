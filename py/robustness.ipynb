{
 "cells": [
  {
   "cell_type": "markdown",
   "metadata": {},
   "source": [
    "# Polycube robustness"
   ]
  },
  {
   "cell_type": "code",
   "execution_count": 1,
   "metadata": {},
   "outputs": [],
   "source": [
    "import analyse_output as utils\n",
    "import polycubes\n",
    "import altair as alt\n",
    "import numpy as np\n",
    "import pandas as pd"
   ]
  },
  {
   "cell_type": "markdown",
   "metadata": {},
   "source": [
    "Enumerate all genotypes one point mutation away"
   ]
  },
  {
   "cell_type": "code",
   "execution_count": 2,
   "metadata": {},
   "outputs": [],
   "source": [
    "def enumerateMutations(hexRule, maxColor=8, maxCubes=8, dim=3):\n",
    "    emptyCube = \"000000000000\";\n",
    "    orientations = range(4)\n",
    "    samedir = [1,1,2,0]\n",
    "    colors = range(-maxColor, maxColor+1)\n",
    "    # Pad with empty cubes\n",
    "    while len(hexRule) < maxCubes * len(emptyCube):\n",
    "        hexRule += emptyCube;\n",
    "        \n",
    "    mutations = []\n",
    "    rule = utils.parseHexRule(hexRule)\n",
    "    for i, cube in enumerate(rule):\n",
    "        for j, face in enumerate(cube):\n",
    "            for color in colors:\n",
    "                if color != face['color']:\n",
    "                    newRule = utils.parseHexRule(hexRule);\n",
    "                    newRule[i][j]['color'] = color\n",
    "                    mutations.append(utils.ruleToHex(newRule))\n",
    "            if dim == 3:\n",
    "                for orientation in orientations:\n",
    "                    if orientation != face['orientation']:\n",
    "                        newRule = utils.parseHexRule(hexRule);\n",
    "                        newRule[i][j]['orientation'] = orientation\n",
    "                        mutations.append(utils.ruleToHex(newRule))\n",
    "    return mutations;"
   ]
  },
  {
   "cell_type": "markdown",
   "metadata": {},
   "source": [
    "## Genotype robustness"
   ]
  },
  {
   "cell_type": "markdown",
   "metadata": {},
   "source": [
    "Calculate the fraction of mutational neigbours that produce the same phenotype:"
   ]
  },
  {
   "cell_type": "code",
   "execution_count": 3,
   "metadata": {},
   "outputs": [],
   "source": [
    "def calcGenotypeRobustness(hexRule, maxColor=8, maxCubes=8, dim=3):\n",
    "    mutations = enumerateMutations(hexRule, maxColor, maxCubes, dim);\n",
    "    nEqual = sum(polycubes.checkEquality(hexRule, mutant) for mutant in mutations)\n",
    "    return nEqual / len(mutations)"
   ]
  },
  {
   "cell_type": "markdown",
   "metadata": {},
   "source": [
    "Test for a small example square:"
   ]
  },
  {
   "cell_type": "code",
   "execution_count": 4,
   "metadata": {},
   "outputs": [
    {
     "data": {
      "text/plain": [
       "0.7592592592592593"
      ]
     },
     "execution_count": 4,
     "metadata": {},
     "output_type": "execute_result"
    }
   ],
   "source": [
    "calcGenotypeRobustness('040087000000', 3, 2)"
   ]
  },
  {
   "cell_type": "markdown",
   "metadata": {},
   "source": [
    " If we allow a larger phenotype space the robustness will be higher, since there are more room for neutral mutations:"
   ]
  },
  {
   "cell_type": "code",
   "execution_count": 5,
   "metadata": {},
   "outputs": [
    {
     "data": {
      "text/html": [
       "\n",
       "<div id=\"altair-viz-3339387d912c432080a3bbc5ed9152e8\"></div>\n",
       "<script type=\"text/javascript\">\n",
       "  (function(spec, embedOpt){\n",
       "    let outputDiv = document.currentScript.previousElementSibling;\n",
       "    if (outputDiv.id !== \"altair-viz-3339387d912c432080a3bbc5ed9152e8\") {\n",
       "      outputDiv = document.getElementById(\"altair-viz-3339387d912c432080a3bbc5ed9152e8\");\n",
       "    }\n",
       "    const paths = {\n",
       "      \"vega\": \"https://cdn.jsdelivr.net/npm//vega@5?noext\",\n",
       "      \"vega-lib\": \"https://cdn.jsdelivr.net/npm//vega-lib?noext\",\n",
       "      \"vega-lite\": \"https://cdn.jsdelivr.net/npm//vega-lite@4.8.1?noext\",\n",
       "      \"vega-embed\": \"https://cdn.jsdelivr.net/npm//vega-embed@6?noext\",\n",
       "    };\n",
       "\n",
       "    function loadScript(lib) {\n",
       "      return new Promise(function(resolve, reject) {\n",
       "        var s = document.createElement('script');\n",
       "        s.src = paths[lib];\n",
       "        s.async = true;\n",
       "        s.onload = () => resolve(paths[lib]);\n",
       "        s.onerror = () => reject(`Error loading script: ${paths[lib]}`);\n",
       "        document.getElementsByTagName(\"head\")[0].appendChild(s);\n",
       "      });\n",
       "    }\n",
       "\n",
       "    function showError(err) {\n",
       "      outputDiv.innerHTML = `<div class=\"error\" style=\"color:red;\">${err}</div>`;\n",
       "      throw err;\n",
       "    }\n",
       "\n",
       "    function displayChart(vegaEmbed) {\n",
       "      vegaEmbed(outputDiv, spec, embedOpt)\n",
       "        .catch(err => showError(`Javascript Error: ${err.message}<br>This usually means there's a typo in your chart specification. See the javascript console for the full traceback.`));\n",
       "    }\n",
       "\n",
       "    if(typeof define === \"function\" && define.amd) {\n",
       "      requirejs.config({paths});\n",
       "      require([\"vega-embed\"], displayChart, err => showError(`Error loading script: ${err.message}`));\n",
       "    } else if (typeof vegaEmbed === \"function\") {\n",
       "      displayChart(vegaEmbed);\n",
       "    } else {\n",
       "      loadScript(\"vega\")\n",
       "        .then(() => loadScript(\"vega-lite\"))\n",
       "        .then(() => loadScript(\"vega-embed\"))\n",
       "        .catch(showError)\n",
       "        .then(() => displayChart(vegaEmbed));\n",
       "    }\n",
       "  })({\"config\": {\"view\": {\"continuousWidth\": 400, \"continuousHeight\": 300}}, \"data\": {\"name\": \"data-c8bac173c41342422ab842763a60cc07\"}, \"mark\": \"rect\", \"encoding\": {\"color\": {\"type\": \"quantitative\", \"field\": \"robustness\"}, \"x\": {\"type\": \"ordinal\", \"field\": \"maxCol\"}, \"y\": {\"type\": \"ordinal\", \"field\": \"maxCubes\"}}, \"$schema\": \"https://vega.github.io/schema/vega-lite/v4.8.1.json\", \"datasets\": {\"data-c8bac173c41342422ab842763a60cc07\": [{\"maxCol\": 1, \"maxCubes\": 1, \"robustness\": 0.4}, {\"maxCol\": 1, \"maxCubes\": 2, \"robustness\": 0.7}, {\"maxCol\": 1, \"maxCubes\": 3, \"robustness\": 0.8}, {\"maxCol\": 1, \"maxCubes\": 4, \"robustness\": 0.85}, {\"maxCol\": 1, \"maxCubes\": 5, \"robustness\": 0.88}, {\"maxCol\": 1, \"maxCubes\": 6, \"robustness\": 0.9}, {\"maxCol\": 1, \"maxCubes\": 7, \"robustness\": 0.9142857142857143}, {\"maxCol\": 1, \"maxCubes\": 8, \"robustness\": 0.925}, {\"maxCol\": 1, \"maxCubes\": 9, \"robustness\": 0.9333333333333333}, {\"maxCol\": 2, \"maxCubes\": 1, \"robustness\": 0.47619047619047616}, {\"maxCol\": 2, \"maxCubes\": 2, \"robustness\": 0.7380952380952381}, {\"maxCol\": 2, \"maxCubes\": 3, \"robustness\": 0.8253968253968254}, {\"maxCol\": 2, \"maxCubes\": 4, \"robustness\": 0.8690476190476191}, {\"maxCol\": 2, \"maxCubes\": 5, \"robustness\": 0.8952380952380953}, {\"maxCol\": 2, \"maxCubes\": 6, \"robustness\": 0.9126984126984127}, {\"maxCol\": 2, \"maxCubes\": 7, \"robustness\": 0.9251700680272109}, {\"maxCol\": 2, \"maxCubes\": 8, \"robustness\": 0.9345238095238095}, {\"maxCol\": 2, \"maxCubes\": 9, \"robustness\": 0.9417989417989417}, {\"maxCol\": 3, \"maxCubes\": 1, \"robustness\": 0.5185185185185185}, {\"maxCol\": 3, \"maxCubes\": 2, \"robustness\": 0.7592592592592593}, {\"maxCol\": 3, \"maxCubes\": 3, \"robustness\": 0.8395061728395061}, {\"maxCol\": 3, \"maxCubes\": 4, \"robustness\": 0.8796296296296297}, {\"maxCol\": 3, \"maxCubes\": 5, \"robustness\": 0.9037037037037037}, {\"maxCol\": 3, \"maxCubes\": 6, \"robustness\": 0.9197530864197531}, {\"maxCol\": 3, \"maxCubes\": 7, \"robustness\": 0.9312169312169312}, {\"maxCol\": 3, \"maxCubes\": 8, \"robustness\": 0.9398148148148148}, {\"maxCol\": 3, \"maxCubes\": 9, \"robustness\": 0.9465020576131687}, {\"maxCol\": 4, \"maxCubes\": 1, \"robustness\": 0.5454545454545454}, {\"maxCol\": 4, \"maxCubes\": 2, \"robustness\": 0.7727272727272727}, {\"maxCol\": 4, \"maxCubes\": 3, \"robustness\": 0.8484848484848485}, {\"maxCol\": 4, \"maxCubes\": 4, \"robustness\": 0.8863636363636364}, {\"maxCol\": 4, \"maxCubes\": 5, \"robustness\": 0.9090909090909091}, {\"maxCol\": 4, \"maxCubes\": 6, \"robustness\": 0.9242424242424242}, {\"maxCol\": 4, \"maxCubes\": 7, \"robustness\": 0.935064935064935}, {\"maxCol\": 4, \"maxCubes\": 8, \"robustness\": 0.9431818181818182}, {\"maxCol\": 4, \"maxCubes\": 9, \"robustness\": 0.9494949494949495}, {\"maxCol\": 5, \"maxCubes\": 1, \"robustness\": 0.5641025641025641}, {\"maxCol\": 5, \"maxCubes\": 2, \"robustness\": 0.782051282051282}, {\"maxCol\": 5, \"maxCubes\": 3, \"robustness\": 0.8547008547008547}, {\"maxCol\": 5, \"maxCubes\": 4, \"robustness\": 0.8910256410256411}, {\"maxCol\": 5, \"maxCubes\": 5, \"robustness\": 0.9128205128205128}, {\"maxCol\": 5, \"maxCubes\": 6, \"robustness\": 0.9273504273504274}, {\"maxCol\": 5, \"maxCubes\": 7, \"robustness\": 0.9377289377289377}, {\"maxCol\": 5, \"maxCubes\": 8, \"robustness\": 0.9455128205128205}, {\"maxCol\": 5, \"maxCubes\": 9, \"robustness\": 0.9515669515669516}, {\"maxCol\": 6, \"maxCubes\": 1, \"robustness\": 0.5777777777777777}, {\"maxCol\": 6, \"maxCubes\": 2, \"robustness\": 0.7888888888888889}, {\"maxCol\": 6, \"maxCubes\": 3, \"robustness\": 0.8592592592592593}, {\"maxCol\": 6, \"maxCubes\": 4, \"robustness\": 0.8944444444444445}, {\"maxCol\": 6, \"maxCubes\": 5, \"robustness\": 0.9155555555555556}, {\"maxCol\": 6, \"maxCubes\": 6, \"robustness\": 0.9296296296296296}, {\"maxCol\": 6, \"maxCubes\": 7, \"robustness\": 0.9396825396825397}, {\"maxCol\": 6, \"maxCubes\": 8, \"robustness\": 0.9472222222222222}, {\"maxCol\": 6, \"maxCubes\": 9, \"robustness\": 0.9530864197530864}, {\"maxCol\": 7, \"maxCubes\": 1, \"robustness\": 0.5882352941176471}, {\"maxCol\": 7, \"maxCubes\": 2, \"robustness\": 0.7941176470588235}, {\"maxCol\": 7, \"maxCubes\": 3, \"robustness\": 0.8627450980392157}, {\"maxCol\": 7, \"maxCubes\": 4, \"robustness\": 0.8970588235294118}, {\"maxCol\": 7, \"maxCubes\": 5, \"robustness\": 0.9176470588235294}, {\"maxCol\": 7, \"maxCubes\": 6, \"robustness\": 0.9313725490196079}, {\"maxCol\": 7, \"maxCubes\": 7, \"robustness\": 0.9411764705882353}, {\"maxCol\": 7, \"maxCubes\": 8, \"robustness\": 0.9485294117647058}, {\"maxCol\": 7, \"maxCubes\": 9, \"robustness\": 0.954248366013072}, {\"maxCol\": 8, \"maxCubes\": 1, \"robustness\": 0.5964912280701754}, {\"maxCol\": 8, \"maxCubes\": 2, \"robustness\": 0.7982456140350878}, {\"maxCol\": 8, \"maxCubes\": 3, \"robustness\": 0.8654970760233918}, {\"maxCol\": 8, \"maxCubes\": 4, \"robustness\": 0.8991228070175439}, {\"maxCol\": 8, \"maxCubes\": 5, \"robustness\": 0.9192982456140351}, {\"maxCol\": 8, \"maxCubes\": 6, \"robustness\": 0.9327485380116959}, {\"maxCol\": 8, \"maxCubes\": 7, \"robustness\": 0.9423558897243107}, {\"maxCol\": 8, \"maxCubes\": 8, \"robustness\": 0.9495614035087719}, {\"maxCol\": 8, \"maxCubes\": 9, \"robustness\": 0.9551656920077972}, {\"maxCol\": 9, \"maxCubes\": 1, \"robustness\": 0.6031746031746031}, {\"maxCol\": 9, \"maxCubes\": 2, \"robustness\": 0.8015873015873016}, {\"maxCol\": 9, \"maxCubes\": 3, \"robustness\": 0.8677248677248677}, {\"maxCol\": 9, \"maxCubes\": 4, \"robustness\": 0.9007936507936508}, {\"maxCol\": 9, \"maxCubes\": 5, \"robustness\": 0.9206349206349206}, {\"maxCol\": 9, \"maxCubes\": 6, \"robustness\": 0.9338624338624338}, {\"maxCol\": 9, \"maxCubes\": 7, \"robustness\": 0.9433106575963719}, {\"maxCol\": 9, \"maxCubes\": 8, \"robustness\": 0.9503968253968254}, {\"maxCol\": 9, \"maxCubes\": 9, \"robustness\": 0.9559082892416225}]}}, {\"mode\": \"vega-lite\"});\n",
       "</script>"
      ],
      "text/plain": [
       "alt.Chart(...)"
      ]
     },
     "execution_count": 5,
     "metadata": {},
     "output_type": "execute_result"
    }
   ],
   "source": [
    "data = []\n",
    "for maxCol in range(1,10):\n",
    "    for maxCubes in range(1,10):\n",
    "        robustness = calcGenotypeRobustness('040087000000', maxCol, maxCubes)\n",
    "        data.append({'maxCol': maxCol, 'maxCubes': maxCubes, 'robustness': robustness})\n",
    "alt.Chart(pd.DataFrame(data=data)).mark_rect().encode(\n",
    "    x='maxCol:O',\n",
    "    y='maxCubes:O',\n",
    "    color='robustness'\n",
    ")"
   ]
  },
  {
   "cell_type": "code",
   "execution_count": null,
   "metadata": {},
   "outputs": [],
   "source": []
  }
 ],
 "metadata": {
  "kernelspec": {
   "display_name": "Python 3",
   "language": "python",
   "name": "python3"
  },
  "language_info": {
   "codemirror_mode": {
    "name": "ipython",
    "version": 3
   },
   "file_extension": ".py",
   "mimetype": "text/x-python",
   "name": "python",
   "nbconvert_exporter": "python",
   "pygments_lexer": "ipython3",
   "version": "3.7.6"
  }
 },
 "nbformat": 4,
 "nbformat_minor": 4
}
