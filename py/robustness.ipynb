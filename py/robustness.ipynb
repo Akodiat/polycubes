{
 "cells": [
  {
   "cell_type": "markdown",
   "metadata": {},
   "source": [
    "# Polycube robustness"
   ]
  },
  {
   "cell_type": "code",
   "execution_count": 1,
   "metadata": {},
   "outputs": [],
   "source": [
    "import robustness\n",
    "import altair as alt\n",
    "import pandas as pd\n",
    "import pickle"
   ]
  },
  {
   "cell_type": "markdown",
   "metadata": {},
   "source": [
    "Let's start by calculating $N_g$, the set of genotype neighbours one point mutation away from a given genotype $g$. Depending on the allowed amount of colors,input size and dimentionality, the corresponding neigbourhood will be of different sizes, as we shall see later. \n",
    "\n",
    "As an initial example, this is the number of 2D mutations for the genotype of a 2x2 square, if we allow only one color and one cube type:"
   ]
  },
  {
   "cell_type": "code",
   "execution_count": 2,
   "metadata": {},
   "outputs": [
    {
     "data": {
      "text/plain": [
       "'840087000000, 000087000000, 048487000000, 040487000000, 040003000000, 040007000000, 040087840000, 040087040000, 040087008400, 040087000400, 040087000084, 040087000004'"
      ]
     },
     "execution_count": 2,
     "metadata": {},
     "output_type": "execute_result"
    }
   ],
   "source": [
    "', '.join(robustness.enumerateMutations('040087000000', maxColor=1, maxCubes=1, dim=2))"
   ]
  },
  {
   "cell_type": "markdown",
   "metadata": {},
   "source": [
    "## Genotype robustness"
   ]
  },
  {
   "cell_type": "markdown",
   "metadata": {},
   "source": [
    "We define the genotype robustness $\\rho_g$ of a genotype $g$ as:\n",
    "$$ \\rho_g = \\frac{1}{\\left | N_g \\right |}\\sum_{n \\in N_g} \\begin{cases}\n",
    " 1 & \\text{ if } p(n)=p(g) \\\\ \n",
    " 0 & \\text{ otherwise } \n",
    "\\end{cases} $$\n",
    "where $N_g$ is the set of 1-mutant neigbours of $g$ and $p(g)$ is the phenotype assembled from genotype $g$.\n",
    "\n",
    "Let's calculate the robustness for the same genotype as before. This time in the default 3D with a maximum of 3 colours and 2 cube types"
   ]
  },
  {
   "cell_type": "code",
   "execution_count": 3,
   "metadata": {},
   "outputs": [
    {
     "data": {
      "text/plain": [
       "0.7592592592592593"
      ]
     },
     "execution_count": 3,
     "metadata": {},
     "output_type": "execute_result"
    }
   ],
   "source": [
    "robustness.calcGenotypeRobustness('040087000000', 3, 2)"
   ]
  },
  {
   "cell_type": "markdown",
   "metadata": {},
   "source": [
    " If we allow a larger phenotype space the robustness will be higher, since there is more room for neutral mutations:"
   ]
  },
  {
   "cell_type": "code",
   "execution_count": 4,
   "metadata": {},
   "outputs": [
    {
     "data": {
      "text/html": [
       "\n",
       "<div id=\"altair-viz-903284ef90b44aaa83adff6e1dc67f5a\"></div>\n",
       "<script type=\"text/javascript\">\n",
       "  (function(spec, embedOpt){\n",
       "    const outputDiv = document.getElementById(\"altair-viz-903284ef90b44aaa83adff6e1dc67f5a\");\n",
       "    const paths = {\n",
       "      \"vega\": \"https://cdn.jsdelivr.net/npm//vega@5?noext\",\n",
       "      \"vega-lib\": \"https://cdn.jsdelivr.net/npm//vega-lib?noext\",\n",
       "      \"vega-lite\": \"https://cdn.jsdelivr.net/npm//vega-lite@4.0.2?noext\",\n",
       "      \"vega-embed\": \"https://cdn.jsdelivr.net/npm//vega-embed@6?noext\",\n",
       "    };\n",
       "\n",
       "    function loadScript(lib) {\n",
       "      return new Promise(function(resolve, reject) {\n",
       "        var s = document.createElement('script');\n",
       "        s.src = paths[lib];\n",
       "        s.async = true;\n",
       "        s.onload = () => resolve(paths[lib]);\n",
       "        s.onerror = () => reject(`Error loading script: ${paths[lib]}`);\n",
       "        document.getElementsByTagName(\"head\")[0].appendChild(s);\n",
       "      });\n",
       "    }\n",
       "\n",
       "    function showError(err) {\n",
       "      outputDiv.innerHTML = `<div class=\"error\" style=\"color:red;\">${err}</div>`;\n",
       "      throw err;\n",
       "    }\n",
       "\n",
       "    function displayChart(vegaEmbed) {\n",
       "      vegaEmbed(outputDiv, spec, embedOpt)\n",
       "        .catch(err => showError(`Javascript Error: ${err.message}<br>This usually means there's a typo in your chart specification. See the javascript console for the full traceback.`));\n",
       "    }\n",
       "\n",
       "    if(typeof define === \"function\" && define.amd) {\n",
       "      requirejs.config({paths});\n",
       "      require([\"vega-embed\"], displayChart, err => showError(`Error loading script: ${err.message}`));\n",
       "    } else if (typeof vegaEmbed === \"function\") {\n",
       "      displayChart(vegaEmbed);\n",
       "    } else {\n",
       "      loadScript(\"vega\")\n",
       "        .then(() => loadScript(\"vega-lite\"))\n",
       "        .then(() => loadScript(\"vega-embed\"))\n",
       "        .catch(showError)\n",
       "        .then(() => displayChart(vegaEmbed));\n",
       "    }\n",
       "  })({\"config\": {\"view\": {\"continuousWidth\": 400, \"continuousHeight\": 300}}, \"data\": {\"name\": \"data-c8bac173c41342422ab842763a60cc07\"}, \"mark\": \"rect\", \"encoding\": {\"color\": {\"type\": \"quantitative\", \"field\": \"robustness\", \"scale\": {\"domain\": [0, 1]}}, \"x\": {\"type\": \"ordinal\", \"field\": \"maxCol\", \"title\": \"Allowed colors\"}, \"y\": {\"type\": \"ordinal\", \"field\": \"maxCubes\", \"title\": \"Allowed cube types\"}}, \"$schema\": \"https://vega.github.io/schema/vega-lite/v4.0.2.json\", \"datasets\": {\"data-c8bac173c41342422ab842763a60cc07\": [{\"maxCol\": 1, \"maxCubes\": 1, \"robustness\": 0.4}, {\"maxCol\": 1, \"maxCubes\": 2, \"robustness\": 0.7}, {\"maxCol\": 1, \"maxCubes\": 3, \"robustness\": 0.8}, {\"maxCol\": 1, \"maxCubes\": 4, \"robustness\": 0.85}, {\"maxCol\": 1, \"maxCubes\": 5, \"robustness\": 0.88}, {\"maxCol\": 1, \"maxCubes\": 6, \"robustness\": 0.9}, {\"maxCol\": 1, \"maxCubes\": 7, \"robustness\": 0.9142857142857143}, {\"maxCol\": 1, \"maxCubes\": 8, \"robustness\": 0.925}, {\"maxCol\": 1, \"maxCubes\": 9, \"robustness\": 0.9333333333333333}, {\"maxCol\": 2, \"maxCubes\": 1, \"robustness\": 0.47619047619047616}, {\"maxCol\": 2, \"maxCubes\": 2, \"robustness\": 0.7380952380952381}, {\"maxCol\": 2, \"maxCubes\": 3, \"robustness\": 0.8253968253968254}, {\"maxCol\": 2, \"maxCubes\": 4, \"robustness\": 0.8690476190476191}, {\"maxCol\": 2, \"maxCubes\": 5, \"robustness\": 0.8952380952380953}, {\"maxCol\": 2, \"maxCubes\": 6, \"robustness\": 0.9126984126984127}, {\"maxCol\": 2, \"maxCubes\": 7, \"robustness\": 0.9251700680272109}, {\"maxCol\": 2, \"maxCubes\": 8, \"robustness\": 0.9345238095238095}, {\"maxCol\": 2, \"maxCubes\": 9, \"robustness\": 0.9417989417989417}, {\"maxCol\": 3, \"maxCubes\": 1, \"robustness\": 0.5185185185185185}, {\"maxCol\": 3, \"maxCubes\": 2, \"robustness\": 0.7592592592592593}, {\"maxCol\": 3, \"maxCubes\": 3, \"robustness\": 0.8395061728395061}, {\"maxCol\": 3, \"maxCubes\": 4, \"robustness\": 0.8796296296296297}, {\"maxCol\": 3, \"maxCubes\": 5, \"robustness\": 0.9037037037037037}, {\"maxCol\": 3, \"maxCubes\": 6, \"robustness\": 0.9197530864197531}, {\"maxCol\": 3, \"maxCubes\": 7, \"robustness\": 0.9312169312169312}, {\"maxCol\": 3, \"maxCubes\": 8, \"robustness\": 0.9398148148148148}, {\"maxCol\": 3, \"maxCubes\": 9, \"robustness\": 0.9465020576131687}, {\"maxCol\": 4, \"maxCubes\": 1, \"robustness\": 0.5454545454545454}, {\"maxCol\": 4, \"maxCubes\": 2, \"robustness\": 0.7727272727272727}, {\"maxCol\": 4, \"maxCubes\": 3, \"robustness\": 0.8484848484848485}, {\"maxCol\": 4, \"maxCubes\": 4, \"robustness\": 0.8863636363636364}, {\"maxCol\": 4, \"maxCubes\": 5, \"robustness\": 0.9090909090909091}, {\"maxCol\": 4, \"maxCubes\": 6, \"robustness\": 0.9242424242424242}, {\"maxCol\": 4, \"maxCubes\": 7, \"robustness\": 0.935064935064935}, {\"maxCol\": 4, \"maxCubes\": 8, \"robustness\": 0.9431818181818182}, {\"maxCol\": 4, \"maxCubes\": 9, \"robustness\": 0.9494949494949495}, {\"maxCol\": 5, \"maxCubes\": 1, \"robustness\": 0.5641025641025641}, {\"maxCol\": 5, \"maxCubes\": 2, \"robustness\": 0.782051282051282}, {\"maxCol\": 5, \"maxCubes\": 3, \"robustness\": 0.8547008547008547}, {\"maxCol\": 5, \"maxCubes\": 4, \"robustness\": 0.8910256410256411}, {\"maxCol\": 5, \"maxCubes\": 5, \"robustness\": 0.9128205128205128}, {\"maxCol\": 5, \"maxCubes\": 6, \"robustness\": 0.9273504273504274}, {\"maxCol\": 5, \"maxCubes\": 7, \"robustness\": 0.9377289377289377}, {\"maxCol\": 5, \"maxCubes\": 8, \"robustness\": 0.9455128205128205}, {\"maxCol\": 5, \"maxCubes\": 9, \"robustness\": 0.9515669515669516}, {\"maxCol\": 6, \"maxCubes\": 1, \"robustness\": 0.5777777777777777}, {\"maxCol\": 6, \"maxCubes\": 2, \"robustness\": 0.7888888888888889}, {\"maxCol\": 6, \"maxCubes\": 3, \"robustness\": 0.8592592592592593}, {\"maxCol\": 6, \"maxCubes\": 4, \"robustness\": 0.8944444444444445}, {\"maxCol\": 6, \"maxCubes\": 5, \"robustness\": 0.9155555555555556}, {\"maxCol\": 6, \"maxCubes\": 6, \"robustness\": 0.9296296296296296}, {\"maxCol\": 6, \"maxCubes\": 7, \"robustness\": 0.9396825396825397}, {\"maxCol\": 6, \"maxCubes\": 8, \"robustness\": 0.9472222222222222}, {\"maxCol\": 6, \"maxCubes\": 9, \"robustness\": 0.9530864197530864}, {\"maxCol\": 7, \"maxCubes\": 1, \"robustness\": 0.5882352941176471}, {\"maxCol\": 7, \"maxCubes\": 2, \"robustness\": 0.7941176470588235}, {\"maxCol\": 7, \"maxCubes\": 3, \"robustness\": 0.8627450980392157}, {\"maxCol\": 7, \"maxCubes\": 4, \"robustness\": 0.8970588235294118}, {\"maxCol\": 7, \"maxCubes\": 5, \"robustness\": 0.9176470588235294}, {\"maxCol\": 7, \"maxCubes\": 6, \"robustness\": 0.9313725490196079}, {\"maxCol\": 7, \"maxCubes\": 7, \"robustness\": 0.9411764705882353}, {\"maxCol\": 7, \"maxCubes\": 8, \"robustness\": 0.9485294117647058}, {\"maxCol\": 7, \"maxCubes\": 9, \"robustness\": 0.954248366013072}, {\"maxCol\": 8, \"maxCubes\": 1, \"robustness\": 0.5964912280701754}, {\"maxCol\": 8, \"maxCubes\": 2, \"robustness\": 0.7982456140350878}, {\"maxCol\": 8, \"maxCubes\": 3, \"robustness\": 0.8654970760233918}, {\"maxCol\": 8, \"maxCubes\": 4, \"robustness\": 0.8991228070175439}, {\"maxCol\": 8, \"maxCubes\": 5, \"robustness\": 0.9192982456140351}, {\"maxCol\": 8, \"maxCubes\": 6, \"robustness\": 0.9327485380116959}, {\"maxCol\": 8, \"maxCubes\": 7, \"robustness\": 0.9423558897243107}, {\"maxCol\": 8, \"maxCubes\": 8, \"robustness\": 0.9495614035087719}, {\"maxCol\": 8, \"maxCubes\": 9, \"robustness\": 0.9551656920077972}, {\"maxCol\": 9, \"maxCubes\": 1, \"robustness\": 0.6031746031746031}, {\"maxCol\": 9, \"maxCubes\": 2, \"robustness\": 0.8015873015873016}, {\"maxCol\": 9, \"maxCubes\": 3, \"robustness\": 0.8677248677248677}, {\"maxCol\": 9, \"maxCubes\": 4, \"robustness\": 0.9007936507936508}, {\"maxCol\": 9, \"maxCubes\": 5, \"robustness\": 0.9206349206349206}, {\"maxCol\": 9, \"maxCubes\": 6, \"robustness\": 0.9338624338624338}, {\"maxCol\": 9, \"maxCubes\": 7, \"robustness\": 0.9433106575963719}, {\"maxCol\": 9, \"maxCubes\": 8, \"robustness\": 0.9503968253968254}, {\"maxCol\": 9, \"maxCubes\": 9, \"robustness\": 0.9559082892416225}]}}, {\"mode\": \"vega-lite\"});\n",
       "</script>"
      ],
      "text/plain": [
       "alt.Chart(...)"
      ]
     },
     "execution_count": 4,
     "metadata": {},
     "output_type": "execute_result"
    }
   ],
   "source": [
    "genotypeRobustnessData = []\n",
    "for maxCol in range(1,10):\n",
    "    for maxCubes in range(1,10):\n",
    "        genotypeRobustnessData.append({\n",
    "            'maxCol': maxCol,\n",
    "            'maxCubes': maxCubes,\n",
    "            'robustness': robustness.calcGenotypeRobustness('040087000000', maxCol, maxCubes)\n",
    "        })\n",
    "alt.Chart(pd.DataFrame(data=genotypeRobustnessData)).mark_rect().encode(\n",
    "    alt.X('maxCol:O', title=\"Allowed colors\"),\n",
    "    alt.Y('maxCubes:O', title=\"Allowed cube types\"),\n",
    "    alt.Color('robustness', scale=alt.Scale(domain=(0,1))),\n",
    ")"
   ]
  },
  {
   "cell_type": "markdown",
   "metadata": {},
   "source": [
    "## Phenotype robustness"
   ]
  },
  {
   "cell_type": "markdown",
   "metadata": {},
   "source": [
    "With the genotype robustness defined, we can then define the phenotype robustness $\\rho_p$ as the average genotype robustness for all genotypes enconding for the given phenotype:\n",
    "$$ \\rho_p = \\frac{1}{\\left | P \\right |} \\sum_{g \\in P}\\rho_g $$\n",
    "where $P$ is the set of all genotypes with phenotype $p$.\n",
    "\n",
    "For a large dataset, this will take a while; so it's better to calculate it separately by running `python robustness.py` and saving the pickled data:"
   ]
  },
  {
   "cell_type": "markdown",
   "metadata": {},
   "source": [
    "In this case, we load a random sample of 100 phenotypes:"
   ]
  },
  {
   "cell_type": "code",
   "execution_count": 5,
   "metadata": {},
   "outputs": [],
   "source": [
    "#phenotypeRobustnessData = robustness.calcPhenotypeRobustness(path='../cpp/out/3d', sampleSize=100)\n",
    "phenotypeRobustnessData = pickle.load(open('../cpp/out/3d/robustness_100.p', \"rb\"))"
   ]
  },
  {
   "cell_type": "code",
   "execution_count": 6,
   "metadata": {},
   "outputs": [
    {
     "data": {
      "text/html": [
       "\n",
       "<div id=\"altair-viz-5822dca6917e4d24a7673ddd1a0e6e46\"></div>\n",
       "<script type=\"text/javascript\">\n",
       "  (function(spec, embedOpt){\n",
       "    const outputDiv = document.getElementById(\"altair-viz-5822dca6917e4d24a7673ddd1a0e6e46\");\n",
       "    const paths = {\n",
       "      \"vega\": \"https://cdn.jsdelivr.net/npm//vega@5?noext\",\n",
       "      \"vega-lib\": \"https://cdn.jsdelivr.net/npm//vega-lib?noext\",\n",
       "      \"vega-lite\": \"https://cdn.jsdelivr.net/npm//vega-lite@4.0.2?noext\",\n",
       "      \"vega-embed\": \"https://cdn.jsdelivr.net/npm//vega-embed@6?noext\",\n",
       "    };\n",
       "\n",
       "    function loadScript(lib) {\n",
       "      return new Promise(function(resolve, reject) {\n",
       "        var s = document.createElement('script');\n",
       "        s.src = paths[lib];\n",
       "        s.async = true;\n",
       "        s.onload = () => resolve(paths[lib]);\n",
       "        s.onerror = () => reject(`Error loading script: ${paths[lib]}`);\n",
       "        document.getElementsByTagName(\"head\")[0].appendChild(s);\n",
       "      });\n",
       "    }\n",
       "\n",
       "    function showError(err) {\n",
       "      outputDiv.innerHTML = `<div class=\"error\" style=\"color:red;\">${err}</div>`;\n",
       "      throw err;\n",
       "    }\n",
       "\n",
       "    function displayChart(vegaEmbed) {\n",
       "      vegaEmbed(outputDiv, spec, embedOpt)\n",
       "        .catch(err => showError(`Javascript Error: ${err.message}<br>This usually means there's a typo in your chart specification. See the javascript console for the full traceback.`));\n",
       "    }\n",
       "\n",
       "    if(typeof define === \"function\" && define.amd) {\n",
       "      requirejs.config({paths});\n",
       "      require([\"vega-embed\"], displayChart, err => showError(`Error loading script: ${err.message}`));\n",
       "    } else if (typeof vegaEmbed === \"function\") {\n",
       "      displayChart(vegaEmbed);\n",
       "    } else {\n",
       "      loadScript(\"vega\")\n",
       "        .then(() => loadScript(\"vega-lite\"))\n",
       "        .then(() => loadScript(\"vega-embed\"))\n",
       "        .catch(showError)\n",
       "        .then(() => displayChart(vegaEmbed));\n",
       "    }\n",
       "  })({\"config\": {\"view\": {\"continuousWidth\": 400, \"continuousHeight\": 300}}, \"data\": {\"name\": \"data-166e980a3489b0e0136c36b4a1f491d8\"}, \"mark\": {\"type\": \"circle\", \"size\": 60}, \"encoding\": {\"href\": {\"type\": \"nominal\", \"field\": \"url\"}, \"tooltip\": [{\"type\": \"nominal\", \"field\": \"rule\"}], \"x\": {\"type\": \"quantitative\", \"field\": \"frequency\", \"scale\": {\"type\": \"log\"}, \"title\": \"Frequency\"}, \"y\": {\"type\": \"quantitative\", \"field\": \"robustness\", \"title\": \"Phenotype Robustness\"}}, \"selection\": {\"selector001\": {\"type\": \"interval\", \"bind\": \"scales\", \"encodings\": [\"x\", \"y\"]}}, \"transform\": [{\"calculate\": \"('https://akodiat.github.io/polycubes?hexRule=' + datum.rule)\", \"as\": \"url\"}], \"$schema\": \"https://vega.github.io/schema/vega-lite/v4.0.2.json\", \"datasets\": {\"data-166e980a3489b0e0136c36b4a1f491d8\": [{\"frequency\": 6.292870178088226e-05, \"robustness\": 0.47149122807017546, \"rule\": \"1701021218080b0609138710860e10190b940d9d08908211\"}, {\"frequency\": 6.292870178088226e-05, \"robustness\": 0.5109649122807017, \"rule\": \"128e13199c118597851a93808a9b9f9497028f8295870987\"}, {\"frequency\": 0.004153294317538229, \"robustness\": 0.5957768474215843, \"rule\": \"170798138a148b1c069b8a90139702138d1e\"}, {\"frequency\": 0.00012585740356176452, \"robustness\": 0.5285087719298245, \"rule\": \"080d029b94809e9a98089f14830e819801850d05918a0106\"}, {\"frequency\": 6.292870178088226e-05, \"robustness\": 0.5131578947368421, \"rule\": \"969510180183878f8c100a8c1b1d91858b8c1e020c869402\"}, {\"frequency\": 6.292870178088226e-05, \"robustness\": 0.4956140350877193, \"rule\": \"018487830d0c191e12071a9619878c8796848a171f188281\"}, {\"frequency\": 0.00012585740356176452, \"robustness\": 0.5339912280701755, \"rule\": \"021f82108f9a9784801f13821f939b039b1f05000f17991c\"}, {\"frequency\": 0.00012585740356176452, \"robustness\": 0.5213815789473684, \"rule\": \"1d1f8311881510000d1c841a1f018e1c1d881615988b1902890c1491001d1f8301128094\"}, {\"frequency\": 6.292870178088226e-05, \"robustness\": 0.4967105263157895, \"rule\": \"010f960506059b0394859c1003941a958113020a830c179d\"}, {\"frequency\": 6.292870178088226e-05, \"robustness\": 0.5208333333333334, \"rule\": \"8304050e8306800d19031d9508850c0e1a121a9e83808812\"}, {\"frequency\": 6.292870178088226e-05, \"robustness\": 0.4857456140350877, \"rule\": \"801c8c920414088102890183809d060a16808e051b0f930a\"}, {\"frequency\": 0.00018878610534264677, \"robustness\": 0.47368421052631576, \"rule\": \"1a09801b1f070b8d00009c14151702828e8593978f901690\"}, {\"frequency\": 0.005663583160279403, \"robustness\": 0.5938109161793373, \"rule\": \"1e188792198182869d160317991f1e858103\"}, {\"frequency\": 6.292870178088226e-05, \"robustness\": 0.5164473684210527, \"rule\": \"0e1c19171e0f93820801189608009a1f821d830a079d0304\"}, {\"frequency\": 6.292870178088226e-05, \"robustness\": 0.5537280701754386, \"rule\": \"1c001d068a07020219830a070d8a168b8181979e0d01880d\"}, {\"frequency\": 0.0003146435089044113, \"robustness\": 0.5760964912280702, \"rule\": \"9d93021b199d9a93190102051f04020a0e1a\"}, {\"frequency\": 6.292870178088226e-05, \"robustness\": 0.5043859649122807, \"rule\": \"9c0d12109f89059b17929c04001515890f1c150c8a820e121a05009d809c030c01151681\"}, {\"frequency\": 6.292870178088226e-05, \"robustness\": 0.48026315789473684, \"rule\": \"8a8786119f9e818495038b1f079b13941195191202848e96\"}, {\"frequency\": 6.292870178088226e-05, \"robustness\": 0.5285087719298246, \"rule\": \"0a088587920290919a93931580959b850c0088901c8f8394\"}, {\"frequency\": 6.292870178088226e-05, \"robustness\": 0.5043859649122807, \"rule\": \"11131a811583020d8e11028b171d16171e91078e01041f1f828e83078e9a\"}, {\"frequency\": 6.292870178088226e-05, \"robustness\": 0.45394736842105265, \"rule\": \"80019e89010286989098869a989810101d130c0a8086139d179a81989d8f\"}, {\"frequency\": 0.0018249323516455855, \"robustness\": 0.5417800967937084, \"rule\": \"150c149f9c8092829484928a159e8e9a871b\"}, {\"frequency\": 6.292870178088226e-05, \"robustness\": 0.6359649122807017, \"rule\": \"1f10888b1012848897918a00878700861d0a\"}, {\"frequency\": 6.292870178088226e-05, \"robustness\": 0.5175438596491229, \"rule\": \"8e1410808f9f96991007988113090d12008006069b910800\"}, {\"frequency\": 6.292870178088226e-05, \"robustness\": 0.5548245614035088, \"rule\": \"171e1c011e100a85060b03110399029c1f85\"}, {\"frequency\": 0.00037757221068529355, \"robustness\": 0.4453581871345029, \"rule\": \"111f83041c1a839f048c8f13048d0895138c90828e141803\"}, {\"frequency\": 0.00012585740356176452, \"robustness\": 0.48519736842105265, \"rule\": \"030e9d93920c8b199f10160c011a18020a858b9f179f0e07\"}, {\"frequency\": 6.292870178088226e-05, \"robustness\": 0.5208333333333334, \"rule\": \"08091f8d199194001b190712078b80008e8f02161e09970a\"}, {\"frequency\": 6.292870178088226e-05, \"robustness\": 0.5219298245614035, \"rule\": \"86019890158d058d88939b1e89010e01908880908e858e97\"}, {\"frequency\": 0.0016361462463029388, \"robustness\": 0.5891953441295545, \"rule\": \"001213181894960f1d1a9e1b818a0e01939595841212879b\"}, {\"frequency\": 6.292870178088226e-05, \"robustness\": 0.5953947368421053, \"rule\": \"06061b19191a9d991095009f129509051f01\"}, {\"frequency\": 0.00012585740356176452, \"robustness\": 0.6047149122807018, \"rule\": \"171d9383910b9f901c8d1498881d1c90801f8785018d8d91\"}, {\"frequency\": 6.292870178088226e-05, \"robustness\": 0.5493421052631579, \"rule\": \"8c198f078f8387101d1b09161207070f1104\"}, {\"frequency\": 0.0003146435089044113, \"robustness\": 0.5732456140350878, \"rule\": \"98899596950f8d01101d9a820e1085140f84\"}, {\"frequency\": 6.292870178088226e-05, \"robustness\": 0.5296052631578947, \"rule\": \"8c879f8712089e979a0b879891010a0114170c13029d1716\"}, {\"frequency\": 6.292870178088226e-05, \"robustness\": 0.45394736842105265, \"rule\": \"860e9b9f8685878403869508019006839e0087871817808b\"}, {\"frequency\": 6.292870178088226e-05, \"robustness\": 0.5230263157894737, \"rule\": \"951e95111b1109058f948e1d94848f1c1a039204838c8901\"}, {\"frequency\": 6.292870178088226e-05, \"robustness\": 0.5328947368421053, \"rule\": \"0011840810098189119c02031506819d0a08980b109e960286001784028419801283129e\"}, {\"frequency\": 6.292870178088226e-05, \"robustness\": 0.5252192982456141, \"rule\": \"15129d0782161788818d041d8f8b1b88919117168d8e8416\"}, {\"frequency\": 0.00195078975520735, \"robustness\": 0.5778508771929826, \"rule\": \"06888b9204188e948e1b129e8e8407890205\"}, {\"frequency\": 0.0011327166320558807, \"robustness\": 0.5213815789473686, \"rule\": \"1c870113021394130c098299868203101a9d818e8d128695\"}, {\"frequency\": 6.292870178088226e-05, \"robustness\": 0.5230263157894737, \"rule\": \"988100829c9c1b0a929d0701048e8c0014090597921c8e97\"}, {\"frequency\": 6.292870178088226e-05, \"robustness\": 0.5032894736842105, \"rule\": \"93060f8b1f0e0999989704031f8d9783888896898093929d\"}, {\"frequency\": 0.00037757221068529355, \"robustness\": 0.5626827485380117, \"rule\": \"9a120d9a01038c8408800a1e1f101c118b960885969a0a04\"}, {\"frequency\": 0.00012585740356176452, \"robustness\": 0.5339912280701755, \"rule\": \"8d178409928299130a9c98800d0199849c879f8f16158814\"}, {\"frequency\": 0.00195078975520735, \"robustness\": 0.5757640067911715, \"rule\": \"9f868f921993128c8602911b0c9782080384\"}, {\"frequency\": 0.003209363790824995, \"robustness\": 0.5830323357413141, \"rule\": \"0d9f0f0f04049114199f0319161b110a0a8f0b9c00861702\"}, {\"frequency\": 6.292870178088226e-05, \"robustness\": 0.5712719298245614, \"rule\": \"849f80020c0b8001009f01059a969b8f9a81810b000e1f0e\"}, {\"frequency\": 6.292870178088226e-05, \"robustness\": 0.5723684210526315, \"rule\": \"0c1b9f09190d918e0d970a94930d05980f9c\"}, {\"frequency\": 6.292870178088226e-05, \"robustness\": 0.5197368421052632, \"rule\": \"869998009d8c9c858d9f0e951d09858486998083938b9595\"}, {\"frequency\": 0.00012585740356176452, \"robustness\": 0.5175438596491229, \"rule\": \"868e9f1a94808f838e9c0419960193039297828494878086950095920c93098f19889e951e8297809d03\"}, {\"frequency\": 6.292870178088226e-05, \"robustness\": 0.5296052631578947, \"rule\": \"9e889c149b981680910982818b16850f981c17980e9b0e12\"}, {\"frequency\": 6.292870178088226e-05, \"robustness\": 0.5482456140350878, \"rule\": \"888b9f8e889c958d1f908c941b9e0805069c\"}, {\"frequency\": 6.292870178088226e-05, \"robustness\": 0.5427631578947368, \"rule\": \"1f801f8b138b9b85029d030e989a0c07840d1b0f03838182\"}, {\"frequency\": 6.292870178088226e-05, \"robustness\": 0.4199561403508772, \"rule\": \"88040f06161f9216141e86989e141d981782\"}, {\"frequency\": 0.00018878610534264677, \"robustness\": 0.5785818713450293, \"rule\": \"85909192908904178d801f1b878682811383\"}, {\"frequency\": 0.00037757221068529355, \"robustness\": 0.5255847953216374, \"rule\": \"8d9f9f8a149c081303018116199e9a9c030507149e1b9118\"}, {\"frequency\": 0.0005663583160279403, \"robustness\": 0.597953216374269, \"rule\": \"8c8e078f8f831793899383180e8301999302\"}, {\"frequency\": 6.292870178088226e-05, \"robustness\": 0.5, \"rule\": \"19059410038e8580880e1013118a1c8a81119e9c9c99949f\"}, {\"frequency\": 6.292870178088226e-05, \"robustness\": 0.49780701754385964, \"rule\": \"9f8f12090511171983000c168718179f8f82049d9c900402\"}, {\"frequency\": 0.00018878610534264677, \"robustness\": 0.5365497076023392, \"rule\": \"16118f1f8c84168d90018e179e85119a829a1a100a168100\"}, {\"frequency\": 6.292870178088226e-05, \"robustness\": 0.5657894736842105, \"rule\": \"9694889380928b831f1201890b8c1c19881e\"}, {\"frequency\": 6.292870178088226e-05, \"robustness\": 0.5087719298245614, \"rule\": \"90809816088e931b08060408918d128f1408079603009f9d83040a839216\"}, {\"frequency\": 6.292870178088226e-05, \"robustness\": 0.43201754385964913, \"rule\": \"9f9f068e8e111b0203130d96819e928a0513\"}, {\"frequency\": 0.08281417154364105, \"robustness\": 0.5988866781314993, \"rule\": \"910a96828c811f09978d88911a8d081e971984948196138c\"}, {\"frequency\": 6.292870178088226e-05, \"robustness\": 0.5515350877192983, \"rule\": \"9e920f0d889d119c9d14898297001b809f86850d030c871c8a029c8b1682\"}, {\"frequency\": 6.292870178088226e-05, \"robustness\": 0.5328947368421053, \"rule\": \"08171980080c8f03079c04900e180c890019158106929a02\"}, {\"frequency\": 6.292870178088226e-05, \"robustness\": 0.6041666666666666, \"rule\": \"060516069a929b931f17169c820294010080140f1416840f\"}, {\"frequency\": 6.292870178088226e-05, \"robustness\": 0.5054824561403509, \"rule\": \"010b1e1006068c849815130299179a15908f8a071f1d0207\"}, {\"frequency\": 6.292870178088226e-05, \"robustness\": 0.5241228070175439, \"rule\": \"9a998b8e82069d078b0d9b8817888a831b8a83849a110003\"}, {\"frequency\": 0.0003146435089044113, \"robustness\": 0.5666666666666667, \"rule\": \"1e84878517990c1f1b8a1f149a93040d9989\"}, {\"frequency\": 6.292870178088226e-05, \"robustness\": 0.5, \"rule\": \"00948700959489009c828a0e8699179c93028e910304999c\"}, {\"frequency\": 6.292870178088226e-05, \"robustness\": 0.41776315789473684, \"rule\": \"189495038d9d089c0d9c018b961d10119c10\"}, {\"frequency\": 6.292870178088226e-05, \"robustness\": 0.5230263157894737, \"rule\": \"9780911d19869099868289938796928591028190090d0c8017841b188682\"}, {\"frequency\": 6.292870178088226e-05, \"robustness\": 0.5, \"rule\": \"81070d808e0a1f15020217071690829b830b89031914079d\"}, {\"frequency\": 0.00012585740356176452, \"robustness\": 0.5021929824561404, \"rule\": \"8a989b009917011f178a81829e92160b000081818e891900\"}, {\"frequency\": 6.292870178088226e-05, \"robustness\": 0.43859649122807015, \"rule\": \"12150083181b0a1a1d07179c9315041a0489020704998c83\"}, {\"frequency\": 0.00037757221068529355, \"robustness\": 0.570906432748538, \"rule\": \"1994011f1a188e96099b1c968c8c00031c15\"}, {\"frequency\": 6.292870178088226e-05, \"robustness\": 0.5010964912280702, \"rule\": \"9f80818f919200818a039185021818938c12160a8783861c\"}, {\"frequency\": 0.00044050091246617583, \"robustness\": 0.4951441102756892, \"rule\": \"9f80069a06890c9296859a82940e940f8b1a9a0d8a8a1194\"}, {\"frequency\": 6.292870178088226e-05, \"robustness\": 0.45614035087719296, \"rule\": \"919f859e800e838381980a8c0c1f0a9e9602\"}, {\"frequency\": 0.0011327166320558807, \"robustness\": 0.5488547758284601, \"rule\": \"0d809991928288930f921c8696138b038684978704950f88\"}, {\"frequency\": 0.0010697879302749985, \"robustness\": 0.5525670794633645, \"rule\": \"0d811e92060f1c81060c80991e8517160d1d151e19031f90981616821304\"}, {\"frequency\": 6.292870178088226e-05, \"robustness\": 0.5054824561403509, \"rule\": \"079a898806981082120a9a07000d9b9e83970e1d11819a84\"}, {\"frequency\": 0.0010068592284941161, \"robustness\": 0.5732593201754386, \"rule\": \"118612998e0b04189d139d9d9c0380179014\"}, {\"frequency\": 0.00012585740356176452, \"robustness\": 0.5208333333333334, \"rule\": \"868e928a860191948a8098998c899c829d11839891149f04\"}, {\"frequency\": 0.0020766471587691147, \"robustness\": 0.5532961190855925, \"rule\": \"178d8c821b91878a018e808811891a8b8e159405838a8382\"}, {\"frequency\": 6.292870178088226e-05, \"robustness\": 0.5986842105263158, \"rule\": \"8c8c8c858d8e080a010d140194121e021d09\"}, {\"frequency\": 0.0003146435089044113, \"robustness\": 0.5473684210526316, \"rule\": \"998e9a8a9a8e91839f1b16068380061d9e02\"}, {\"frequency\": 0.0006922157195897048, \"robustness\": 0.5607057416267943, \"rule\": \"198e0b801a9d19139f888b0101839f14841e\"}, {\"frequency\": 6.292870178088226e-05, \"robustness\": 0.5219298245614035, \"rule\": \"9e83059100178281148f1c8d8218110506189f0185821b08\"}, {\"frequency\": 6.292870178088226e-05, \"robustness\": 0.5208333333333334, \"rule\": \"88858c008d1c160f011a1f90141c038d8d04821b82898394\"}, {\"frequency\": 0.0013844314391794096, \"robustness\": 0.5776515151515151, \"rule\": \"859c159d829099029e091d9a920d0a198287\"}, {\"frequency\": 0.00044050091246617583, \"robustness\": 0.5275689223057644, \"rule\": \"0c9308149a9b900e000a139b87910c0e0994099a1e1f0907\"}, {\"frequency\": 0.00018878610534264677, \"robustness\": 0.5317982456140351, \"rule\": \"8c039f04948d8b9c198d1d9582068e94950992059101899a\"}, {\"frequency\": 0.00012585740356176452, \"robustness\": 0.5592105263157894, \"rule\": \"858603860f9a8a1f19901c881d160298079b\"}, {\"frequency\": 6.292870178088226e-05, \"robustness\": 0.5307017543859649, \"rule\": \"828e061a8e8c0015801088029d1501029c9207040909810f\"}, {\"frequency\": 0.0003146435089044113, \"robustness\": 0.5671052631578947, \"rule\": \"000e9485970f811a1f1f138f1f0e1c140f12\"}, {\"frequency\": 0.00018878610534264677, \"robustness\": 0.5413011695906432, \"rule\": \"09100b011908941a0701910489038e1980181514810b0482\"}, {\"frequency\": 6.292870178088226e-05, \"robustness\": 0.5482456140350878, \"rule\": \"9812131717890a81810e890c95819f8a8688\"}]}}, {\"mode\": \"vega-lite\"});\n",
       "</script>"
      ],
      "text/plain": [
       "alt.Chart(...)"
      ]
     },
     "execution_count": 6,
     "metadata": {},
     "output_type": "execute_result"
    }
   ],
   "source": [
    "alt.Chart(phenotypeRobustnessData).transform_calculate(\n",
    "        url='https://akodiat.github.io/polycubes?hexRule=' + alt.datum.rule\n",
    "    ).mark_circle(size=60).encode(\n",
    "        alt.X('frequency', scale=alt.Scale(type='log'), title=\"Frequency\"),\n",
    "        alt.Y('robustness', title=\"Phenotype Robustness\"),\n",
    "        href='url:N',\n",
    "        tooltip=['rule']\n",
    "    ).interactive()"
   ]
  },
  {
   "cell_type": "code",
   "execution_count": null,
   "metadata": {},
   "outputs": [],
   "source": []
  }
 ],
 "metadata": {
  "kernelspec": {
   "display_name": "Python 3",
   "language": "python",
   "name": "python3"
  },
  "language_info": {
   "codemirror_mode": {
    "name": "ipython",
    "version": 3
   },
   "file_extension": ".py",
   "mimetype": "text/x-python",
   "name": "python",
   "nbconvert_exporter": "python",
   "pygments_lexer": "ipython3",
   "version": "3.6.7"
  }
 },
 "nbformat": 4,
 "nbformat_minor": 4
}
