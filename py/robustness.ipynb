{
 "cells": [
  {
   "cell_type": "markdown",
   "metadata": {},
   "source": [
    "# Polycube robustness"
   ]
  },
  {
   "cell_type": "code",
   "execution_count": 1,
   "metadata": {},
   "outputs": [],
   "source": [
    "import robustness\n",
    "import altair as alt\n",
    "import pandas as pd\n",
    "import pickle"
   ]
  },
  {
   "cell_type": "markdown",
   "metadata": {},
   "source": [
    "Let's start by calculating $N_g$, the set of genotype neighbours one point mutation away from a given genotype $g$. Depending on the allowed amount of colors,input size and dimentionality, the corresponding neigbourhood will be of different sizes, as we shall see later. \n",
    "\n",
    "As an initial example, this is the number of 2D mutations for the genotype of a 2x2 square, if we allow only one color and one cube type:"
   ]
  },
  {
   "cell_type": "code",
   "execution_count": 2,
   "metadata": {},
   "outputs": [
    {
     "data": {
      "text/plain": [
       "['840087000000',\n",
       " '000087000000',\n",
       " '048487000000',\n",
       " '040487000000',\n",
       " '040003000000',\n",
       " '040007000000',\n",
       " '040087840000',\n",
       " '040087040000',\n",
       " '040087008400',\n",
       " '040087000400',\n",
       " '040087000084',\n",
       " '040087000004']"
      ]
     },
     "execution_count": 2,
     "metadata": {},
     "output_type": "execute_result"
    }
   ],
   "source": [
    "robustness.enumerateMutations('040087000000', maxColor=1, maxCubes=1, dim=2)"
   ]
  },
  {
   "cell_type": "markdown",
   "metadata": {},
   "source": [
    "## Genotype robustness"
   ]
  },
  {
   "cell_type": "markdown",
   "metadata": {},
   "source": [
    "We define the genotype robustness $\\rho_g$ of a genotype $g$ as:\n",
    "$$ \\rho_g = \\frac{1}{\\left | N_g \\right |}\\sum_{n \\in N_g} \\begin{cases}\n",
    " 1 & \\text{ if } p(n)=p(g) \\\\ \n",
    " 0 & \\text{ otherwise } \n",
    "\\end{cases} $$\n",
    "where $N_g$ is the set of 1-mutant neigbours of $g$ and $p(g)$ is the phenotype assembled from genotype $g$.\n",
    "\n",
    "Let's calculate the robustness for the same genotype as before. This time in the default 3D with a maximum of 3 colours and 2 cube types"
   ]
  },
  {
   "cell_type": "code",
   "execution_count": 3,
   "metadata": {},
   "outputs": [
    {
     "data": {
      "text/plain": [
       "0.7592592592592593"
      ]
     },
     "execution_count": 3,
     "metadata": {},
     "output_type": "execute_result"
    }
   ],
   "source": [
    "robustness.calcGenotypeRobustness('040087000000', 3, 2)"
   ]
  },
  {
   "cell_type": "markdown",
   "metadata": {},
   "source": [
    " If we allow a larger phenotype space the robustness will be higher, since there is more room for neutral mutations:"
   ]
  },
  {
   "cell_type": "code",
   "execution_count": 16,
   "metadata": {},
   "outputs": [
    {
     "data": {
      "text/html": [
       "\n",
       "<div id=\"altair-viz-24397693df0a4373be4890d8e61febc7\"></div>\n",
       "<script type=\"text/javascript\">\n",
       "  (function(spec, embedOpt){\n",
       "    const outputDiv = document.getElementById(\"altair-viz-24397693df0a4373be4890d8e61febc7\");\n",
       "    const paths = {\n",
       "      \"vega\": \"https://cdn.jsdelivr.net/npm//vega@5?noext\",\n",
       "      \"vega-lib\": \"https://cdn.jsdelivr.net/npm//vega-lib?noext\",\n",
       "      \"vega-lite\": \"https://cdn.jsdelivr.net/npm//vega-lite@4.0.2?noext\",\n",
       "      \"vega-embed\": \"https://cdn.jsdelivr.net/npm//vega-embed@6?noext\",\n",
       "    };\n",
       "\n",
       "    function loadScript(lib) {\n",
       "      return new Promise(function(resolve, reject) {\n",
       "        var s = document.createElement('script');\n",
       "        s.src = paths[lib];\n",
       "        s.async = true;\n",
       "        s.onload = () => resolve(paths[lib]);\n",
       "        s.onerror = () => reject(`Error loading script: ${paths[lib]}`);\n",
       "        document.getElementsByTagName(\"head\")[0].appendChild(s);\n",
       "      });\n",
       "    }\n",
       "\n",
       "    function showError(err) {\n",
       "      outputDiv.innerHTML = `<div class=\"error\" style=\"color:red;\">${err}</div>`;\n",
       "      throw err;\n",
       "    }\n",
       "\n",
       "    function displayChart(vegaEmbed) {\n",
       "      vegaEmbed(outputDiv, spec, embedOpt)\n",
       "        .catch(err => showError(`Javascript Error: ${err.message}<br>This usually means there's a typo in your chart specification. See the javascript console for the full traceback.`));\n",
       "    }\n",
       "\n",
       "    if(typeof define === \"function\" && define.amd) {\n",
       "      requirejs.config({paths});\n",
       "      require([\"vega-embed\"], displayChart, err => showError(`Error loading script: ${err.message}`));\n",
       "    } else if (typeof vegaEmbed === \"function\") {\n",
       "      displayChart(vegaEmbed);\n",
       "    } else {\n",
       "      loadScript(\"vega\")\n",
       "        .then(() => loadScript(\"vega-lite\"))\n",
       "        .then(() => loadScript(\"vega-embed\"))\n",
       "        .catch(showError)\n",
       "        .then(() => displayChart(vegaEmbed));\n",
       "    }\n",
       "  })({\"config\": {\"view\": {\"continuousWidth\": 400, \"continuousHeight\": 300}}, \"data\": {\"name\": \"data-c8bac173c41342422ab842763a60cc07\"}, \"mark\": \"rect\", \"encoding\": {\"color\": {\"type\": \"quantitative\", \"field\": \"robustness\", \"scale\": {\"domain\": [0, 1]}}, \"x\": {\"type\": \"ordinal\", \"field\": \"maxCol\", \"title\": \"Allowed colors\"}, \"y\": {\"type\": \"ordinal\", \"field\": \"maxCubes\", \"title\": \"Allowed cube types\"}}, \"$schema\": \"https://vega.github.io/schema/vega-lite/v4.0.2.json\", \"datasets\": {\"data-c8bac173c41342422ab842763a60cc07\": [{\"maxCol\": 1, \"maxCubes\": 1, \"robustness\": 0.4}, {\"maxCol\": 1, \"maxCubes\": 2, \"robustness\": 0.7}, {\"maxCol\": 1, \"maxCubes\": 3, \"robustness\": 0.8}, {\"maxCol\": 1, \"maxCubes\": 4, \"robustness\": 0.85}, {\"maxCol\": 1, \"maxCubes\": 5, \"robustness\": 0.88}, {\"maxCol\": 1, \"maxCubes\": 6, \"robustness\": 0.9}, {\"maxCol\": 1, \"maxCubes\": 7, \"robustness\": 0.9142857142857143}, {\"maxCol\": 1, \"maxCubes\": 8, \"robustness\": 0.925}, {\"maxCol\": 1, \"maxCubes\": 9, \"robustness\": 0.9333333333333333}, {\"maxCol\": 2, \"maxCubes\": 1, \"robustness\": 0.47619047619047616}, {\"maxCol\": 2, \"maxCubes\": 2, \"robustness\": 0.7380952380952381}, {\"maxCol\": 2, \"maxCubes\": 3, \"robustness\": 0.8253968253968254}, {\"maxCol\": 2, \"maxCubes\": 4, \"robustness\": 0.8690476190476191}, {\"maxCol\": 2, \"maxCubes\": 5, \"robustness\": 0.8952380952380953}, {\"maxCol\": 2, \"maxCubes\": 6, \"robustness\": 0.9126984126984127}, {\"maxCol\": 2, \"maxCubes\": 7, \"robustness\": 0.9251700680272109}, {\"maxCol\": 2, \"maxCubes\": 8, \"robustness\": 0.9345238095238095}, {\"maxCol\": 2, \"maxCubes\": 9, \"robustness\": 0.9417989417989417}, {\"maxCol\": 3, \"maxCubes\": 1, \"robustness\": 0.5185185185185185}, {\"maxCol\": 3, \"maxCubes\": 2, \"robustness\": 0.7592592592592593}, {\"maxCol\": 3, \"maxCubes\": 3, \"robustness\": 0.8395061728395061}, {\"maxCol\": 3, \"maxCubes\": 4, \"robustness\": 0.8796296296296297}, {\"maxCol\": 3, \"maxCubes\": 5, \"robustness\": 0.9037037037037037}, {\"maxCol\": 3, \"maxCubes\": 6, \"robustness\": 0.9197530864197531}, {\"maxCol\": 3, \"maxCubes\": 7, \"robustness\": 0.9312169312169312}, {\"maxCol\": 3, \"maxCubes\": 8, \"robustness\": 0.9398148148148148}, {\"maxCol\": 3, \"maxCubes\": 9, \"robustness\": 0.9465020576131687}, {\"maxCol\": 4, \"maxCubes\": 1, \"robustness\": 0.5454545454545454}, {\"maxCol\": 4, \"maxCubes\": 2, \"robustness\": 0.7727272727272727}, {\"maxCol\": 4, \"maxCubes\": 3, \"robustness\": 0.8484848484848485}, {\"maxCol\": 4, \"maxCubes\": 4, \"robustness\": 0.8863636363636364}, {\"maxCol\": 4, \"maxCubes\": 5, \"robustness\": 0.9090909090909091}, {\"maxCol\": 4, \"maxCubes\": 6, \"robustness\": 0.9242424242424242}, {\"maxCol\": 4, \"maxCubes\": 7, \"robustness\": 0.935064935064935}, {\"maxCol\": 4, \"maxCubes\": 8, \"robustness\": 0.9431818181818182}, {\"maxCol\": 4, \"maxCubes\": 9, \"robustness\": 0.9494949494949495}, {\"maxCol\": 5, \"maxCubes\": 1, \"robustness\": 0.5641025641025641}, {\"maxCol\": 5, \"maxCubes\": 2, \"robustness\": 0.782051282051282}, {\"maxCol\": 5, \"maxCubes\": 3, \"robustness\": 0.8547008547008547}, {\"maxCol\": 5, \"maxCubes\": 4, \"robustness\": 0.8910256410256411}, {\"maxCol\": 5, \"maxCubes\": 5, \"robustness\": 0.9128205128205128}, {\"maxCol\": 5, \"maxCubes\": 6, \"robustness\": 0.9273504273504274}, {\"maxCol\": 5, \"maxCubes\": 7, \"robustness\": 0.9377289377289377}, {\"maxCol\": 5, \"maxCubes\": 8, \"robustness\": 0.9455128205128205}, {\"maxCol\": 5, \"maxCubes\": 9, \"robustness\": 0.9515669515669516}, {\"maxCol\": 6, \"maxCubes\": 1, \"robustness\": 0.5777777777777777}, {\"maxCol\": 6, \"maxCubes\": 2, \"robustness\": 0.7888888888888889}, {\"maxCol\": 6, \"maxCubes\": 3, \"robustness\": 0.8592592592592593}, {\"maxCol\": 6, \"maxCubes\": 4, \"robustness\": 0.8944444444444445}, {\"maxCol\": 6, \"maxCubes\": 5, \"robustness\": 0.9155555555555556}, {\"maxCol\": 6, \"maxCubes\": 6, \"robustness\": 0.9296296296296296}, {\"maxCol\": 6, \"maxCubes\": 7, \"robustness\": 0.9396825396825397}, {\"maxCol\": 6, \"maxCubes\": 8, \"robustness\": 0.9472222222222222}, {\"maxCol\": 6, \"maxCubes\": 9, \"robustness\": 0.9530864197530864}, {\"maxCol\": 7, \"maxCubes\": 1, \"robustness\": 0.5882352941176471}, {\"maxCol\": 7, \"maxCubes\": 2, \"robustness\": 0.7941176470588235}, {\"maxCol\": 7, \"maxCubes\": 3, \"robustness\": 0.8627450980392157}, {\"maxCol\": 7, \"maxCubes\": 4, \"robustness\": 0.8970588235294118}, {\"maxCol\": 7, \"maxCubes\": 5, \"robustness\": 0.9176470588235294}, {\"maxCol\": 7, \"maxCubes\": 6, \"robustness\": 0.9313725490196079}, {\"maxCol\": 7, \"maxCubes\": 7, \"robustness\": 0.9411764705882353}, {\"maxCol\": 7, \"maxCubes\": 8, \"robustness\": 0.9485294117647058}, {\"maxCol\": 7, \"maxCubes\": 9, \"robustness\": 0.954248366013072}, {\"maxCol\": 8, \"maxCubes\": 1, \"robustness\": 0.5964912280701754}, {\"maxCol\": 8, \"maxCubes\": 2, \"robustness\": 0.7982456140350878}, {\"maxCol\": 8, \"maxCubes\": 3, \"robustness\": 0.8654970760233918}, {\"maxCol\": 8, \"maxCubes\": 4, \"robustness\": 0.8991228070175439}, {\"maxCol\": 8, \"maxCubes\": 5, \"robustness\": 0.9192982456140351}, {\"maxCol\": 8, \"maxCubes\": 6, \"robustness\": 0.9327485380116959}, {\"maxCol\": 8, \"maxCubes\": 7, \"robustness\": 0.9423558897243107}, {\"maxCol\": 8, \"maxCubes\": 8, \"robustness\": 0.9495614035087719}, {\"maxCol\": 8, \"maxCubes\": 9, \"robustness\": 0.9551656920077972}, {\"maxCol\": 9, \"maxCubes\": 1, \"robustness\": 0.6031746031746031}, {\"maxCol\": 9, \"maxCubes\": 2, \"robustness\": 0.8015873015873016}, {\"maxCol\": 9, \"maxCubes\": 3, \"robustness\": 0.8677248677248677}, {\"maxCol\": 9, \"maxCubes\": 4, \"robustness\": 0.9007936507936508}, {\"maxCol\": 9, \"maxCubes\": 5, \"robustness\": 0.9206349206349206}, {\"maxCol\": 9, \"maxCubes\": 6, \"robustness\": 0.9338624338624338}, {\"maxCol\": 9, \"maxCubes\": 7, \"robustness\": 0.9433106575963719}, {\"maxCol\": 9, \"maxCubes\": 8, \"robustness\": 0.9503968253968254}, {\"maxCol\": 9, \"maxCubes\": 9, \"robustness\": 0.9559082892416225}]}}, {\"mode\": \"vega-lite\"});\n",
       "</script>"
      ],
      "text/plain": [
       "alt.Chart(...)"
      ]
     },
     "execution_count": 16,
     "metadata": {},
     "output_type": "execute_result"
    }
   ],
   "source": [
    "genotypeRobustnessData = []\n",
    "for maxCol in range(1,10):\n",
    "    for maxCubes in range(1,10):\n",
    "        genotypeRobustnessData.append({\n",
    "            'maxCol': maxCol,\n",
    "            'maxCubes': maxCubes,\n",
    "            'robustness': robustness.calcGenotypeRobustness('040087000000', maxCol, maxCubes)\n",
    "        })\n",
    "alt.Chart(pd.DataFrame(data=genotypeRobustnessData)).mark_rect().encode(\n",
    "    alt.X('maxCol:O', title=\"Allowed colors\"),\n",
    "    alt.Y('maxCubes:O', title=\"Allowed cube types\"),\n",
    "    alt.Color('robustness', scale=alt.Scale(domain=(0,1))),\n",
    ")"
   ]
  },
  {
   "cell_type": "markdown",
   "metadata": {},
   "source": [
    "## Phenotype robustness"
   ]
  },
  {
   "cell_type": "markdown",
   "metadata": {},
   "source": [
    "With the genotype robustness defined, we can then define the phenotype robustness $\\rho_p$ as the average genotype robustness for all genotypes enconding for the given phenotype:\n",
    "$$ \\rho_p = \\frac{1}{\\left | P \\right |} \\sum_{g \\in P}\\rho_g $$\n",
    "where $P$ is the set of all genotypes with phenotype $p$.\n",
    "\n",
    "For a large dataset, this will take a while; so it's better to calculate it separately by running `python robustness.py` and saving the pickled data:"
   ]
  },
  {
   "cell_type": "code",
   "execution_count": 5,
   "metadata": {},
   "outputs": [],
   "source": [
    "# phenotypeRobustnessData = robustness.calcPhenotypeRobustness(path='../cpp/out/3d')\n",
    "phenotypeRobustnessData = pickle.load(open('../cpp/out/3d/robustness.p', \"rb\"))"
   ]
  },
  {
   "cell_type": "code",
   "execution_count": 6,
   "metadata": {},
   "outputs": [
    {
     "data": {
      "text/html": [
       "\n",
       "<div id=\"altair-viz-5b0440f7700c4526998414a90908f64b\"></div>\n",
       "<script type=\"text/javascript\">\n",
       "  (function(spec, embedOpt){\n",
       "    const outputDiv = document.getElementById(\"altair-viz-5b0440f7700c4526998414a90908f64b\");\n",
       "    const paths = {\n",
       "      \"vega\": \"https://cdn.jsdelivr.net/npm//vega@5?noext\",\n",
       "      \"vega-lib\": \"https://cdn.jsdelivr.net/npm//vega-lib?noext\",\n",
       "      \"vega-lite\": \"https://cdn.jsdelivr.net/npm//vega-lite@4.0.2?noext\",\n",
       "      \"vega-embed\": \"https://cdn.jsdelivr.net/npm//vega-embed@6?noext\",\n",
       "    };\n",
       "\n",
       "    function loadScript(lib) {\n",
       "      return new Promise(function(resolve, reject) {\n",
       "        var s = document.createElement('script');\n",
       "        s.src = paths[lib];\n",
       "        s.async = true;\n",
       "        s.onload = () => resolve(paths[lib]);\n",
       "        s.onerror = () => reject(`Error loading script: ${paths[lib]}`);\n",
       "        document.getElementsByTagName(\"head\")[0].appendChild(s);\n",
       "      });\n",
       "    }\n",
       "\n",
       "    function showError(err) {\n",
       "      outputDiv.innerHTML = `<div class=\"error\" style=\"color:red;\">${err}</div>`;\n",
       "      throw err;\n",
       "    }\n",
       "\n",
       "    function displayChart(vegaEmbed) {\n",
       "      vegaEmbed(outputDiv, spec, embedOpt)\n",
       "        .catch(err => showError(`Javascript Error: ${err.message}<br>This usually means there's a typo in your chart specification. See the javascript console for the full traceback.`));\n",
       "    }\n",
       "\n",
       "    if(typeof define === \"function\" && define.amd) {\n",
       "      requirejs.config({paths});\n",
       "      require([\"vega-embed\"], displayChart, err => showError(`Error loading script: ${err.message}`));\n",
       "    } else if (typeof vegaEmbed === \"function\") {\n",
       "      displayChart(vegaEmbed);\n",
       "    } else {\n",
       "      loadScript(\"vega\")\n",
       "        .then(() => loadScript(\"vega-lite\"))\n",
       "        .then(() => loadScript(\"vega-embed\"))\n",
       "        .catch(showError)\n",
       "        .then(() => displayChart(vegaEmbed));\n",
       "    }\n",
       "  })({\"config\": {\"view\": {\"continuousWidth\": 400, \"continuousHeight\": 300}}, \"data\": {\"name\": \"data-3d182d8f115fb7e16878d531957d4cef\"}, \"mark\": {\"type\": \"circle\", \"size\": 60}, \"encoding\": {\"href\": {\"type\": \"nominal\", \"field\": \"url\"}, \"tooltip\": [{\"type\": \"nominal\", \"field\": \"rule\"}], \"x\": {\"type\": \"quantitative\", \"field\": \"frequency\", \"scale\": {\"type\": \"log\"}, \"title\": \"Frequency\"}, \"y\": {\"type\": \"quantitative\", \"field\": \"robustness\", \"title\": \"Phenotype Robustness\"}}, \"selection\": {\"selector001\": {\"type\": \"interval\", \"bind\": \"scales\", \"encodings\": [\"x\", \"y\"]}}, \"transform\": [{\"calculate\": \"('https://akodiat.github.io/polycubes?hexRule=' + datum.rule)\", \"as\": \"url\"}], \"$schema\": \"https://vega.github.io/schema/vega-lite/v4.0.2.json\", \"datasets\": {\"data-3d182d8f115fb7e16878d531957d4cef\": [{\"frequency\": 1.6048381376302767e-07, \"robustness\": 0.493421052631579, \"rule\": \"0f94800e95959c1388199006188217829c9e8796960200961b0b8a01110b0104051b958d\"}, {\"frequency\": 7.622981153743815e-07, \"robustness\": 0.5635964912280701, \"rule\": \"899905899e9e03030e0605088a0e0f191c05\"}, {\"frequency\": 4.012095344075692e-08, \"robustness\": 0.4791666666666667, \"rule\": \"1f030c820803859295878c841a198200140c979d80019394031919089496\"}, {\"frequency\": 4.012095344075692e-08, \"robustness\": 0.4418859649122807, \"rule\": \"858685978f8f9b9b0d10019f8e078401968c\"}, {\"frequency\": 4.012095344075692e-08, \"robustness\": 0.5142543859649122, \"rule\": \"84809e139f129f878786921b871e8583841907170d16190d\"}, {\"frequency\": 4.012095344075692e-08, \"robustness\": 0.5449561403508771, \"rule\": \"8c83000119148c83829f00810b16958f1e1f988e86851414\"}, {\"frequency\": 4.012095344075692e-08, \"robustness\": 0.46710526315789475, \"rule\": \"0f8788871095131003001d1781180b0f8880828a91891a0f\"}, {\"frequency\": 4.012095344075692e-08, \"robustness\": 0.4758771929824561, \"rule\": \"9c8c1a838b058b83939c99890217198e910695031f8e0081\"}, {\"frequency\": 4.012095344075692e-08, \"robustness\": 0.4331140350877193, \"rule\": \"9605949a03941f888112059a17808c888a91938380869a8e\"}, {\"frequency\": 4.012095344075692e-08, \"robustness\": 0.5087719298245614, \"rule\": \"9a90069b0382180a00909d9199808a9702800f0d1c04930f\"}]}}, {\"mode\": \"vega-lite\"});\n",
       "</script>"
      ],
      "text/plain": [
       "alt.Chart(...)"
      ]
     },
     "execution_count": 6,
     "metadata": {},
     "output_type": "execute_result"
    }
   ],
   "source": [
    "alt.Chart(phenotypeRobustnessData).transform_calculate(\n",
    "        url='https://akodiat.github.io/polycubes?hexRule=' + alt.datum.rule\n",
    "    ).mark_circle(size=60).encode(\n",
    "        alt.X('frequency', scale=alt.Scale(type='log'), title=\"Frequency\"),\n",
    "        alt.Y('robustness', title=\"Phenotype Robustness\"),\n",
    "        href='url:N',\n",
    "        tooltip=['rule']\n",
    "    ).interactive()"
   ]
  }
 ],
 "metadata": {
  "kernelspec": {
   "display_name": "Python 3",
   "language": "python",
   "name": "python3"
  },
  "language_info": {
   "codemirror_mode": {
    "name": "ipython",
    "version": 3
   },
   "file_extension": ".py",
   "mimetype": "text/x-python",
   "name": "python",
   "nbconvert_exporter": "python",
   "pygments_lexer": "ipython3",
   "version": "3.6.7"
  }
 },
 "nbformat": 4,
 "nbformat_minor": 4
}
