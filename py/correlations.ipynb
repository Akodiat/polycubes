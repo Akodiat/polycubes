{
 "cells": [
  {
   "cell_type": "markdown",
   "metadata": {},
   "source": [
    "# Genetic correlations"
   ]
  },
  {
   "cell_type": "code",
   "execution_count": null,
   "metadata": {},
   "outputs": [],
   "source": [
    "import robustness\n",
    "import altair as alt\n",
    "import pandas as pd\n",
    "import numpy as np\n",
    "import utils\n",
    "import pickle"
   ]
  },
  {
   "cell_type": "markdown",
   "metadata": {},
   "source": [
    "## Sampling of data\n",
    "The PLOS article use two different polyomino datasets; $S_{2,8}$ and $S_{3,8}$, resulting in maps of size\n",
    "$1.7 \\times 10^7 \\rightarrow 13$ and $6.9 \\times 10^{10} \\rightarrow 147$ respectively"
   ]
  },
  {
   "cell_type": "code",
   "execution_count": null,
   "metadata": {},
   "outputs": [],
   "source": [
    "print(\"{:.2e}\".format(utils.calculateSearchSpaceSize(nColors=4, nCubeTypes=2, nDim=2)))"
   ]
  },
  {
   "cell_type": "code",
   "execution_count": null,
   "metadata": {},
   "outputs": [],
   "source": [
    "#list(it.islice(getAllRules(nColors=1, nCubeTypes=1, nDim=2), 200))\n",
    "with open(\"input_2d_4c_2t.txt\", \"w\") as f:\n",
    "    for rule in utils.getAllRules(nColors=4, nCubeTypes=2, nDim=2):\n",
    "        f.write(rule+'\\n')"
   ]
  },
  {
   "cell_type": "code",
   "execution_count": null,
   "metadata": {},
   "outputs": [],
   "source": [
    "utils.loadPhenos('../cpp/out')"
   ]
  },
  {
   "cell_type": "code",
   "execution_count": null,
   "metadata": {},
   "outputs": [],
   "source": [
    "data = {}\n",
    "for name in [\n",
    "    'out',\n",
    "]:\n",
    "    data[name] = pd.DataFrame(data=pickle.load(open('../cpp/{}/robustness.p'.format(name), 'rb')))\n",
    "    data[name]['dataset'] = name\n",
    "    \n",
    "# Serialize data on disk to avoid embedding everything\n",
    "alt.data_transformers.enable('json');"
   ]
  },
  {
   "cell_type": "code",
   "execution_count": null,
   "metadata": {},
   "outputs": [],
   "source": [
    "data['out']"
   ]
  },
  {
   "cell_type": "markdown",
   "metadata": {},
   "source": [
    "## Fig 2a - Phenotype robustness as function of frequency"
   ]
  },
  {
   "cell_type": "code",
   "execution_count": null,
   "metadata": {},
   "outputs": [],
   "source": [
    "def plot2a(dfs, logMinF=-8, minCount=0):\n",
    "    df = pd.concat(dfs).drop(['genotypes', 'robustnessVals'], axis=1)\n",
    "    df = df[df['count'] >= minCount]\n",
    "    f = np.logspace(logMinF, 0, 50)\n",
    "    return alt.Chart(pd.DataFrame({'freq': f, 'robustness': f, 'dataset': 'ρₚ = fₚ'})).mark_line().encode(\n",
    "        x='freq', y='robustness',color='dataset'\n",
    "    ) + alt.Chart(df).transform_calculate(\n",
    "        url='https://akodiat.github.io/polycubes?rule=' + alt.datum.minNc_r,\n",
    "        adjustedRobustness = alt.datum.robustness / alt.datum.minNt\n",
    "    ).mark_circle(size=60).encode(\n",
    "        alt.X('freq', scale=alt.Scale(type='log'), title=\"Phenotype frequency fₚ\"),\n",
    "        alt.Y('robustness:Q', title=\"Phenotype robustness ρₚ\"),\n",
    "        href='url:N',\n",
    "        #color='dataset',\n",
    "        color='minNt',\n",
    "        #size='size',\n",
    "        tooltip=['minNc_r', 'count', 'minNc', 'minNt', 'robustnessVar', 'adjustedRobustness:Q']\n",
    "    )"
   ]
  },
  {
   "cell_type": "code",
   "execution_count": null,
   "metadata": {},
   "outputs": [],
   "source": [
    "plot2a([data['out']]).transform_calculate(\n",
    "    adjRob='datum.robustness / datum.minNt'\n",
    ")"
   ]
  },
  {
   "cell_type": "code",
   "execution_count": null,
   "metadata": {},
   "outputs": [],
   "source": [
    "plot2a([data['3d_10c_5t_1e8']])"
   ]
  },
  {
   "cell_type": "code",
   "execution_count": null,
   "metadata": {},
   "outputs": [],
   "source": [
    "plot2a([data['2d_3c_2t_1e8'],data['2d_3c_3t_1e8']])"
   ]
  },
  {
   "cell_type": "code",
   "execution_count": null,
   "metadata": {},
   "outputs": [],
   "source": [
    "plot2a([\n",
    "    data['3d_10c_5t_1e8'], data['3d_3c_2t_1e8'],\n",
    "    data['2d_3c_3t_1e8'], data['2d_3c_2t_1e8'],\n",
    "    data['1d_10c_5t_1e8']], minCount=10, logMinF=-7).properties(height=150, width=300).save('robustness.html')"
   ]
  },
  {
   "cell_type": "markdown",
   "metadata": {},
   "source": [
    "# Fig 2b"
   ]
  },
  {
   "cell_type": "code",
   "execution_count": null,
   "metadata": {},
   "outputs": [],
   "source": [
    "phenos = utils.loadPhenos('../cpp/out')\n",
    "import random\n",
    "random.sample(phenos,10)"
   ]
  },
  {
   "cell_type": "markdown",
   "metadata": {},
   "source": [
    "# Fig 3"
   ]
  },
  {
   "cell_type": "code",
   "execution_count": null,
   "metadata": {},
   "outputs": [],
   "source": [
    "def getMutationalDistance(hexA, hexB, maxColor=3, maxCubes=3, dim=3, limit=None):\n",
    "    emptyCube = \"000000000000\"\n",
    "    maxlen = max(len(hexA), len(hexB))\n",
    "    assert maxlen <= maxCubes * len(emptyCube), '{} is more than {}'.format(maxlen/len(emptyCube), maxCubes)\n",
    "    while len(hexA) < maxlen:\n",
    "        hexA += emptyCube\n",
    "    while len(hexB) < maxlen:\n",
    "        hexB += emptyCube\n",
    "    assert len(hexA) == maxlen, '{} should be {}'.format(len(hexA), maxlen)\n",
    "    assert len(hexB) == maxlen, '{} should be {}'.format(len(hexB), maxlen)\n",
    "    a = utils.parseHexRule(hexA)\n",
    "    b = utils.parseHexRule(hexB)\n",
    "\n",
    "    #Simplify?\n",
    "    a = utils.simplifyRuleset(a)\n",
    "    b = utils.simplifyRuleset(b)\n",
    "\n",
    "    assert maxColor >= max(face['color'] for cube in a for face in cube), ''\n",
    "    assert maxColor >= max(face['color'] for cube in b for face in cube)\n",
    "    attrs = ['color', 'orientation'] if dim==3 else ['color']\n",
    "    dist = 0\n",
    "    for cubeA, cubeB in zip(a,b):\n",
    "        for i in range(6):\n",
    "            for attr in attrs:\n",
    "                if cubeA[i][attr] != cubeB[i][attr]:\n",
    "                    dist += 1\n",
    "                    if limit and dist > limit:\n",
    "                        return dist\n",
    "    return dist\n",
    "\"\"\"\n",
    "def groupNeutralComponents(genotypes, sortevery=10):\n",
    "    nItems = len(items)\n",
    "    nGroups = 0\n",
    "    print(\"About to group {} rules\".format(nItems), flush=True)\n",
    "    groups = []\n",
    "    for i, item in enumerate(items):\n",
    "        if verbose:\n",
    "            print(\"{} components, {} genotypes grouped ({:n}%)\".format(nGroups, i, 100*i/nItems), end='\\r', flush=True)\n",
    "        foundGroup = False\n",
    "        for group in groups:\n",
    "            if test(item, group[0]):\n",
    "                group.append(item)\n",
    "                foundGroup = True\n",
    "                break\n",
    "        if not foundGroup:\n",
    "            groups.append([item])\n",
    "            nGroups += 1\n",
    "        if i%sortevery == 0:\n",
    "            groups.sort(key=lambda x: len(x), reverse=True) # Make sure most common is first\n",
    "    groups.sort(key=lambda x: len(x), reverse=True)\n",
    "    return groups\n",
    "\"\"\""
   ]
  },
  {
   "cell_type": "code",
   "execution_count": null,
   "metadata": {},
   "outputs": [],
   "source": [
    "import random\n",
    "r = a = '858500000000050000840000850086000000'\n",
    "distData = []\n",
    "for i in range(200):\n",
    "    r = random.choice(robustness.enumerateMutations(r,maxColor=3, maxCubes=3, dim=3))\n",
    "    distData.append({\n",
    "        'mutations': i,\n",
    "        'distance': getMutationalDistance(a, r)\n",
    "    })\n",
    "\n",
    "alt.Chart(pd.DataFrame(data=distData)).mark_line().encode(\n",
    "    x='mutations',\n",
    "    y='distance'\n",
    ")\n"
   ]
  },
  {
   "cell_type": "code",
   "execution_count": null,
   "metadata": {},
   "outputs": [],
   "source": [
    "phenos_2d_3c_3t_1e6 = utils.loadPhenos('../cpp/out')"
   ]
  },
  {
   "cell_type": "code",
   "execution_count": null,
   "metadata": {},
   "outputs": [],
   "source": [
    "import networkx as nx\n",
    "def calcConnectedComponents(pheno):\n",
    "    G = nx.Graph()\n",
    "    for g1 in pheno['genotypes']:\n",
    "        G.add_node(g1)\n",
    "        for g2 in pheno['genotypes']:\n",
    "            if g1 is not g2 and getMutationalDistance(g1, g2, maxColor=31, maxCubes=5, dim=3, limit=1) <= 1:\n",
    "                G.add_edge(g1, g2)\n",
    "    #nx.draw(G)\n",
    "    pheno['nNC'] = nx.number_connected_components(G)\n",
    "    pheno['largestNC'] = len(max(nx.connected_components(G), key=len))\n",
    "    return pheno"
   ]
  },
  {
   "cell_type": "code",
   "execution_count": null,
   "metadata": {},
   "outputs": [],
   "source": [
    "calcConnectedComponents(phenos_2d_3c_3t_1e6[6])"
   ]
  },
  {
   "cell_type": "code",
   "execution_count": null,
   "metadata": {},
   "outputs": [],
   "source": [
    "for i, p in enumerate(phenos_2d_3c_3t_1e6):\n",
    "    calcConnectedComponents(p)\n",
    "    print((i, p['nNC'], p['largestNC']), end=',')"
   ]
  },
  {
   "cell_type": "code",
   "execution_count": null,
   "metadata": {
    "scrolled": true
   },
   "outputs": [],
   "source": [
    "alt.Chart(pd.DataFrame(data=phenos_2d_3c_3t_1e6)).mark_circle().encode(\n",
    "    alt.X('freq', scale=alt.Scale(type='log'), title=\"Phenotype frequency fₚ\"),\n",
    "    y='nNC'\n",
    ")"
   ]
  },
  {
   "cell_type": "code",
   "execution_count": null,
   "metadata": {},
   "outputs": [],
   "source": [
    "alt.Chart(pd.DataFrame(data=phenos_2d_3c_3t_1e6)).mark_circle().encode(\n",
    "    alt.X('freq', scale=alt.Scale(type='log'), title=\"Phenotype frequency fₚ\"),\n",
    "    y='largestNC'\n",
    ")"
   ]
  },
  {
   "cell_type": "code",
   "execution_count": null,
   "metadata": {},
   "outputs": [],
   "source": []
  },
  {
   "cell_type": "code",
   "execution_count": null,
   "metadata": {},
   "outputs": [],
   "source": []
  },
  {
   "cell_type": "code",
   "execution_count": null,
   "metadata": {},
   "outputs": [],
   "source": []
  }
 ],
 "metadata": {
  "kernelspec": {
   "display_name": "Python 3",
   "language": "python",
   "name": "python3"
  },
  "language_info": {
   "codemirror_mode": {
    "name": "ipython",
    "version": 3
   },
   "file_extension": ".py",
   "mimetype": "text/x-python",
   "name": "python",
   "nbconvert_exporter": "python",
   "pygments_lexer": "ipython3",
   "version": "3.7.6"
  }
 },
 "nbformat": 4,
 "nbformat_minor": 4
}
