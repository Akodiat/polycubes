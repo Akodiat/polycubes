{
 "cells": [
  {
   "cell_type": "markdown",
   "id": "unlimited-copyright",
   "metadata": {},
   "source": [
    "# Read analysed"
   ]
  },
  {
   "cell_type": "code",
   "execution_count": null,
   "id": "thorough-american",
   "metadata": {
    "tags": []
   },
   "outputs": [],
   "source": [
    "import utils\n",
    "import altair as alt\n",
    "import pandas as pd\n",
    "import re\n",
    "import math\n",
    "from analysePhenotype import readAnalysed"
   ]
  },
  {
   "cell_type": "markdown",
   "id": "stock-suspect",
   "metadata": {},
   "source": [
    "## First, let's take a look at the raw data"
   ]
  },
  {
   "cell_type": "code",
   "execution_count": null,
   "id": "arabic-teens",
   "metadata": {
    "tags": []
   },
   "outputs": [],
   "source": [
    "paths = [\n",
    "    '/mnt/extraspace/joakim/210906/seeded/2d',\n",
    "    '/mnt/extraspace/joakim/210906/seeded/3d',\n",
    "    '/mnt/extraspace/joakim/210906/stochastic/2d',\n",
    "    '/mnt/extraspace/joakim/210906/stochastic/3d'\n",
    "]\n",
    "alt.data_transformers.disable_max_rows()"
   ]
  },
  {
   "cell_type": "markdown",
   "id": "hollywood-investing",
   "metadata": {},
   "source": [
    "### How much time did it take?"
   ]
  },
  {
   "cell_type": "code",
   "execution_count": null,
   "id": "random-candle",
   "metadata": {
    "tags": []
   },
   "outputs": [],
   "source": [
    "def printTiming(path):\n",
    "    ! grep \"Total run time\" $path/*.out"
   ]
  },
  {
   "cell_type": "code",
   "execution_count": null,
   "id": "2811c6fd-a40d-4dae-9e92-78d6ab2b50f6",
   "metadata": {},
   "outputs": [],
   "source": [
    "for path in paths:\n",
    "    printTiming(path)"
   ]
  },
  {
   "cell_type": "markdown",
   "id": "corresponding-clone",
   "metadata": {},
   "source": [
    "## How many did we sample and how many were valid?"
   ]
  },
  {
   "cell_type": "code",
   "execution_count": null,
   "id": "checked-variable",
   "metadata": {
    "tags": []
   },
   "outputs": [],
   "source": [
    "def statsFromPath(path):\n",
    "    outputMessages = ! grep -h \"Done!\" $path/polycubes*.out\n",
    "    nValid = nUnbounded = nNondet = 0\n",
    "    for row in outputMessages:\n",
    "        nP, nU, nN = [int(n) for n in re.compile('(\\d+)').findall(row)]\n",
    "        nValid += nP\n",
    "        nUnbounded += nU\n",
    "        nNondet += nN\n",
    "    assemblyMode, nDim = path.split('/')[-2:]\n",
    "    df = pd.DataFrame({\n",
    "        'type': ['Valid rules', 'Non-deterministic', 'Unbounded'],\n",
    "        'count': [nValid, nUnbounded, nNondet]\n",
    "    })\n",
    "    df['assemblyMode'] = assemblyMode\n",
    "    df['nDim'] = nDim\n",
    "    \n",
    "    print('Loaded {} {}:'.format(assemblyMode, nDim))\n",
    "    print('  Sampled {:,d} rules in total'.format(nValid + nNondet + nUnbounded))\n",
    "    print('  Found {:,d} valid rules. Also found {:,d} unbounded and {:,d} nondeterministic rules'.format(nValid, nUnbounded, nNondet))\n",
    "    \n",
    "    return df\n",
    "def statsFromPaths(paths):\n",
    "    return pd.concat([statsFromPath(path) for path in paths])"
   ]
  },
  {
   "cell_type": "code",
   "execution_count": null,
   "id": "f4c87a3b-a019-442a-9013-aa8e3930af03",
   "metadata": {},
   "outputs": [],
   "source": [
    "alt.Chart(statsFromPaths(paths)).mark_bar().encode(\n",
    "    x=alt.X('count:Q', title=\"Samples\"),\n",
    "    y=alt.Y('nDim:N', title=None),\n",
    "    color='type:N',\n",
    "    row = alt.Row('assemblyMode', title=None)\n",
    ").properties(\n",
    "    title='Proportion of valid rules in different datasets'\n",
    ")"
   ]
  },
  {
   "cell_type": "markdown",
   "id": "provincial-associate",
   "metadata": {},
   "source": [
    "## How many phenotypes of each size did we find?"
   ]
  },
  {
   "cell_type": "code",
   "execution_count": null,
   "id": "20f09e1b-7fb7-4f71-8ce6-91ea681cbd84",
   "metadata": {},
   "outputs": [],
   "source": [
    "def readAndAssign(path):\n",
    "    [f] = ! ls $path/*.ftr\n",
    "    df = readAnalysed(f)\n",
    "    assemblyMode, nDim = path.split('/')[-2:]\n",
    "    df['assemblyMode'] = assemblyMode\n",
    "    df['nDim'] = nDim\n",
    "    return df\n",
    "def readMulti(paths):\n",
    "    return pd.concat([readAndAssign(path) for path in paths])"
   ]
  },
  {
   "cell_type": "code",
   "execution_count": null,
   "id": "certain-scope",
   "metadata": {
    "tags": []
   },
   "outputs": [],
   "source": [
    "alt.Chart(readMulti(paths)).mark_bar().encode(\n",
    "    alt.X(\"size:O\"),\n",
    "    alt.Y(\"count()\", scale=alt.Scale(type='log')),\n",
    "    tooltip=[\"count()\", \"size\"],\n",
    "    row = 'assemblyMode:N',\n",
    "    column = 'nDim:N'\n",
    ").properties(\n",
    "    width=500,\n",
    "    height=200,\n",
    "    title=\"Distribution of phenotypes sizes\"\n",
    ")"
   ]
  },
  {
   "cell_type": "markdown",
   "id": "educational-bearing",
   "metadata": {},
   "source": [
    "## Zoo plots"
   ]
  },
  {
   "cell_type": "code",
   "execution_count": null,
   "id": "stone-cable",
   "metadata": {
    "tags": []
   },
   "outputs": [],
   "source": [
    "def plotZoo(path, size, sampled, dims=[400,400], sizeScaling='log'):\n",
    "    df = readAnalysed(path)\n",
    "    source = df.loc[df['size'] == size]\n",
    "    width = math.ceil(math.sqrt(len(source) * dims[0]/dims[1]))\n",
    "    assemblyMode, nDim = path.split('/')[-3:-1]\n",
    "    return alt.Chart(source).transform_window(\n",
    "        rank=\"rank()\",\n",
    "        sort=[\n",
    "            alt.SortField(\"count\", order=\"descending\"),\n",
    "            alt.SortField(\"minLz_r\", order=\"descending\"), # Needed if counts are equal\n",
    "        ]\n",
    "    ).transform_calculate(\n",
    "        freq='datum.count/{}'.format(sampled),\n",
    "        row=\"floor((datum.rank-1)/{})\".format(width),\n",
    "        col=\"(datum.rank-1) % {}\".format(width)\n",
    "    ).mark_point(\n",
    "        filled=True, size=100\n",
    "    ).encode(\n",
    "        x=alt.X(\"col:O\", axis=None),\n",
    "        y=alt.Y(\"row:O\", axis=None),\n",
    "        tooltip=['count', 'rank:Q', 'minLz', 'minNc', 'minNt', 'sizeId', 'minNt', 'minLz_r'],\n",
    "        size = alt.Size('freq:Q', title=\"Frequency\", scale=alt.Scale(type=sizeScaling)),\n",
    "        color = alt.Color('freq:Q', scale=alt.Scale(scheme=\"redyellowgreen\")),\n",
    "    ).properties(\n",
    "        width=dims[0],\n",
    "        height=dims[1],\n",
    "        title = '{}-mer frequencies ({} {})'.format(size, assemblyMode, nDim)\n",
    "    ).configure_view(\n",
    "        strokeWidth=0\n",
    "    )"
   ]
  },
  {
   "cell_type": "code",
   "execution_count": null,
   "id": "accurate-officer",
   "metadata": {},
   "outputs": [],
   "source": [
    "plotZoo('/mnt/extraspace/joakim/210906/seeded/2d/out_24426_analysed.ftr', 16, 1e7, [300,200])"
   ]
  },
  {
   "cell_type": "code",
   "execution_count": null,
   "id": "d115346e-0ba5-4231-b339-3d017ce687c1",
   "metadata": {},
   "outputs": [],
   "source": [
    "plotZoo('/mnt/extraspace/joakim/210906/seeded/3d/out_13170_analysed.ftr', 16, 1e7, [600,400])"
   ]
  },
  {
   "cell_type": "code",
   "execution_count": null,
   "id": "mathematical-diagram",
   "metadata": {},
   "outputs": [],
   "source": [
    "plotZoo('/mnt/extraspace/joakim/210906/seeded/3d/out_13170_analysed.ftr', 16, 1e7, [600,400], sizeScaling='linear')"
   ]
  },
  {
   "cell_type": "markdown",
   "id": "worthy-saskatchewan",
   "metadata": {},
   "source": [
    "# Genotypes\n",
    "\n",
    "We also have the full dataset with each genotype rule"
   ]
  },
  {
   "cell_type": "code",
   "execution_count": null,
   "id": "minor-moderator",
   "metadata": {},
   "outputs": [],
   "source": [
    "import h5py\n",
    "def parseRule(rule):\n",
    "    try:\n",
    "        return rule if isinstance(rule, str) else rule.decode()\n",
    "    except:\n",
    "        print(\"Could not parse {}\".format(rule))\n",
    "        return rule\n",
    "def getRules(path, n, shape, index):\n",
    "    f = h5py.File(path, 'r')\n",
    "    return (parseRule(v) for v in f[n][shape][\"pheno_{}\".format(index)])"
   ]
  },
  {
   "cell_type": "markdown",
   "id": "choice-thumb",
   "metadata": {},
   "source": [
    "Let's check out one of the 8-mers"
   ]
  },
  {
   "cell_type": "code",
   "execution_count": null,
   "id": "martial-speech",
   "metadata": {
    "scrolled": true,
    "tags": []
   },
   "outputs": [],
   "source": [
    "def calcPhenoRules(path, n, shape, index):\n",
    "    [pathH5] = ! ls $path/*.h5\n",
    "    data = []\n",
    "    for r in getRules(pathH5, n, shape, index):\n",
    "        rSimpl = utils.simplifyRuleset(utils.parseHexRule(r))\n",
    "        simplHex = utils.ruleToHex(rSimpl)\n",
    "        data.append({\n",
    "            'lz': utils.lzFromHexRule(simplHex),\n",
    "            'nc': max(face['color'] for rule in rSimpl for face in rule),\n",
    "            'nt': len(rSimpl),\n",
    "            'rule': simplHex\n",
    "        })\n",
    "    print(data[0]['rule'])\n",
    "    return pd.DataFrame(data)\n",
    "\n",
    "def plotComplDistr(path, n, shape, index, measure='lz'):\n",
    "    base = alt.Chart(calcPhenoRules(path, n, shape, index))\n",
    "    return base.mark_bar().encode(\n",
    "        alt.X(\"lz:Q\", bin=alt.Bin(maxbins=50)),\n",
    "        alt.Y(\"count()\"),\n",
    "        tooltip=[\"count()\", \"lz\", \"nc\", \"nt\"]\n",
    "    ).properties(\n",
    "        width=500,\n",
    "        height=200,\n",
    "        title=\"Complexity distribution for {} of dimensions {}\".format(n, shape)\n",
    "    ) + base.mark_rule(color='red').encode(\n",
    "        x='mean({}):Q'.format(measure),\n",
    "        size=alt.value(5)\n",
    "    )"
   ]
  },
  {
   "cell_type": "code",
   "execution_count": null,
   "id": "subjective-period",
   "metadata": {},
   "outputs": [],
   "source": [
    "plotComplDistr('/mnt/extraspace/joakim/210906/seeded/3d', '6-mer', \"2.2.2\", 0)"
   ]
  },
  {
   "cell_type": "code",
   "execution_count": null,
   "id": "quality-collar",
   "metadata": {},
   "outputs": [],
   "source": [
    "plotComplDistr('/mnt/extraspace/joakim/210906/seeded/3d', '16-mer', \"3.3.2\", 0)"
   ]
  },
  {
   "cell_type": "code",
   "execution_count": null,
   "id": "pacific-outside",
   "metadata": {},
   "outputs": [],
   "source": [
    "plotComplDistr('/mnt/extraspace/joakim/210906/seeded/3d', '16-mer', \"4.4.1\", 0)"
   ]
  },
  {
   "cell_type": "code",
   "execution_count": null,
   "id": "ultimate-anniversary",
   "metadata": {},
   "outputs": [],
   "source": [
    "plotComplDistr('/mnt/extraspace/joakim/210906/seeded/3d', '8-mer', \"2.2.2\", 0)"
   ]
  },
  {
   "cell_type": "code",
   "execution_count": null,
   "id": "394052e2-94d6-49ec-84cc-b7d52dd00c86",
   "metadata": {},
   "outputs": [],
   "source": []
  }
 ],
 "metadata": {
  "kernelspec": {
   "display_name": "Python 3",
   "language": "python",
   "name": "python3"
  },
  "language_info": {
   "codemirror_mode": {
    "name": "ipython",
    "version": 3
   },
   "file_extension": ".py",
   "mimetype": "text/x-python",
   "name": "python",
   "nbconvert_exporter": "python",
   "pygments_lexer": "ipython3",
   "version": "3.8.5"
  }
 },
 "nbformat": 4,
 "nbformat_minor": 5
}
