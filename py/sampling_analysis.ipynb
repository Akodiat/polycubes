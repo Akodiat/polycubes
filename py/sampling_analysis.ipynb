{
 "cells": [
  {
   "cell_type": "markdown",
   "id": "unlimited-copyright",
   "metadata": {},
   "source": [
    "# Read analysed"
   ]
  },
  {
   "cell_type": "code",
   "execution_count": null,
   "id": "thorough-american",
   "metadata": {
    "tags": []
   },
   "outputs": [],
   "source": [
    "import utils\n",
    "import altair as alt\n",
    "import pandas as pd\n",
    "import re\n",
    "import math\n",
    "from analysePhenotype import readAnalysed"
   ]
  },
  {
   "cell_type": "markdown",
   "id": "stock-suspect",
   "metadata": {},
   "source": [
    "## First, let's take a look at the raw data"
   ]
  },
  {
   "cell_type": "code",
   "execution_count": null,
   "id": "arabic-teens",
   "metadata": {
    "tags": []
   },
   "outputs": [],
   "source": [
    "paths = [\n",
    "    #'/mnt/extraspace/joakim/210906/seeded/2d',\n",
    "    #'/mnt/extraspace/joakim/210906/seeded/3d',\n",
    "    #'/mnt/extraspace/joakim/210906/stochastic/2d',\n",
    "    #'/mnt/extraspace/joakim/210906/stochastic/3d'\n",
    "    '/mnt/extraspace/joakim/210924/seeded/2d',\n",
    "    '/mnt/extraspace/joakim/210924/seeded/3d',\n",
    "    '/mnt/extraspace/joakim/210924/stochastic/2d',\n",
    "    '/mnt/extraspace/joakim/210924/stochastic/3d'\n",
    "]\n",
    "alt.data_transformers.disable_max_rows()"
   ]
  },
  {
   "cell_type": "markdown",
   "id": "hollywood-investing",
   "metadata": {
    "tags": []
   },
   "source": [
    "### How much time did it take?"
   ]
  },
  {
   "cell_type": "code",
   "execution_count": null,
   "id": "random-candle",
   "metadata": {
    "tags": []
   },
   "outputs": [],
   "source": [
    "def printTiming(path):\n",
    "    ! grep \"Total run time\" $path/*.out"
   ]
  },
  {
   "cell_type": "code",
   "execution_count": null,
   "id": "2811c6fd-a40d-4dae-9e92-78d6ab2b50f6",
   "metadata": {
    "tags": []
   },
   "outputs": [],
   "source": [
    "for path in paths:\n",
    "    printTiming(path)"
   ]
  },
  {
   "cell_type": "markdown",
   "id": "16b4abb1-9110-4b13-8812-f8b31c7b6389",
   "metadata": {},
   "source": [
    "### How large are the files?"
   ]
  },
  {
   "cell_type": "code",
   "execution_count": null,
   "id": "bf14dd3b-ca6b-4098-a76b-dd8f791f4323",
   "metadata": {},
   "outputs": [],
   "source": [
    "def printSize(path):\n",
    "    ! ls -lh $path/*.h5"
   ]
  },
  {
   "cell_type": "code",
   "execution_count": null,
   "id": "34576a37-72b3-4970-a0eb-cc9e2e9d9a69",
   "metadata": {
    "jupyter": {
     "source_hidden": true
    },
    "tags": []
   },
   "outputs": [],
   "source": [
    "for path in paths:\n",
    "    printSize(path)"
   ]
  },
  {
   "cell_type": "markdown",
   "id": "corresponding-clone",
   "metadata": {},
   "source": [
    "## How many did we sample and how many were valid?"
   ]
  },
  {
   "cell_type": "code",
   "execution_count": null,
   "id": "checked-variable",
   "metadata": {
    "tags": []
   },
   "outputs": [],
   "source": [
    "def statsFromPath(path):\n",
    "    outputMessages = ! grep -h \"Done!\" $path/polycubes*.out\n",
    "    nValid = nUnbounded = nNondet = 0\n",
    "    for row in outputMessages:\n",
    "        nP, nU, nN = [int(n) for n in re.compile('(\\d+)').findall(row)]\n",
    "        nValid += nP\n",
    "        nUnbounded += nU\n",
    "        nNondet += nN\n",
    "    assemblyMode, nDim = path.split('/')[-2:]\n",
    "    df = pd.DataFrame({\n",
    "        'type': ['Valid', 'Non-deterministic', 'Unbounded'],\n",
    "        'count': [nValid, nUnbounded, nNondet]\n",
    "    })\n",
    "    df['assemblyMode'] = assemblyMode\n",
    "    df['nDim'] = nDim\n",
    "    \n",
    "    print('Loaded {} {}:'.format(assemblyMode, nDim))\n",
    "    print('  Sampled {:,d} rules in total'.format(nValid + nNondet + nUnbounded))\n",
    "    print('  Found {:,d} valid rules. Also found {:,d} unbounded and {:,d} nondeterministic rules'.format(nValid, nUnbounded, nNondet))\n",
    "    \n",
    "    return df\n",
    "def statsFromPaths(paths):\n",
    "    return pd.concat([statsFromPath(path) for path in paths])"
   ]
  },
  {
   "cell_type": "code",
   "execution_count": null,
   "id": "f4c87a3b-a019-442a-9013-aa8e3930af03",
   "metadata": {},
   "outputs": [],
   "source": [
    "alt.Chart(statsFromPaths(paths)).mark_bar().encode(\n",
    "    x=alt.X('count:Q', title=\"Samples\"),\n",
    "    y=alt.Y('assemblyMode:N', title=None),\n",
    "    color=alt.Color('type:O', title=\"Rule validity\", scale=alt.Scale(scheme='set1')),\n",
    "    row = alt.Row('nDim:N', title=None)\n",
    ")"
   ]
  },
  {
   "cell_type": "markdown",
   "id": "provincial-associate",
   "metadata": {},
   "source": [
    "## How many phenotypes of each size did we find?"
   ]
  },
  {
   "cell_type": "code",
   "execution_count": null,
   "id": "e3196715-787f-4115-b402-5db90b6a8293",
   "metadata": {},
   "outputs": [],
   "source": [
    "oeisA000162 = [1, 1, 2, 8, 29, 166, 1023, 6922, 48311, 346543, 2522522, 18598427, 138462649, 1039496297, 7859514470, 59795121480]\n",
    "oeisA000162Plot = alt.Chart(pd.DataFrame({'count': oeisA000162, 'size': range(len(oeisA000162))})\n",
    ").mark_line(color='red', clip=True).encode(\n",
    "    alt.X(\"size:Q\", scale=alt.Scale(domain=(1,100))),\n",
    "    alt.Y(\"count:Q\")\n",
    ")"
   ]
  },
  {
   "cell_type": "code",
   "execution_count": null,
   "id": "0cb7c868-581a-42e4-a2cc-ced4fce67965",
   "metadata": {},
   "outputs": [],
   "source": [
    "oeisA000988 = [1, 1, 1, 2, 7, 18, 60, 196, 704, 2500, 9189, 33896, 126759, 476270, 1802312, 6849777, 26152418]\n",
    "oeisA000988Plot = alt.Chart(pd.DataFrame({'count': oeisA000988, 'size': range(len(oeisA000988))})\n",
    ").mark_line(color='red', clip=True).encode(\n",
    "    alt.X(\"size:Q\", scale=alt.Scale(domain=(1,100))),\n",
    "    alt.Y(\"count:Q\")\n",
    ")"
   ]
  },
  {
   "cell_type": "code",
   "execution_count": null,
   "id": "f94a253c-3668-4a70-8aff-1a30fcd3f44e",
   "metadata": {},
   "outputs": [],
   "source": [
    "(oeisA000988Plot | oeisA000988Plot) & (oeisA000162Plot | oeisA000162Plot)"
   ]
  },
  {
   "cell_type": "code",
   "execution_count": null,
   "id": "20f09e1b-7fb7-4f71-8ce6-91ea681cbd84",
   "metadata": {},
   "outputs": [],
   "source": [
    "def readAndAssign(path):\n",
    "    [f] = ! ls $path/*.ftr\n",
    "    df = readAnalysed(f)\n",
    "    assemblyMode, nDim = path.split('/')[-2:]\n",
    "    df['assemblyMode'] = assemblyMode\n",
    "    df['nDim'] = nDim\n",
    "    return df\n",
    "def readMulti(paths):\n",
    "    return pd.concat([readAndAssign(path) for path in paths])"
   ]
  },
  {
   "cell_type": "code",
   "execution_count": null,
   "id": "7a6dba4c-4647-4c5c-af30-6c6f6f214827",
   "metadata": {},
   "outputs": [],
   "source": [
    "def distrPlot(path):\n",
    "    [f] = ! ls $path/*.ftr\n",
    "    assemblyMode, nDim = path.split('/')[-2:]\n",
    "    df = readAnalysed(f)\n",
    "    return alt.Chart(df).mark_bar(clip=True).encode(\n",
    "        alt.X(\"size:Q\", scale=alt.Scale(domain=(1,100))),\n",
    "        alt.Y(\"count()\", scale=alt.Scale(type='log', domain=(1, 100000)), title=\"Output count\"),\n",
    "        tooltip=[\"count()\", \"size\"]\n",
    "    ).properties(\n",
    "        width=300,\n",
    "        height=200,\n",
    "        title=\"{} {}\".format(assemblyMode, nDim)\n",
    "    ) + (oeisA000162Plot if nDim == '3d' else oeisA000988Plot)"
   ]
  },
  {
   "cell_type": "code",
   "execution_count": null,
   "id": "e50b9f64-662c-4488-8634-bdaef596baa0",
   "metadata": {},
   "outputs": [],
   "source": [
    "(distrPlot('/mnt/extraspace/joakim/210924/seeded/2d') | distrPlot('/mnt/extraspace/joakim/210924/stochastic/2d')) & (distrPlot('/mnt/extraspace/joakim/210924/seeded/3d') | distrPlot('/mnt/extraspace/joakim/210924/stochastic/3d'))"
   ]
  },
  {
   "cell_type": "code",
   "execution_count": null,
   "id": "certain-scope",
   "metadata": {
    "tags": []
   },
   "outputs": [],
   "source": [
    "alt.Chart(readMulti(paths)).mark_bar().encode(\n",
    "    alt.X(\"size:O\"),\n",
    "    alt.Y(\"count()\", scale=alt.Scale(type='log'), title=\"Phenotype count\"),\n",
    "    tooltip=[\"count()\", \"size\"],\n",
    "    column = alt.Column('assemblyMode', title=\"Assembly mode\"),\n",
    "    row = alt.Row('nDim:N', title=None)\n",
    ").properties(\n",
    "    width=300,\n",
    "    height=200,\n",
    "    title=\"Distribution of phenotypes sizes\"\n",
    ")"
   ]
  },
  {
   "cell_type": "code",
   "execution_count": null,
   "id": "8d444418-4305-40b4-8771-23bb91fee449",
   "metadata": {},
   "outputs": [],
   "source": []
  },
  {
   "cell_type": "code",
   "execution_count": null,
   "id": "60ebfda8-5cf2-4786-85ce-767a3d92f904",
   "metadata": {},
   "outputs": [],
   "source": [
    "alt.Chart(readMulti(['/mnt/extraspace/joakim/210918/seeded/2d',\n",
    "    '/mnt/extraspace/joakim/210918/stochastic/2d'])).mark_bar().encode(\n",
    "    alt.X(\"size:O\"),\n",
    "    alt.Y(\"count()\", scale=alt.Scale(type='log'), title=\"Phenotype count\"),\n",
    "    tooltip=[\"count()\", \"size\"],\n",
    "    color = alt.Color('assemblyMode', title=\"Assembly mode\")\n",
    ").properties(\n",
    "    width=300,\n",
    "    height=200,\n",
    "    title=\"Distribution of phenotypes sizes\"\n",
    ")"
   ]
  },
  {
   "cell_type": "markdown",
   "id": "educational-bearing",
   "metadata": {},
   "source": [
    "## Zoo plots"
   ]
  },
  {
   "cell_type": "code",
   "execution_count": null,
   "id": "9eb4ae8e-6cdb-4920-99d7-e7a5580b2091",
   "metadata": {},
   "outputs": [],
   "source": [
    "def listShapes(path, nSampled, nDim, method, minCount=1, nMer = None, limit=100):\n",
    "    title = 'Frequency vs complexity, {:.1E} samples of {}D {}'.format(nSampled, nDim, method)\n",
    "    tmp = \"{}/{}/{}d\".format(path, method, nDim)\n",
    "    [filename] = !ls $tmp/*.ftr\n",
    "    print(filename)\n",
    "    df = readAnalysed(filename)\n",
    "    if nMer is not None:\n",
    "        df = df.loc[df['size'] == nMer]\n",
    "    df = df.sort_values(['count'], ascending=False)\n",
    "    return df['minNt_r'].tolist()[:limit], df['count'].tolist()[:limit]"
   ]
  },
  {
   "cell_type": "code",
   "execution_count": null,
   "id": "de5b814b-259e-43a0-ad85-64d7105aa49a",
   "metadata": {},
   "outputs": [],
   "source": [
    "listShapes(\n",
    "    path = '/mnt/extraspace/joakim/refcalc',\n",
    "    nSampled = 1e9, nDim = 2, method = 'seeded', minCount = 1, nMer=16, limit=50\n",
    ")"
   ]
  },
  {
   "cell_type": "code",
   "execution_count": null,
   "id": "e4189f27-dce0-46d8-a8d3-97ce0007688a",
   "metadata": {},
   "outputs": [],
   "source": [
    "listShapes(\n",
    "    path = '/mnt/extraspace/joakim/210924',\n",
    "    nSampled = 1e8, nDim = 3, method = 'seeded', minCount = 1, nMer=8, limit=50\n",
    ")"
   ]
  },
  {
   "cell_type": "code",
   "execution_count": null,
   "id": "stone-cable",
   "metadata": {
    "tags": []
   },
   "outputs": [],
   "source": [
    "def plotZoo(path, size, sampled, dims=[400,400], sizeScaling='log'):\n",
    "    df = readAnalysed(path)\n",
    "    source = df.loc[df['size'] == size]\n",
    "    width = math.ceil(math.sqrt(len(source) * dims[0]/dims[1]))\n",
    "    assemblyMode, nDim = path.split('/')[-3:-1]\n",
    "    return alt.Chart(source).transform_window(\n",
    "        rank=\"rank()\",\n",
    "        sort=[\n",
    "            alt.SortField(\"count\", order=\"descending\"),\n",
    "            alt.SortField(\"minLz_r\", order=\"descending\"), # Needed if counts are equal\n",
    "        ]\n",
    "    ).transform_calculate(\n",
    "        freq='datum.count/{}'.format(sampled),\n",
    "        url='\"https://akodiat.github.io/polycubes/?rule=\"+datum.minLz_r',\n",
    "        row=\"floor((datum.rank-1)/{})\".format(width),\n",
    "        col=\"(datum.rank-1) % {}\".format(width)\n",
    "    ).mark_point(\n",
    "        filled=True, size=100\n",
    "    ).encode(\n",
    "        x=alt.X(\"col:O\", axis=None),\n",
    "        y=alt.Y(\"row:O\", axis=None),\n",
    "        tooltip=['count', 'rank:Q', 'minLz', 'minNc', 'minNt', 'sizeId', 'minNt', 'minLz_r'],\n",
    "        size = alt.Size('freq:Q', title=\"Frequency\", scale=alt.Scale(type=sizeScaling)),\n",
    "        color = alt.Color('freq:Q', scale=alt.Scale(scheme=\"redyellowgreen\")),\n",
    "        href='url:N'\n",
    "    ).properties(\n",
    "        width=dims[0],\n",
    "        height=dims[1],\n",
    "        title = '{}-mer frequencies ({} {})'.format(size, assemblyMode, nDim)\n",
    "    ).configure_view(\n",
    "        strokeWidth=0\n",
    "    )"
   ]
  },
  {
   "cell_type": "code",
   "execution_count": null,
   "id": "accurate-officer",
   "metadata": {},
   "outputs": [],
   "source": [
    "plotZoo('/mnt/extraspace/joakim/210906/seeded/2d/out_24426_analysed.ftr', 16, 1e7, [300,200])"
   ]
  },
  {
   "cell_type": "code",
   "execution_count": null,
   "id": "4dfe946f-5b95-4cb7-bc8f-f9a9f6651110",
   "metadata": {},
   "outputs": [],
   "source": [
    "plotZoo('/mnt/extraspace/joakim/210924/stochastic/2d/out_5281_analysed.ftr', 16, 1e8, [300,200])"
   ]
  },
  {
   "cell_type": "code",
   "execution_count": null,
   "id": "78d74972-dfa6-4b69-80a1-9129a8884481",
   "metadata": {},
   "outputs": [],
   "source": [
    "plotZoo('/mnt/extraspace/joakim/210906/seeded/2d/out_24426_analysed.ftr', 8, 1e7, [300,200])"
   ]
  },
  {
   "cell_type": "code",
   "execution_count": null,
   "id": "d115346e-0ba5-4231-b339-3d017ce687c1",
   "metadata": {},
   "outputs": [],
   "source": [
    "plotZoo('/mnt/extraspace/joakim/210906/seeded/3d/out_13170_analysed.ftr', 16, 1e7, [600,400])"
   ]
  },
  {
   "cell_type": "code",
   "execution_count": null,
   "id": "mathematical-diagram",
   "metadata": {},
   "outputs": [],
   "source": [
    "plotZoo('/mnt/extraspace/joakim/210906/seeded/3d/out_13170_analysed.ftr', 16, 1e7, [600,400], sizeScaling='linear')"
   ]
  },
  {
   "cell_type": "markdown",
   "id": "worthy-saskatchewan",
   "metadata": {},
   "source": [
    "# Genotypes\n",
    "\n",
    "We also have the full dataset with each genotype rule"
   ]
  },
  {
   "cell_type": "code",
   "execution_count": null,
   "id": "minor-moderator",
   "metadata": {},
   "outputs": [],
   "source": [
    "import h5py\n",
    "def parseRule(rule):\n",
    "    try:\n",
    "        return rule if isinstance(rule, str) else rule.decode()\n",
    "    except:\n",
    "        print(\"Could not parse {}\".format(rule))\n",
    "        return rule\n",
    "def getRules(path, n, shape, index):\n",
    "    f = h5py.File(path, 'r')\n",
    "    return (parseRule(v) for v in f[n][shape][\"pheno_{}\".format(index)])"
   ]
  },
  {
   "cell_type": "markdown",
   "id": "choice-thumb",
   "metadata": {},
   "source": [
    "Let's check out one of the 8-mers"
   ]
  },
  {
   "cell_type": "code",
   "execution_count": null,
   "id": "martial-speech",
   "metadata": {
    "scrolled": true,
    "tags": []
   },
   "outputs": [],
   "source": [
    "def calcPhenoRules(path, n, shape, index):\n",
    "    [pathH5] = ! ls $path/*.h5\n",
    "    data = []\n",
    "    for r in getRules(pathH5, n, shape, index):\n",
    "        rSimpl = utils.simplifyRuleset(utils.parseHexRule(r))\n",
    "        simplHex = utils.ruleToHex(rSimpl)\n",
    "        data.append({\n",
    "            'lz': utils.lzFromHexRule(simplHex),\n",
    "            'nc': max(face['color'] for rule in rSimpl for face in rule),\n",
    "            'nt': len(rSimpl),\n",
    "            'rule': simplHex\n",
    "        })\n",
    "    print(data[0]['rule'])\n",
    "    return pd.DataFrame(data)\n",
    "\n",
    "def plotComplDistr(path, n, shape, index, measure='lz'):\n",
    "    base = alt.Chart(calcPhenoRules(path, n, shape, index))\n",
    "    return base.mark_bar().encode(\n",
    "        alt.X(\"{}:Q\".format(measure), bin=alt.Bin(maxbins=50)),\n",
    "        alt.Y(\"count()\"),\n",
    "        tooltip=[\"count()\", \"lz\", \"nc\", \"nt\"]\n",
    "    ).properties(\n",
    "        width=500,\n",
    "        height=200,\n",
    "        title=\"Complexity distribution for {} of dimensions {}\".format(n, shape)\n",
    "    ) + base.mark_rule(color='red').encode(\n",
    "        x='mean({}):Q'.format(measure),\n",
    "        size=alt.value(5)\n",
    "    )"
   ]
  },
  {
   "cell_type": "code",
   "execution_count": null,
   "id": "subjective-period",
   "metadata": {},
   "outputs": [],
   "source": [
    "plotComplDistr('/mnt/extraspace/joakim/210906/seeded/3d', '6-mer', \"2.2.2\", 0)"
   ]
  },
  {
   "cell_type": "code",
   "execution_count": null,
   "id": "366ba15b-9b6f-42c0-995d-6602a9ebb862",
   "metadata": {},
   "outputs": [],
   "source": [
    "plotComplDistr('/mnt/extraspace/joakim/210906/seeded/3d', '6-mer', \"2.2.2\", 0, measure = 'nc)"
   ]
  },
  {
   "cell_type": "code",
   "execution_count": null,
   "id": "quality-collar",
   "metadata": {},
   "outputs": [],
   "source": [
    "plotComplDistr('/mnt/extraspace/joakim/210906/seeded/3d', '16-mer', \"3.3.2\", 0)"
   ]
  },
  {
   "cell_type": "code",
   "execution_count": null,
   "id": "pacific-outside",
   "metadata": {},
   "outputs": [],
   "source": [
    "plotComplDistr('/mnt/extraspace/joakim/210906/seeded/3d', '16-mer', \"4.4.1\", 0)"
   ]
  },
  {
   "cell_type": "code",
   "execution_count": null,
   "id": "ultimate-anniversary",
   "metadata": {},
   "outputs": [],
   "source": [
    "plotComplDistr('/mnt/extraspace/joakim/210906/seeded/3d', '8-mer', \"2.2.2\", 0)"
   ]
  },
  {
   "cell_type": "code",
   "execution_count": null,
   "id": "394052e2-94d6-49ec-84cc-b7d52dd00c86",
   "metadata": {},
   "outputs": [],
   "source": []
  },
  {
   "cell_type": "code",
   "execution_count": null,
   "id": "70937442-aaa8-4782-a015-00ec293c5689",
   "metadata": {},
   "outputs": [],
   "source": [
    "plotComplDistr('/mnt/extraspace/joakim/210906/seeded/2d', '8-mer', \"3.3.1\", 0)"
   ]
  },
  {
   "cell_type": "code",
   "execution_count": null,
   "id": "e6facea3-2c18-4fd5-90d5-3c07c5289223",
   "metadata": {},
   "outputs": [],
   "source": []
  },
  {
   "cell_type": "code",
   "execution_count": null,
   "id": "24e288fd-8cf6-4014-993e-a654c7654e55",
   "metadata": {},
   "outputs": [],
   "source": []
  },
  {
   "cell_type": "code",
   "execution_count": null,
   "id": "71cb18e7-6092-4d0b-911e-674bfa489b70",
   "metadata": {},
   "outputs": [],
   "source": []
  },
  {
   "cell_type": "code",
   "execution_count": null,
   "id": "da401756-e490-4476-830a-806d918fc815",
   "metadata": {},
   "outputs": [],
   "source": []
  },
  {
   "cell_type": "code",
   "execution_count": null,
   "id": "ae147334-4ab8-4e87-90f2-905740740f35",
   "metadata": {},
   "outputs": [],
   "source": []
  },
  {
   "cell_type": "code",
   "execution_count": null,
   "id": "935927d1-e640-4c3f-9d04-058c70944c28",
   "metadata": {},
   "outputs": [],
   "source": []
  },
  {
   "cell_type": "code",
   "execution_count": null,
   "id": "67007741-429a-441b-9400-b639d20f24f0",
   "metadata": {},
   "outputs": [],
   "source": [
    "\n"
   ]
  }
 ],
 "metadata": {
  "kernelspec": {
   "display_name": "Python 3",
   "language": "python",
   "name": "python3"
  },
  "language_info": {
   "codemirror_mode": {
    "name": "ipython",
    "version": 3
   },
   "file_extension": ".py",
   "mimetype": "text/x-python",
   "name": "python",
   "nbconvert_exporter": "python",
   "pygments_lexer": "ipython3",
   "version": "3.8.5"
  }
 },
 "nbformat": 4,
 "nbformat_minor": 5
}
