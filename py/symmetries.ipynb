{
 "cells": [
  {
   "cell_type": "markdown",
   "id": "national-coordination",
   "metadata": {},
   "source": [
    "# Calculate symmetries"
   ]
  },
  {
   "cell_type": "code",
   "execution_count": null,
   "id": "automotive-sandwich",
   "metadata": {},
   "outputs": [],
   "source": [
    "import libpolycubes\n",
    "import numpy as np\n",
    "import utils"
   ]
  },
  {
   "cell_type": "code",
   "execution_count": null,
   "id": "superb-gazette",
   "metadata": {},
   "outputs": [],
   "source": [
    "utils.getSymms('000404040404840000000000')"
   ]
  },
  {
   "cell_type": "code",
   "execution_count": null,
   "id": "3b3cd0f3-6b20-4790-8813-31f1827d4f6c",
   "metadata": {},
   "outputs": [],
   "source": [
    "utils.getRotations(2)"
   ]
  },
  {
   "cell_type": "code",
   "execution_count": null,
   "id": "5b73e6eb-cd48-46f5-ba78-43faf5540308",
   "metadata": {},
   "outputs": [],
   "source": [
    "utils.getReflections(2)"
   ]
  },
  {
   "cell_type": "code",
   "execution_count": null,
   "id": "sensitive-geology",
   "metadata": {},
   "outputs": [],
   "source": [
    "import pandas as pd\n",
    "import altair as alt\n",
    "from analysePhenotype import readAnalysed\n",
    "#df = readAnalysed('/mnt/extraspace/joakim/210918/seeded/2d/out_19652_analysed.ftr')\n",
    "df = readAnalysed('/mnt/extraspace/joakim/refcalc/seeded/2d/out_18067_analysed.ftr')\n",
    "nSampled = 1e8\n",
    "nDim = 2\n",
    "method = 'stochastic'\n",
    "alt.data_transformers.disable_max_rows()"
   ]
  },
  {
   "cell_type": "code",
   "execution_count": null,
   "id": "exotic-advance",
   "metadata": {},
   "outputs": [],
   "source": [
    "pd.set_option('display.max_colwidth', None)\n",
    "df.loc[df['size'] == 16]"
   ]
  },
  {
   "cell_type": "code",
   "execution_count": null,
   "id": "8debc4c5-e06b-423c-bc45-329ae03f7b2d",
   "metadata": {},
   "outputs": [],
   "source": [
    "alt.Chart(df.loc[df['size'] == 16]).mark_bar().encode(\n",
    "    alt.X('count()'),\n",
    "    alt.Y(alt.repeat(\"row\"), type='nominal'),\n",
    ").repeat(\n",
    "    row=['rotsymms', 'reflsymms', 'invsymms']\n",
    ")"
   ]
  },
  {
   "cell_type": "code",
   "execution_count": null,
   "id": "338e8d51-6287-4e6b-88a1-ad6d6bcc664a",
   "metadata": {},
   "outputs": [],
   "source": [
    "alt.Chart(df).mark_bar().encode(\n",
    "    alt.X('count()'),\n",
    "    alt.Y(alt.repeat(\"row\"), type='nominal'),\n",
    ").repeat(\n",
    "    row=['rotsymms', 'reflsymms', 'invsymms']\n",
    ")"
   ]
  },
  {
   "cell_type": "markdown",
   "id": "1247f6e8-2cff-4644-aa88-a7e50baa7de2",
   "metadata": {},
   "source": [
    "The `reflsymms==10` polyominoes are all straight lines:"
   ]
  },
  {
   "cell_type": "code",
   "execution_count": null,
   "id": "ccc082e6-3b5b-49dd-a2b4-1e5564e76c68",
   "metadata": {},
   "outputs": [],
   "source": [
    "df.loc[df['reflsymms'] == 10]"
   ]
  },
  {
   "cell_type": "code",
   "execution_count": null,
   "id": "8fe5fd8c-e13f-4e1c-99e8-a5f3f1805246",
   "metadata": {},
   "outputs": [],
   "source": [
    "df.loc[(df['reflsymms'] == 1) & (df['rotsymms'] == 0)]"
   ]
  },
  {
   "cell_type": "code",
   "execution_count": null,
   "id": "b4b0d381-552f-4dc4-9350-ccecd2d05fef",
   "metadata": {},
   "outputs": [],
   "source": [
    "df.loc[df['rotsymms'] == 3]"
   ]
  },
  {
   "cell_type": "code",
   "execution_count": null,
   "id": "nasty-parcel",
   "metadata": {},
   "outputs": [],
   "source": [
    "utils.getSymms('85000088000000000a0c000005158e0000000000001000008d9592000000', ndim=2)"
   ]
  },
  {
   "cell_type": "markdown",
   "id": "f1473819-6389-40bc-a962-4d224ddf1f1c",
   "metadata": {},
   "source": [
    "# Symmetry groups\n",
    "https://www.conwaylife.com/wiki/Symmetry\n",
    "\n",
    "https://symotter.org/tutorial/pointgroups"
   ]
  },
  {
   "cell_type": "markdown",
   "id": "94e35f23-c711-4f1b-8a23-1299323b87d6",
   "metadata": {
    "tags": []
   },
   "source": [
    "## D4 symmetry\n",
    "Symmetric under both reflection and 180° rotation."
   ]
  },
  {
   "cell_type": "code",
   "execution_count": null,
   "id": "95be9218-63b3-4c9e-8500-dd7ec9784466",
   "metadata": {
    "tags": []
   },
   "outputs": [],
   "source": [
    "df.loc[(df['rotsymms'] == 1) & (df['reflsymms'] > 0)].sort_values(by=['count'])"
   ]
  },
  {
   "cell_type": "code",
   "execution_count": null,
   "id": "ba41d593-8b31-4f36-9b93-b573c0af87d5",
   "metadata": {},
   "outputs": [],
   "source": [
    "df.loc[df['reflsymms'] == 2].sort_values(by=['count'])"
   ]
  },
  {
   "cell_type": "markdown",
   "id": "2f48e3bb-78d0-474a-b0d1-caed712270c0",
   "metadata": {},
   "source": [
    "## C4 symmetry\n",
    "Symmetric under 90° rotation"
   ]
  },
  {
   "cell_type": "code",
   "execution_count": null,
   "id": "7371091b-835d-462d-b1de-f00768b6169b",
   "metadata": {
    "tags": []
   },
   "outputs": [],
   "source": [
    "df.loc[df['rotsymms'] == 3]"
   ]
  },
  {
   "cell_type": "markdown",
   "id": "57b22ec2-b082-4e5c-bd6a-9f730feb4f10",
   "metadata": {},
   "source": [
    "## D2 symmetry\n",
    "Symmetric under reflection through a line."
   ]
  },
  {
   "cell_type": "code",
   "execution_count": null,
   "id": "e940998d-7d3c-4eca-b323-1a575f897365",
   "metadata": {
    "tags": []
   },
   "outputs": [],
   "source": [
    "df.loc[df['reflsymms'] > 0]"
   ]
  },
  {
   "cell_type": "markdown",
   "id": "74f5d17e-9b07-4c08-b733-40406fc4b4e5",
   "metadata": {},
   "source": [
    "## C2 symmetry\n",
    "Symmetric under 180° rotation\n",
    "\n",
    "There's something odd going on here..."
   ]
  },
  {
   "cell_type": "code",
   "execution_count": null,
   "id": "ad72c42c-ba48-4a90-b7f2-0ec4e22638bf",
   "metadata": {
    "tags": []
   },
   "outputs": [],
   "source": [
    "df.loc[df['rotsymms'] == 1]"
   ]
  },
  {
   "cell_type": "markdown",
   "id": "9d783fd1-f388-4ae6-8fbe-827847e25343",
   "metadata": {},
   "source": [
    "## D1 symmetry\n",
    "No reflectional symmetry"
   ]
  },
  {
   "cell_type": "code",
   "execution_count": null,
   "id": "3ea0ec92-721e-47fe-81c5-4c28d9fb6fee",
   "metadata": {
    "tags": []
   },
   "outputs": [],
   "source": [
    "df.loc[df['reflsymms'] == 0]"
   ]
  },
  {
   "cell_type": "markdown",
   "id": "2ab1e4e6-a966-4bbb-9637-22ef7274f8d4",
   "metadata": {},
   "source": [
    "## C1 symmetry\n",
    "No rotational symmetry"
   ]
  },
  {
   "cell_type": "code",
   "execution_count": null,
   "id": "0ecd430d-a2d2-4483-ab1b-4c684dda8997",
   "metadata": {
    "tags": []
   },
   "outputs": [],
   "source": [
    "df.loc[df['rotsymms'] == 0]"
   ]
  },
  {
   "cell_type": "markdown",
   "id": "50869ad4-2b64-4026-a0cc-deb2dbe2d6b0",
   "metadata": {},
   "source": [
    "# Assign groups"
   ]
  },
  {
   "cell_type": "code",
   "execution_count": null,
   "id": "85b30a8c-19ab-4a98-a49c-61721184786b",
   "metadata": {},
   "outputs": [],
   "source": [
    "def getSymmGroup(row):\n",
    "    if row['reflsymms'] == 2:\n",
    "      return 'D4'\n",
    "    if row['rotsymms'] == 3:\n",
    "      return 'C4'\n",
    "    if row['reflsymms'] == 1:\n",
    "      return 'D2'\n",
    "    if row['rotsymms'] == 1:\n",
    "      return 'C2'\n",
    "    if row['reflsymms'] == 0:\n",
    "      return 'D1'\n",
    "    if row['rotsymms'] == 0:\n",
    "      return 'C1'\n",
    "    return 'Other'"
   ]
  },
  {
   "cell_type": "code",
   "execution_count": null,
   "id": "38202075-5495-4d8b-b435-38a7b0b6a2d1",
   "metadata": {},
   "outputs": [],
   "source": [
    "df['symmetry_group'] = df.apply(lambda row: getSymmGroup(row), axis=1)"
   ]
  },
  {
   "cell_type": "code",
   "execution_count": null,
   "id": "9822fbf5-a18a-4a33-a1a3-54749cc8ae20",
   "metadata": {},
   "outputs": [],
   "source": [
    "df"
   ]
  },
  {
   "cell_type": "code",
   "execution_count": null,
   "id": "5d5c659e-a306-44af-82ae-633736de9791",
   "metadata": {},
   "outputs": [],
   "source": [
    "alt.Chart(df).mark_bar().encode(\n",
    "    alt.X('count()'),\n",
    "    alt.Y('symmetry_group:N', title=\"Symmetry group\"),\n",
    "    alt.Color('symmetry_group:N', legend=None)\n",
    ")"
   ]
  },
  {
   "cell_type": "markdown",
   "id": "ff8b578a-4c49-414a-ad8d-65d7089a49a3",
   "metadata": {},
   "source": [
    "# Frequency of symmetry"
   ]
  },
  {
   "cell_type": "code",
   "execution_count": null,
   "id": "b81348c4-6b09-48b0-9f36-9247098ad427",
   "metadata": {},
   "outputs": [],
   "source": [
    "def plotFreqSym(path, nSampled, nDim, method, minCount=1, nMer = None, saveHTML=False):\n",
    "    title = 'Frequency vs complexity, {:.1E} samples of {}D {}'.format(nSampled, nDim, method)\n",
    "    tmp = \"{}/{}/{}d\".format(path, method, nDim)\n",
    "    [filename] = !ls $tmp/*.ftr\n",
    "    print(filename)\n",
    "    df = readAnalysed(filename)\n",
    "    df = df.loc[df['count'] >= minCount]\n",
    "    df['symmetry_group'] = df.apply(lambda row: getSymmGroup(row), axis=1)\n",
    "    df = df.sort_values(['count'], ascending=True)\n",
    "    #df = df.sort_values(['symmetry_group'], ascending=True, key=lambda col: col.str[-1])\n",
    "    if nMer is not None:\n",
    "        df = df.loc[df['size'] == nMer]\n",
    "        title = '{}-mer frequency vs complexity, {:.1E} samples of {}D {}'.format(nMer, nSampled, nDim, method)\n",
    "    chart = alt.Chart(df).mark_circle(size=25, opacity=0.6).encode(\n",
    "        alt.X(alt.repeat(\"column\"), type='quantitative', axis=alt.Axis(tickMinStep = 1)),\n",
    "        alt.Y('freq:Q', scale=alt.Scale(type='log'), title=\"Frequency\"),\n",
    "        href='url:N',\n",
    "        color=alt.Color('symmetry_group:N'),\n",
    "        tooltip=['url:N', 'count', 'freq:Q', 'minLz', 'minNc', 'minNt', 'rotsymms', 'reflsymms', 'invsymms']\n",
    "    ).transform_calculate(\n",
    "        freq='datum.count/{}'.format(nSampled),\n",
    "        url='\"https://akodiat.github.io/polycubes/?rule=\"+datum.minLz_r',\n",
    "        symmetries='1+datum.rotsymms+datum.reflsymms+datum.invsymms'\n",
    "    ).properties(\n",
    "        width=200,\n",
    "        height=200\n",
    "    ).repeat(\n",
    "        column=['minNt', 'minNc', 'minLz']\n",
    "    ).properties(title=title)\n",
    "    if saveHTML:\n",
    "        chart.save('freq_vs_compl.html')\n",
    "    return chart"
   ]
  },
  {
   "cell_type": "code",
   "execution_count": null,
   "id": "1af189df-399b-4497-9c83-f706aeb9bbdf",
   "metadata": {},
   "outputs": [],
   "source": [
    "plotFreqSym(\n",
    "    path = '/mnt/extraspace/joakim/refcalc',\n",
    "    nSampled = 1e9, nDim = 2, method = 'seeded', minCount = 1\n",
    ")"
   ]
  },
  {
   "cell_type": "code",
   "execution_count": null,
   "id": "32c3b0a7-6bce-4b6a-b265-500abbba05e8",
   "metadata": {},
   "outputs": [],
   "source": [
    "plotFreqSym(\n",
    "    path = '/mnt/extraspace/joakim/refcalc',\n",
    "    nSampled = 1e9, nDim = 2, method = 'seeded', minCount = 1, nMer = 16\n",
    ")"
   ]
  },
  {
   "cell_type": "code",
   "execution_count": null,
   "id": "aa76a7bc-9426-46aa-b26c-59d8a064875d",
   "metadata": {},
   "outputs": [],
   "source": [
    "def plotFreqSym_nC(path, nSampled, nDim, method, minCount=1, nMer = None, saveHTML=False):\n",
    "    title = 'Frequency vs complexity, {:.1E} samples of {}D {}'.format(nSampled, nDim, method)\n",
    "    tmp = \"{}/{}/{}d\".format(path, method, nDim)\n",
    "    [filename] = !ls $tmp/*.ftr\n",
    "    print(filename)\n",
    "    df = readAnalysed(filename)\n",
    "    df = df.loc[df['count'] >= minCount]\n",
    "    df['symmetry_group'] = df.apply(lambda row: getSymmGroup(row), axis=1)\n",
    "    df = df.sort_values(['count'], ascending=True)\n",
    "    #df = df.sort_values(['symmetry_group'], ascending=True, key=lambda col: col.str[-1])\n",
    "    if nMer is not None:\n",
    "        df = df.loc[df['size'] == nMer]\n",
    "        title = '{}-mer frequency vs complexity, {:.1E} samples of {}D {}'.format(nMer, nSampled, nDim, method)\n",
    "    chart = alt.Chart(df).mark_circle(size=40).encode(\n",
    "        alt.X('minNc:Q', axis=alt.Axis(tickMinStep = 1), title=\"Complexity (Number of colours)\"),\n",
    "        alt.Y('freq:Q', scale=alt.Scale(type='log'), title=\"Frequency\"),\n",
    "        href='url:N',\n",
    "        color=alt.Color('symmetry_group:N'),\n",
    "        tooltip=['url:N', 'count', 'freq:Q', 'minLz', 'minNc', 'minNt', 'rotsymms', 'reflsymms', 'invsymms']\n",
    "    ).transform_calculate(\n",
    "        freq='datum.count/{}'.format(nSampled),\n",
    "        url='\"https://akodiat.github.io/polycubes/?rule=\"+datum.minLz_r',\n",
    "        symmetries='1+datum.rotsymms+datum.reflsymms+datum.invsymms'\n",
    "    ).properties(\n",
    "        width=300,\n",
    "        height=200\n",
    "    ).properties(title=title)\n",
    "    if saveHTML:\n",
    "        chart.save('freq_vs_compl.html')\n",
    "    return chart"
   ]
  },
  {
   "cell_type": "code",
   "execution_count": null,
   "id": "85daa6a5-2fc8-4174-8d82-88f3d5774fbf",
   "metadata": {},
   "outputs": [],
   "source": [
    "plotFreqSym_nC(\n",
    "    path = '/mnt/extraspace/joakim/refcalc',\n",
    "    nSampled = 1e9, nDim = 2, method = 'seeded', minCount = 1, nMer = 16\n",
    ")"
   ]
  },
  {
   "cell_type": "code",
   "execution_count": null,
   "id": "e01378b6-9082-408c-a822-2e05b7933121",
   "metadata": {},
   "outputs": [],
   "source": [
    "def plotRank(path, nSampled, nDim, method, minCount=1, nMer = None, saveHTML=False):\n",
    "    title = 'Frequency vs rank, {:.1E} samples of {}D {}'.format(nSampled, nDim, method)\n",
    "    tmp = \"{}/{}/{}d\".format(path, method, nDim)\n",
    "    [filename] = !ls $tmp/*.ftr\n",
    "    print(filename)\n",
    "    df = readAnalysed(filename)\n",
    "    df = df.loc[df['count'] >= minCount]\n",
    "    if nMer is not None:\n",
    "        df = df.loc[df['size'] == nMer]\n",
    "        title = '{}-mer frequency vs rank, {:.1E} samples of {}D {}'.format(nMer, nSampled, nDim, method)\n",
    "    chart = alt.Chart(df).mark_circle(size=60).encode(\n",
    "        alt.X(\"rank:O\",scale=alt.Scale(type='log')),\n",
    "        alt.Y('symmetries:Q', scale=alt.Scale(type='log'), title=\"Symmetries\"),\n",
    "        href='url:N',\n",
    "        color=alt.Color('symmetries:Q', scale=alt.Scale(scheme=\"inferno\")),\n",
    "        tooltip=['url:N', 'count', 'freq:Q', 'minLz', 'minNc', 'minNt'],\n",
    "    ).transform_calculate(\n",
    "        freq='datum.count/{}'.format(nSampled),\n",
    "        url='\"https://akodiat.github.io/polycubes/?rule=\"+datum.minLz_r',\n",
    "        symmetries='1+datum.rotsymms+datum.reflsymms+datum.invsymms'\n",
    "    ).properties(width=350, height=200\n",
    "    ).transform_window(\n",
    "        rank=\"rank()\",\n",
    "        sort=[alt.SortField(\"count\", order=\"descending\")]\n",
    "    ).properties(title=title)\n",
    "    if saveHTML:\n",
    "        chart.save('freq_vs_rank.html')\n",
    "    return chart"
   ]
  },
  {
   "cell_type": "code",
   "execution_count": null,
   "id": "5ffa1be2-ed80-49fa-96fc-14bfec347455",
   "metadata": {},
   "outputs": [],
   "source": [
    "plotRank(\n",
    "    path = '/mnt/extraspace/joakim/210918',\n",
    "    nSampled = 1e8, nDim = 2, method = 'seeded', minCount = 10\n",
    ")"
   ]
  },
  {
   "cell_type": "code",
   "execution_count": null,
   "id": "b682cda5-179c-4050-90a5-3b4b2685ece6",
   "metadata": {},
   "outputs": [],
   "source": []
  }
 ],
 "metadata": {
  "kernelspec": {
   "display_name": "Python 3",
   "language": "python",
   "name": "python3"
  },
  "language_info": {
   "codemirror_mode": {
    "name": "ipython",
    "version": 3
   },
   "file_extension": ".py",
   "mimetype": "text/x-python",
   "name": "python",
   "nbconvert_exporter": "python",
   "pygments_lexer": "ipython3",
   "version": "3.8.5"
  }
 },
 "nbformat": 4,
 "nbformat_minor": 5
}
