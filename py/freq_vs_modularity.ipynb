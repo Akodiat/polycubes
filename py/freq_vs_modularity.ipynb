{
 "cells": [
  {
   "cell_type": "markdown",
   "metadata": {},
   "source": [
    "# Frequency vs modularity\n",
    "\n",
    "Modularity index is defined as\n",
    "$ \\frac{size}{n_s} $"
   ]
  },
  {
   "cell_type": "code",
   "execution_count": null,
   "metadata": {},
   "outputs": [],
   "source": [
    "import utils\n",
    "import altair as alt\n",
    "import pandas as pd\n",
    "from analysePhenotype import readAnalysed"
   ]
  },
  {
   "cell_type": "markdown",
   "metadata": {},
   "source": [
    "Check what files we have to analyse:"
   ]
  },
  {
   "cell_type": "code",
   "execution_count": null,
   "metadata": {},
   "outputs": [],
   "source": [
    "! ls -lh /mnt/extraspace/joakim/*/*/*/*.ftr"
   ]
  },
  {
   "cell_type": "markdown",
   "metadata": {},
   "source": [
    "Drop phenotypes found less than 100 times"
   ]
  },
  {
   "cell_type": "markdown",
   "metadata": {},
   "source": [
    "We likely want more than 5000 rows"
   ]
  },
  {
   "cell_type": "code",
   "execution_count": null,
   "metadata": {},
   "outputs": [],
   "source": [
    "alt.data_transformers.disable_max_rows()"
   ]
  },
  {
   "cell_type": "markdown",
   "metadata": {},
   "source": [
    "Initial setup:"
   ]
  },
  {
   "cell_type": "code",
   "execution_count": null,
   "metadata": {},
   "outputs": [],
   "source": [
    "def readAndAssign(path):\n",
    "    df = readAnalysed(path)\n",
    "    nDim = path.split('/')[-2]\n",
    "    df['nDim'] = nDim\n",
    "    return df"
   ]
  },
  {
   "cell_type": "code",
   "execution_count": null,
   "metadata": {},
   "outputs": [],
   "source": [
    "def plotModularity(path, nSampled, minCount=1, minN = None, maxN=None, saveHTML=False):\n",
    "    title = 'Frequency vs modularity, {:.1E} samples'.format(nSampled)\n",
    "    tmp = \"{}/seeded/*d\".format(path)\n",
    "    paths = !ls $tmp/*.ftr\n",
    "    df = pd.concat([readAndAssign(path) for path in paths])\n",
    "    df = df.loc[df['count'] >= minCount]\n",
    "    if minN is not None:\n",
    "        df = df.loc[df['size'] >= minN]\n",
    "    if maxN is not None:\n",
    "        df = df.loc[df['size'] <= maxN]\n",
    "        title = 'Frequency vs modularity, {:.1E} samples'.format(nSampled)\n",
    "        color = alt.Color('minNt:Q', scale=alt.Scale(scheme=\"viridis\"))\n",
    "    else:\n",
    "        color = alt.Color('size:Q', scale=alt.Scale(scheme=\"viridis\", type='log'))\n",
    "    chart = alt.Chart(df).mark_circle(size=40).encode(\n",
    "        alt.X(\"modularity:Q\",scale=alt.Scale(type='linear'), title='Modularity index'),\n",
    "        alt.Y('freq:Q', scale=alt.Scale(type='log'), title=\"Frequency\"),\n",
    "        row=alt.Row(\"nDim:O\", title=None),\n",
    "        column=alt.Column('size:N'),\n",
    "        href='url:N',\n",
    "        color=color,\n",
    "        tooltip=['url:N', 'count', 'freq:Q', 'minLz', 'minNc', 'minNt', 'modularity:Q', 'size'],\n",
    "    ).transform_calculate(\n",
    "        freq='datum.count/{}'.format(nSampled),\n",
    "        modularity='datum.size/datum.minNt',\n",
    "        url='\"https://akodiat.github.io/polycubes/?rule=\"+datum.minLz_r',\n",
    "        symmetries='1+datum.rotsymms+datum.reflsymms+datum.invsymms'\n",
    "    ).properties(width=100, height=100, title=title\n",
    "    )\n",
    "    if saveHTML:\n",
    "        chart.save('freq_vs_modularity.html')\n",
    "    return chart"
   ]
  },
  {
   "cell_type": "code",
   "execution_count": null,
   "metadata": {},
   "outputs": [],
   "source": [
    "plotModularity(\n",
    "    path = '/mnt/extraspace/joakim/210918',\n",
    "    nSampled = 1e8, minCount = 10\n",
    ")"
   ]
  },
  {
   "cell_type": "markdown",
   "metadata": {},
   "source": [
    "# Individual sizes"
   ]
  },
  {
   "cell_type": "code",
   "execution_count": null,
   "metadata": {},
   "outputs": [],
   "source": [
    "plotModularity(\n",
    "    path = '/mnt/extraspace/joakim/210918',\n",
    "    nSampled = 1e8, minCount = 1, minN = 6, maxN=10\n",
    ")"
   ]
  },
  {
   "cell_type": "code",
   "execution_count": null,
   "metadata": {},
   "outputs": [],
   "source": [
    "plotModularity(\n",
    "    path = '/mnt/extraspace/joakim/refcalc',\n",
    "    nSampled = 1e8, minCount = 1, minN = 6, maxN=10\n",
    ")"
   ]
  },
  {
   "cell_type": "code",
   "execution_count": null,
   "metadata": {},
   "outputs": [],
   "source": []
  }
 ],
 "metadata": {
  "kernelspec": {
   "display_name": "Python 3",
   "language": "python",
   "name": "python3"
  },
  "language_info": {
   "codemirror_mode": {
    "name": "ipython",
    "version": 3
   },
   "file_extension": ".py",
   "mimetype": "text/x-python",
   "name": "python",
   "nbconvert_exporter": "python",
   "pygments_lexer": "ipython3",
   "version": "3.8.5"
  }
 },
 "nbformat": 4,
 "nbformat_minor": 4
}
