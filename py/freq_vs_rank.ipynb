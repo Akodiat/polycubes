{
 "cells": [
  {
   "cell_type": "markdown",
   "metadata": {},
   "source": [
    "# Frequency vs rank"
   ]
  },
  {
   "cell_type": "code",
   "execution_count": null,
   "metadata": {},
   "outputs": [],
   "source": [
    "import utils\n",
    "import altair as alt\n",
    "import pandas as pd\n",
    "from analysePhenotype import readAnalysed"
   ]
  },
  {
   "cell_type": "markdown",
   "metadata": {},
   "source": [
    "Check what files we have to analyse:"
   ]
  },
  {
   "cell_type": "code",
   "execution_count": null,
   "metadata": {},
   "outputs": [],
   "source": [
    "! ls -lh /mnt/extraspace/joakim/210906/*/*/*.ftr"
   ]
  },
  {
   "cell_type": "markdown",
   "metadata": {},
   "source": [
    "Drop phenotypes found less than 100 times"
   ]
  },
  {
   "cell_type": "markdown",
   "metadata": {},
   "source": [
    "We likely want more than 5000 rows"
   ]
  },
  {
   "cell_type": "code",
   "execution_count": null,
   "metadata": {},
   "outputs": [],
   "source": [
    "alt.data_transformers.disable_max_rows()"
   ]
  },
  {
   "cell_type": "markdown",
   "metadata": {},
   "source": [
    "Initial setup:"
   ]
  },
  {
   "cell_type": "code",
   "execution_count": null,
   "metadata": {},
   "outputs": [],
   "source": [
    "def plotRank(path, nSampled, nDim, method, minCount=1, nMer = None, saveHTML=False):\n",
    "    title = 'Frequency vs rank, {:.1E} samples of {}D {}'.format(nSampled, nDim, method)\n",
    "    df = readAnalysed(path)\n",
    "    df = df.loc[df['count'] >= minCount]\n",
    "    if nMer is not None:\n",
    "        df = df.loc[df['size'] == nMer]\n",
    "        title = '{}-mer frequency vs rank, {:.1E} samples of {}D {}'.format(nMer, nSampled, nDim, method)\n",
    "    chart = alt.Chart(df).mark_circle(size=60).encode(\n",
    "        alt.X(\"rank:O\",scale=alt.Scale(type='log')),\n",
    "        alt.Y('freq:Q', scale=alt.Scale(type='log'), title=\"Frequency\"),\n",
    "        href='url:N',\n",
    "        color=alt.Color('minLz:Q', scale=alt.Scale(scheme=\"inferno\")),\n",
    "        tooltip=['url:N', 'count', 'freq:Q', 'minLz', 'minNc', 'minNt']\n",
    "    ).transform_calculate(\n",
    "        freq='datum.count/{}'.format(nSampled),\n",
    "        url='\"https://akodiat.github.io/polycubes/?rule=\"+datum.minLz_r',\n",
    "        symmetries='1+datum.rotsymms+datum.reflsymms+datum.invsymms'\n",
    "    ).properties(width=350, height=200\n",
    "    ).transform_window(\n",
    "        rank=\"rank()\",\n",
    "        sort=[alt.SortField(\"count\", order=\"descending\")]\n",
    "    ).properties(title=title)\n",
    "    if saveHTML:\n",
    "        chart.save('freq_vs_rank.html')\n",
    "    return chart"
   ]
  },
  {
   "cell_type": "code",
   "execution_count": null,
   "metadata": {},
   "outputs": [],
   "source": [
    "plotRank(\n",
    "    path = '/mnt/extraspace/joakim/210906/seeded/2d/out_24426_analysed.ftr',\n",
    "    nSampled = 1e7, nDim = 2, method = 'seeded', minCount = 1\n",
    ")"
   ]
  },
  {
   "cell_type": "code",
   "execution_count": null,
   "metadata": {
    "tags": []
   },
   "outputs": [],
   "source": [
    "plotRank(\n",
    "    path = '/mnt/extraspace/joakim/210906/stochastic/2d/out_18511_analysed.ftr',\n",
    "    nSampled = 1e7, nDim = 2, method = 'stochastic', minCount = 1\n",
    ")"
   ]
  },
  {
   "cell_type": "markdown",
   "metadata": {},
   "source": [
    "# 16 mers"
   ]
  },
  {
   "cell_type": "code",
   "execution_count": null,
   "metadata": {},
   "outputs": [],
   "source": [
    "plotRank(\n",
    "    path = '/mnt/extraspace/joakim/210906/seeded/2d/out_24426_analysed.ftr',\n",
    "    nSampled = 1e7, nDim = 2, method = 'seeded', minCount = 10, nMer = 16\n",
    ")"
   ]
  },
  {
   "cell_type": "code",
   "execution_count": null,
   "metadata": {},
   "outputs": [],
   "source": [
    "plotRank(\n",
    "    path = '/mnt/extraspace/joakim/210906/stochastic/2d/out_18511_analysed.ftr',\n",
    "    nSampled = 1e7, nDim = 2, method = 'stochastic', minCount = 1, nMer = 16\n",
    ")"
   ]
  },
  {
   "cell_type": "code",
   "execution_count": null,
   "metadata": {},
   "outputs": [],
   "source": []
  }
 ],
 "metadata": {
  "kernelspec": {
   "display_name": "Python 3",
   "language": "python",
   "name": "python3"
  },
  "language_info": {
   "codemirror_mode": {
    "name": "ipython",
    "version": 3
   },
   "file_extension": ".py",
   "mimetype": "text/x-python",
   "name": "python",
   "nbconvert_exporter": "python",
   "pygments_lexer": "ipython3",
   "version": "3.8.5"
  }
 },
 "nbformat": 4,
 "nbformat_minor": 4
}
