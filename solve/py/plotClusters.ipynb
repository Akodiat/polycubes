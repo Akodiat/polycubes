{
 "cells": [
  {
   "cell_type": "code",
   "execution_count": null,
   "metadata": {},
   "outputs": [],
   "source": [
    "import re\n",
    "import pickle\n",
    "import altair as alt\n",
    "import pandas as pd\n",
    "\n",
    "alt.data_transformers.disable_max_rows()"
   ]
  },
  {
   "cell_type": "markdown",
   "metadata": {},
   "source": [
    "# Minimal vs fully adressable assemblies"
   ]
  },
  {
   "cell_type": "code",
   "execution_count": null,
   "metadata": {},
   "outputs": [],
   "source": [
    "picklepaths = !ls /mnt/extraspace/joakim/duplicates_new_0.1/*/*/*/*/clusters.pickle\n",
    "len(picklepaths)"
   ]
  },
  {
   "cell_type": "code",
   "execution_count": null,
   "metadata": {},
   "outputs": [],
   "source": [
    "clusterpaths = !ls /mnt/extraspace/joakim/duplicates_new_0.1/*/*/*/*/clusters.txt\n",
    "len(clusterpaths)"
   ]
  },
  {
   "cell_type": "code",
   "execution_count": null,
   "metadata": {},
   "outputs": [],
   "source": [
    "data = []\n",
    "for path in picklepaths:\n",
    "    with open(path, 'rb') as f:\n",
    "        data += pickle.load(f)\n",
    "df = pd.DataFrame(data)"
   ]
  },
  {
   "cell_type": "code",
   "execution_count": null,
   "metadata": {},
   "outputs": [],
   "source": [
    "df = df.loc[df['timestep'] <= 9e7]"
   ]
  },
  {
   "cell_type": "code",
   "execution_count": null,
   "metadata": {},
   "outputs": [],
   "source": [
    "(alt.Chart(df).mark_line().encode(\n",
    "    x=alt.X('timestep:Q'),\n",
    "    y=alt.Y('mean(yield)', title='Yield'),\n",
    "    color = alt.Color('temp:N', scale=alt.Scale(scheme=\"turbo\"), title=\"Temperature\")\n",
    ").properties(width=200, height=150\n",
    ") + alt.Chart(df).mark_errorband(extent='ci', opacity=0.2).encode(\n",
    "    x=alt.X('timestep:Q'),\n",
    "    y=alt.Y('yield', title='Yield'),\n",
    "    color = alt.Color('temp:N', scale=alt.Scale())\n",
    ")).properties(width=200, height=150).facet(column='shape', row='type')"
   ]
  },
  {
   "cell_type": "code",
   "execution_count": null,
   "metadata": {},
   "outputs": [],
   "source": [
    "alt.Chart(df[df['yield'] >= 9]).mark_bar().encode(\n",
    "    x=alt.X('type', title=None),\n",
    "    y=alt.Y('min(timestep)', title='Time to 90% yield'),\n",
    "    column = alt.Column('shape', title=None),\n",
    "    color='type'\n",
    ").properties(width=40, height=200)"
   ]
  },
  {
   "cell_type": "code",
   "execution_count": null,
   "metadata": {},
   "outputs": [],
   "source": [
    "alt.Chart(df[df['yield'] >= 9]).mark_circle(size=100).encode(\n",
    "    x=alt.X('type', title=None),\n",
    "    y=alt.Y('min(timestep)', title='Time to 90% yield'),\n",
    "    color = alt.Color('temp:N', scale=alt.Scale(scheme=\"inferno\")),\n",
    "    column = alt.Column('shape', title=None),\n",
    ").properties(width=50, height=300)"
   ]
  },
  {
   "cell_type": "markdown",
   "metadata": {},
   "source": [
    "# Cube potentials"
   ]
  },
  {
   "cell_type": "code",
   "execution_count": null,
   "metadata": {},
   "outputs": [],
   "source": [
    "picklepaths = !ls /mnt/extraspace/joakim/cubePotentials/*/*/*/*/clusters.pickle\n",
    "len(picklepaths)"
   ]
  },
  {
   "cell_type": "code",
   "execution_count": null,
   "metadata": {},
   "outputs": [],
   "source": [
    "data = []\n",
    "for path in picklepaths:\n",
    "    with open(path, 'rb') as f:\n",
    "        data += pickle.load(f)\n",
    "df = pd.DataFrame(data)\n",
    "\n",
    "df = df.loc[df['timestep'] <= 1e8]\n",
    "\n",
    "cubeDf = df.loc[df['shape'] == 'cube']\n",
    "filledcubeDf = df.loc[df['shape'] == 'filled_cube']"
   ]
  },
  {
   "cell_type": "code",
   "execution_count": null,
   "metadata": {},
   "outputs": [],
   "source": [
    "(alt.Chart(cubeDf).mark_line().encode(\n",
    "    x=alt.X('timestep:Q'),\n",
    "    y=alt.Y('mean(yield)', title='Yield'),\n",
    "    color = alt.Color('temp:N', scale=alt.Scale(scheme=\"turbo\"), title=\"Temperature\")\n",
    ").properties(width=200, height=150\n",
    ") + alt.Chart(cubeDf).mark_errorband(extent='ci', opacity=0.2).encode(\n",
    "    x=alt.X('timestep:Q'),\n",
    "    y=alt.Y('yield', title='Yield'),\n",
    "    color = alt.Color('temp:N', scale=alt.Scale())\n",
    ")).properties(width=200, height=150).facet(column='potential', row='type')"
   ]
  },
  {
   "cell_type": "code",
   "execution_count": null,
   "metadata": {},
   "outputs": [],
   "source": [
    "(alt.Chart(filledcubeDf).mark_line().encode(\n",
    "    x=alt.X('timestep:Q'),\n",
    "    y=alt.Y('mean(yield)', title='Yield'),\n",
    "    color = alt.Color('temp:N', scale=alt.Scale(scheme=\"turbo\"), title=\"Temperature\")\n",
    ").properties(width=200, height=150\n",
    ") + alt.Chart(filledcubeDf).mark_errorband(extent='ci', opacity=0.2).encode(\n",
    "    x=alt.X('timestep:Q'),\n",
    "    y=alt.Y('yield', title='Yield'),\n",
    "    color = alt.Color('temp:N', scale=alt.Scale())\n",
    ")).properties(width=200, height=150).facet(column='potential', row='type')"
   ]
  },
  {
   "cell_type": "code",
   "execution_count": null,
   "metadata": {},
   "outputs": [],
   "source": [
    "cubeDf"
   ]
  },
  {
   "cell_type": "code",
   "execution_count": null,
   "metadata": {},
   "outputs": [],
   "source": [
    "!ls /mnt/extraspace/joakim/cubePotentials/*/*/no_torsion/*/*"
   ]
  },
  {
   "cell_type": "code",
   "execution_count": null,
   "metadata": {},
   "outputs": [],
   "source": []
  }
 ],
 "metadata": {
  "kernelspec": {
   "display_name": "Python 3",
   "language": "python",
   "name": "python3"
  },
  "language_info": {
   "codemirror_mode": {
    "name": "ipython",
    "version": 3
   },
   "file_extension": ".py",
   "mimetype": "text/x-python",
   "name": "python",
   "nbconvert_exporter": "python",
   "pygments_lexer": "ipython3",
   "version": "3.8.5"
  }
 },
 "nbformat": 4,
 "nbformat_minor": 4
}
