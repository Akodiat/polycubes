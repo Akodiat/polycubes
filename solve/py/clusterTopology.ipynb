{
 "cells": [
  {
   "cell_type": "markdown",
   "id": "a58a61a2-1231-43f0-b994-e49906ccf063",
   "metadata": {},
   "source": [
    "# Cluster graph topology"
   ]
  },
  {
   "cell_type": "code",
   "execution_count": null,
   "id": "7d734834-78e5-42e4-8f1a-0c46d3652534",
   "metadata": {},
   "outputs": [],
   "source": [
    "import re\n",
    "import networkx as nx\n",
    "from networkx.algorithms import isomorphism\n",
    "import json\n",
    "\n",
    "def graphShape(shapePath):\n",
    "    with open(shapePath, 'r') as f:\n",
    "        data = f.read()\n",
    "    solveSpec = json.loads(data)\n",
    "    G = nx.Graph()\n",
    "    for i, _, j, _ in solveSpec['bindings']:\n",
    "        G.add_edge(i, j)\n",
    "    return G\n",
    "\n",
    "def graphsFromClusters(line):\n",
    "    clusterGraphs = []\n",
    "    clusters = re.finditer('\\[.+?\\]', line)\n",
    "\n",
    "    for cluster in clusters:\n",
    "        G = nx.Graph()\n",
    "        matches = re.finditer(\n",
    "            '(\\d+) -> \\(((?:\\d+ ?)+)\\)', cluster.group()\n",
    "        )\n",
    "        for m in matches:\n",
    "            source = m.group(1)\n",
    "            for dest in m.group(2).split(' '):\n",
    "                if int(source) == int(dest):\n",
    "                    print(\"AAAAAAAAAAAAaaaaaaaaaaaaaaaaaaaa\")\n",
    "                G.add_edge(int(source), int(dest))\n",
    "        clusterGraphs.append(G)\n",
    "    return clusterGraphs\n",
    "\n",
    "def getGraphOverlap(g1, g2, cutoff=1):\n",
    "    sizeFrac = len(g2)/len(g1)\n",
    "    return sizeFrac if sizeFrac <= 1 and sizeFrac >= cutoff and isomorphism.GraphMatcher(\n",
    "        nx.line_graph(g1), nx.line_graph(g2)\n",
    "    ).subgraph_is_isomorphic() else 0\n",
    "\n",
    "def getClusterYield(line, refGraph, cutoff):\n",
    "    return sum(getGraphOverlap(refGraph, g, cutoff) for g in graphsFromClusters(line))\n",
    "\n",
    "def readClusters(clustersPath, shapePath, cutoff):\n",
    "    refGraph = graphShape(shapePath)\n",
    "    clusters = []\n",
    "    with open(clustersPath) as f:\n",
    "        for line in f:\n",
    "            y = getClusterYield(line, refGraph, cutoff)\n",
    "            print(y, end=' ')\n",
    "            clusters.append(y)\n",
    "    return clusters"
   ]
  },
  {
   "cell_type": "code",
   "execution_count": null,
   "id": "948483b6-9ae5-449e-9d7f-8bd7e0d8acd5",
   "metadata": {},
   "outputs": [],
   "source": [
    "import numpy as np\n",
    "def coordsFromConf(confPath):\n",
    "    coords = []\n",
    "    box = []\n",
    "    with open(confPath, 'r') as f:\n",
    "        for line in f:\n",
    "            vals = line.split()\n",
    "            if (len(vals) == 5 and vals[0] == 'b'):\n",
    "                box = [float(v) for v in vals[-3:]]\n",
    "            if (len(vals) == 15):\n",
    "                coords.append([float(v)%box[i] for i,v in enumerate(vals[:3])])\n",
    "    return {i: np.array(c) for i, c in enumerate(coords)}"
   ]
  },
  {
   "cell_type": "code",
   "execution_count": null,
   "id": "06aa3955-9ee8-45e3-84a5-fe4151a04c23",
   "metadata": {},
   "outputs": [],
   "source": [
    "line = '11 ( 0 2 3 4 4 4 4 )  [7 -> (72 79 62 80 31), 29 -> (31)]( 0 1 2 3 4 4 4 4 4 )  [2 -> (88 85 49 77 33), 10 -> (22 45), 22 -> (33)]( 0 1 2 3 4 4 4 4 4 )  [0 -> (57 35 43 74 66), 11 -> (41 26), 26 -> (35)]( 0 1 2 3 4 4 4 4 4 )  [3 -> (87 34 55 58 59), 12 -> (28 68), 28 -> (34)]( 1 4 )  [13 -> (67)]( 0 1 2 3 4 4 4 4 4 )  [4 -> (51 30 40 65 50), 14 -> (48 27), 27 -> (30)]( 0 1 2 3 4 4 4 4 4 )  [9 -> (56 71 82 32 60), 15 -> (73 23), 23 -> (32)]( 0 1 2 3 4 4 4 4 4 )  [8 -> (47 63 46 37 86), 16 -> (25 52), 25 -> (37)]( 0 1 2 3 4 4 4 4 4 )  [5 -> (89 70 39 84 78), 17 -> (24 54), 24 -> (39)]( 0 1 2 3 4 4 4 4 4 )  [6 -> (75 69 36 64 53), 18 -> (20 76), 20 -> (36)]( 0 1 2 3 4 4 4 4 4 )  [1 -> (42 44 61 81 38), 19 -> (21 83), 21 -> (38)]'\n",
    "swanPath = '../shapes/swan.json'\n",
    "getClusterYield(\n",
    "    line,\n",
    "    graphShape(swanPath),\n",
    "    0.9\n",
    ")"
   ]
  },
  {
   "cell_type": "code",
   "execution_count": null,
   "id": "05de8cda-c044-4eef-a4a2-169793f8ca68",
   "metadata": {},
   "outputs": [],
   "source": [
    "nx.draw(graphShape('../shapes/swan.json'))"
   ]
  },
  {
   "cell_type": "code",
   "execution_count": null,
   "id": "6d41cbcd-a5ca-4d62-99e8-927eddd4c391",
   "metadata": {},
   "outputs": [],
   "source": [
    "import matplotlib.pyplot as plt\n",
    "for i, G in enumerate(graphsFromClusters(line)):\n",
    "    plt.figure(i+1)\n",
    "    nx.draw(G)"
   ]
  },
  {
   "cell_type": "code",
   "execution_count": null,
   "id": "94b324c2-4e43-4a4e-bc78-e5a96bdfada2",
   "metadata": {},
   "outputs": [],
   "source": [
    "nx.draw(graphShape('../shapes/filled_cube.json'))"
   ]
  },
  {
   "cell_type": "code",
   "execution_count": null,
   "id": "8f34ab3b-b81f-415b-8d70-5a50bdc77bb2",
   "metadata": {},
   "outputs": [],
   "source": [
    "getClusterYield(\n",
    "    '11 ( 0 1 2 3 4 5 6 7 8 9 10 11 12 13 14 15 19 20 21 24 25 26 )  [0 -> (10 20 32), 10 -> (56 40 69), 20 -> (56 100), 32 -> (69 100 114), 40 -> (77 82), 56 -> (77 126), 69 -> (126 82 138), 77 -> (197 209), 82 -> (99), 99 -> (144 138), 100 -> (216 126), 114 -> (138), 126 -> (209 264 153), 138 -> (153), 144 -> (209 241 153), 197 -> (255), 209 -> (255), 216 -> (264), 241 -> (255), 255 -> (264)]( 0 1 2 3 4 5 6 7 8 9 10 11 12 13 14 16 17 18 19 20 21 23 24 25 26 )  [1 -> (23 36 17), 17 -> (54 44 65), 23 -> (179 54 108), 36 -> (108 65 113), 44 -> (70 84), 54 -> (189 124 70), 65 -> (124 84 130), 70 -> (194 202), 84 -> (91), 91 -> (147 130), 108 -> (215 124 169), 113 -> (169 130), 124 -> (265 202), 147 -> (202 248), 179 -> (215 189), 189 -> (265), 194 -> (253), 202 -> (253), 215 -> (265), 231 -> (265 248), 248 -> (253), 253 -> (265)]( 0 1 3 4 5 6 7 8 9 10 11 12 13 14 15 16 17 18 19 20 21 22 23 24 25 )  [2 -> (13 37), 13 -> (50 41 61), 37 -> (102 61 110), 41 -> (75 86), 50 -> (75 180 120), 61 -> (120 131 86), 75 -> (190 207), 86 -> (96), 96 -> (140 131), 102 -> (214 120 161), 110 -> (131 161), 120 -> (207 159), 131 -> (159), 140 -> (243 207 159), 159 -> (233 161), 161 -> (225), 172 -> (214 180), 190 -> (257), 207 -> (257), 214 -> (225), 225 -> (233), 233 -> (243), 243 -> (257)]( 0 1 2 3 4 5 6 7 9 10 11 12 13 14 15 16 17 18 19 20 21 22 23 24 25 )  [3 -> (16 27 35), 16 -> (67 43 59), 27 -> (103 59 177), 35 -> (67 116 103), 43 -> (72), 59 -> (183 72 122), 67 -> (137 122), 72 -> (204 195), 92 -> (137 146), 103 -> (162 122 219), 116 -> (137 162), 122 -> (204 157), 137 -> (157), 146 -> (204 157 245), 157 -> (162 237), 162 -> (229), 177 -> (183 219), 195 -> (250), 204 -> (250), 219 -> (229), 229 -> (237), 237 -> (245), 245 -> (250)]( 0 1 2 3 4 5 6 7 8 9 10 11 12 13 16 17 18 19 20 21 22 25 26 )  [4 -> (12 39 25), 12 -> (47 60 52), 25 -> (101 170 52), 39 -> (60 118 101), 47 -> (88 71), 52 -> (71 125 186), 60 -> (136 88 125), 71 -> (192 206), 88 -> (93), 93 -> (136), 101 -> (125 164 211), 118 -> (136 164), 125 -> (261 206), 164 -> (223), 170 -> (186 211), 186 -> (261), 192 -> (256), 206 -> (256), 211 -> (261 223), 256 -> (261)]( 0 1 2 3 4 6 7 8 9 10 11 13 14 15 16 17 18 19 20 21 22 23 24 25 26 )  [5 -> (34 21 18), 18 -> (66 49), 21 -> (173 105), 34 -> (105 66 115), 49 -> (79 80), 66 -> (132 80), 79 -> (196 203), 80 -> (94), 94 -> (148 132), 105 -> (210 168), 115 -> (168 132), 132 -> (150), 148 -> (244 150 203), 150 -> (230 168), 168 -> (228), 173 -> (210 181), 181 -> (267), 196 -> (251), 203 -> (251), 210 -> (228 267), 228 -> (230), 230 -> (267 244), 244 -> (251), 251 -> (267)]( 0 1 2 3 4 5 6 7 8 9 11 12 13 14 15 16 17 18 19 20 22 23 24 25 26 )  [6 -> (19 24 30), 19 -> (58 48 68), 24 -> (58 171), 30 -> (68 111), 48 -> (78 83), 58 -> (78 188 128), 68 -> (83 128 133), 78 -> (198 208), 83 -> (95), 95 -> (142 133), 111 -> (160 133), 128 -> (208 263 152), 133 -> (152), 142 -> (208 242 152), 152 -> (239 160), 160 -> (221), 171 -> (188), 188 -> (263), 198 -> (258), 208 -> (258), 221 -> (239), 239 -> (242 263), 242 -> (258), 258 -> (263)]( 0 1 2 3 4 5 6 7 8 9 10 11 12 13 14 15 16 17 18 19 20 21 22 23 24 25 26 )  [7 -> (11 29 33), 11 -> (57 46 63), 29 -> (57 175 106), 33 -> (106 63 117), 46 -> (74 87), 57 -> (187 74 123), 63 -> (87 123 135), 74 -> (193 201), 87 -> (98), 98 -> (149 135), 106 -> (217 123 165), 117 -> (135 165), 123 -> (201 268 154), 135 -> (154), 149 -> (201 240 154), 154 -> (236 165), 165 -> (220), 175 -> (187 217), 187 -> (268), 193 -> (254), 201 -> (254), 217 -> (268 220), 220 -> (236), 236 -> (268 240), 240 -> (254), 254 -> (268)]( 0 1 2 3 4 5 6 7 8 9 10 11 12 13 14 15 16 17 18 21 22 23 24 26 )  [8 -> (15 38 28), 15 -> (45 62 51), 28 -> (51 178 104), 38 -> (112 62 104), 45 -> (89 73), 51 -> (73 121 185), 62 -> (89 139 121), 89 -> (97), 97 -> (139 143), 104 -> (166 121 218), 112 -> (139 166), 121 -> (158 269), 139 -> (158), 143 -> (158 246), 158 -> (166 232), 166 -> (226), 178 -> (218 185), 185 -> (269), 218 -> (269 226), 226 -> (232), 232 -> (269 246)]( 2 5 12 15 16 17 18 21 22 23 26 )  [26 -> (176 55), 55 -> (184 127), 127 -> (266 155), 155 -> (238 163), 163 -> (227), 176 -> (184 213), 184 -> (266), 213 -> (266 227), 227 -> (238), 238 -> (266)]( 0 1 2 3 4 5 6 7 8 9 10 10 11 12 13 14 14 15 15 16 17 18 19 20 20 21 22 22 23 23 24 24 25 25 26 26 )  [9 -> (31 14 22), 14 -> (64 42 53), 22 -> (107 53 174), 31 -> (119 64 109), 42 -> (85 76), 53 -> (76 182), 64 -> (134 129 85), 76 -> (200 191), 85 -> (90), 90 -> (134 145), 107 -> (212), 109 -> (167 129), 119 -> (134 167), 129 -> (260 151 205), 134 -> (151), 141 -> (156 200 247), 145 -> (249 151 205), 151 -> (167 235), 156 -> (234), 167 -> (222), 174 -> (212 182), 182 -> (262), 191 -> (252), 200 -> (252), 205 -> (259), 212 -> (224 262), 222 -> (235), 224 -> (234), 234 -> (262 247), 235 -> (260 249), 247 -> (252), 249 -> (259), 252 -> (262), 259 -> (260)]', \n",
    "    graphShape('../shapes/filled_cube.json'),\n",
    "    0.75\n",
    ")"
   ]
  },
  {
   "cell_type": "code",
   "execution_count": null,
   "id": "0a0e8b07-5176-43cb-b3e5-651acd7abfbb",
   "metadata": {},
   "outputs": [],
   "source": [
    "[getGraphOverlap(graphShape('../shapes/filled_cube.json'), g, 0.75) for g in graphsFromClusters(\n",
    "    '11 ( 0 1 2 3 4 5 6 7 8 9 10 11 12 13 14 15 19 20 21 24 25 26 )  [0 -> (10 20 32), 10 -> (56 40 69), 20 -> (56 100), 32 -> (69 100 114), 40 -> (77 82), 56 -> (77 126), 69 -> (126 82 138), 77 -> (197 209), 82 -> (99), 99 -> (144 138), 100 -> (216 126), 114 -> (138), 126 -> (209 264 153), 138 -> (153), 144 -> (209 241 153), 197 -> (255), 209 -> (255), 216 -> (264), 241 -> (255), 255 -> (264)]( 0 1 2 3 4 5 6 7 8 9 10 11 12 13 14 16 17 18 19 20 21 23 24 25 26 )  [1 -> (23 36 17), 17 -> (54 44 65), 23 -> (179 54 108), 36 -> (108 65 113), 44 -> (70 84), 54 -> (189 124 70), 65 -> (124 84 130), 70 -> (194 202), 84 -> (91), 91 -> (147 130), 108 -> (215 124 169), 113 -> (169 130), 124 -> (265 202), 147 -> (202 248), 179 -> (215 189), 189 -> (265), 194 -> (253), 202 -> (253), 215 -> (265), 231 -> (265 248), 248 -> (253), 253 -> (265)]( 0 1 3 4 5 6 7 8 9 10 11 12 13 14 15 16 17 18 19 20 21 22 23 24 25 )  [2 -> (13 37), 13 -> (50 41 61), 37 -> (102 61 110), 41 -> (75 86), 50 -> (75 180 120), 61 -> (120 131 86), 75 -> (190 207), 86 -> (96), 96 -> (140 131), 102 -> (214 120 161), 110 -> (131 161), 120 -> (207 159), 131 -> (159), 140 -> (243 207 159), 159 -> (233 161), 161 -> (225), 172 -> (214 180), 190 -> (257), 207 -> (257), 214 -> (225), 225 -> (233), 233 -> (243), 243 -> (257)]( 0 1 2 3 4 5 6 7 9 10 11 12 13 14 15 16 17 18 19 20 21 22 23 24 25 )  [3 -> (16 27 35), 16 -> (67 43 59), 27 -> (103 59 177), 35 -> (67 116 103), 43 -> (72), 59 -> (183 72 122), 67 -> (137 122), 72 -> (204 195), 92 -> (137 146), 103 -> (162 122 219), 116 -> (137 162), 122 -> (204 157), 137 -> (157), 146 -> (204 157 245), 157 -> (162 237), 162 -> (229), 177 -> (183 219), 195 -> (250), 204 -> (250), 219 -> (229), 229 -> (237), 237 -> (245), 245 -> (250)]( 0 1 2 3 4 5 6 7 8 9 10 11 12 13 16 17 18 19 20 21 22 25 26 )  [4 -> (12 39 25), 12 -> (47 60 52), 25 -> (101 170 52), 39 -> (60 118 101), 47 -> (88 71), 52 -> (71 125 186), 60 -> (136 88 125), 71 -> (192 206), 88 -> (93), 93 -> (136), 101 -> (125 164 211), 118 -> (136 164), 125 -> (261 206), 164 -> (223), 170 -> (186 211), 186 -> (261), 192 -> (256), 206 -> (256), 211 -> (261 223), 256 -> (261)]( 0 1 2 3 4 6 7 8 9 10 11 13 14 15 16 17 18 19 20 21 22 23 24 25 26 )  [5 -> (34 21 18), 18 -> (66 49), 21 -> (173 105), 34 -> (105 66 115), 49 -> (79 80), 66 -> (132 80), 79 -> (196 203), 80 -> (94), 94 -> (148 132), 105 -> (210 168), 115 -> (168 132), 132 -> (150), 148 -> (244 150 203), 150 -> (230 168), 168 -> (228), 173 -> (210 181), 181 -> (267), 196 -> (251), 203 -> (251), 210 -> (228 267), 228 -> (230), 230 -> (267 244), 244 -> (251), 251 -> (267)]( 0 1 2 3 4 5 6 7 8 9 11 12 13 14 15 16 17 18 19 20 22 23 24 25 26 )  [6 -> (19 24 30), 19 -> (58 48 68), 24 -> (58 171), 30 -> (68 111), 48 -> (78 83), 58 -> (78 188 128), 68 -> (83 128 133), 78 -> (198 208), 83 -> (95), 95 -> (142 133), 111 -> (160 133), 128 -> (208 263 152), 133 -> (152), 142 -> (208 242 152), 152 -> (239 160), 160 -> (221), 171 -> (188), 188 -> (263), 198 -> (258), 208 -> (258), 221 -> (239), 239 -> (242 263), 242 -> (258), 258 -> (263)]( 0 1 2 3 4 5 6 7 8 9 10 11 12 13 14 15 16 17 18 19 20 21 22 23 24 25 26 )  [7 -> (11 29 33), 11 -> (57 46 63), 29 -> (57 175 106), 33 -> (106 63 117), 46 -> (74 87), 57 -> (187 74 123), 63 -> (87 123 135), 74 -> (193 201), 87 -> (98), 98 -> (149 135), 106 -> (217 123 165), 117 -> (135 165), 123 -> (201 268 154), 135 -> (154), 149 -> (201 240 154), 154 -> (236 165), 165 -> (220), 175 -> (187 217), 187 -> (268), 193 -> (254), 201 -> (254), 217 -> (268 220), 220 -> (236), 236 -> (268 240), 240 -> (254), 254 -> (268)]( 0 1 2 3 4 5 6 7 8 9 10 11 12 13 14 15 16 17 18 21 22 23 24 26 )  [8 -> (15 38 28), 15 -> (45 62 51), 28 -> (51 178 104), 38 -> (112 62 104), 45 -> (89 73), 51 -> (73 121 185), 62 -> (89 139 121), 89 -> (97), 97 -> (139 143), 104 -> (166 121 218), 112 -> (139 166), 121 -> (158 269), 139 -> (158), 143 -> (158 246), 158 -> (166 232), 166 -> (226), 178 -> (218 185), 185 -> (269), 218 -> (269 226), 226 -> (232), 232 -> (269 246)]( 2 5 12 15 16 17 18 21 22 23 26 )  [26 -> (176 55), 55 -> (184 127), 127 -> (266 155), 155 -> (238 163), 163 -> (227), 176 -> (184 213), 184 -> (266), 213 -> (266 227), 227 -> (238), 238 -> (266)]( 0 1 2 3 4 5 6 7 8 9 10 10 11 12 13 14 14 15 15 16 17 18 19 20 20 21 22 22 23 23 24 24 25 25 26 26 )  [9 -> (31 14 22), 14 -> (64 42 53), 22 -> (107 53 174), 31 -> (119 64 109), 42 -> (85 76), 53 -> (76 182), 64 -> (134 129 85), 76 -> (200 191), 85 -> (90), 90 -> (134 145), 107 -> (212), 109 -> (167 129), 119 -> (134 167), 129 -> (260 151 205), 134 -> (151), 141 -> (156 200 247), 145 -> (249 151 205), 151 -> (167 235), 156 -> (234), 167 -> (222), 174 -> (212 182), 182 -> (262), 191 -> (252), 200 -> (252), 205 -> (259), 212 -> (224 262), 222 -> (235), 224 -> (234), 234 -> (262 247), 235 -> (260 249), 247 -> (252), 249 -> (259), 252 -> (262), 259 -> (260)]'\n",
    ")]"
   ]
  },
  {
   "cell_type": "code",
   "execution_count": null,
   "id": "044c19ef-9f14-4069-8fd7-bf4cd375b28e",
   "metadata": {},
   "outputs": [],
   "source": [
    "graphShape('../shapes/filled_cube.json').nodes"
   ]
  },
  {
   "cell_type": "code",
   "execution_count": null,
   "id": "8161ac6d-330d-4130-93cd-224471c66ad3",
   "metadata": {},
   "outputs": [],
   "source": [
    "def graphFromLastestClusters(path):\n",
    "    with open(path, 'r') as f:\n",
    "        for line in f:\n",
    "            pass\n",
    "        last_line = line\n",
    "    return graphsFromClusters(last_line)"
   ]
  },
  {
   "cell_type": "code",
   "execution_count": null,
   "id": "dec9d96a-cfe4-4e15-8c18-12afb8e25ea9",
   "metadata": {},
   "outputs": [],
   "source": [
    "import networkx as nx\n",
    "import numpy as np\n",
    "import matplotlib.pyplot as plt\n",
    "from mpl_toolkits.mplot3d import Axes3D\n",
    "\n",
    "\n",
    "def _format_axes(ax):\n",
    "    \"\"\"Visualization options for the 3D axes.\"\"\"\n",
    "    # Turn gridlines off\n",
    "    ax.grid(False)\n",
    "    # Suppress tick labels\n",
    "    for dim in (ax.xaxis, ax.yaxis, ax.zaxis):\n",
    "        dim.set_ticks([])\n",
    "    # Set axes labels\n",
    "    ax.set_xlabel(\"x\")\n",
    "    ax.set_ylabel(\"y\")\n",
    "    ax.set_zlabel(\"z\")\n",
    "    \n",
    "def drawWithCoords(G, coords, i=0):\n",
    "    pos = nx.spring_layout(G, dim=3, weight=1000, iterations=1000)\n",
    "    # Extract node and edge positions from the layout\n",
    "    node_xyz = np.array([coords[v] for v in sorted(G)])\n",
    "    print([v for v in G])\n",
    "    edge_xyz = np.array([(coords[u], coords[v]) for u, v in G.edges()])\n",
    "    \n",
    "    fig = plt.figure(i+1)\n",
    "    ax = fig.add_subplot(111, projection=\"3d\")\n",
    "    \n",
    "    # Plot the nodes - alpha is scaled by \"depth\" automatically\n",
    "    ax.scatter(*node_xyz.T, s=100, ec=\"w\")\n",
    "\n",
    "    # Plot the edges\n",
    "    for vizedge in edge_xyz:\n",
    "        ax.plot(*vizedge.T, color=\"tab:gray\")\n",
    "\n",
    "        _format_axes(ax)\n",
    "    fig.tight_layout()\n",
    "    plt.show()\n",
    "    \n",
    "path = 'new_0.1/solid_full/nt0/T_0.06/'\n",
    "\n",
    "filled_cube = graphShape('../shapes/filled_cube.json')\n",
    "coords = coordsFromConf(path+'last_conf.dat')\n",
    "for i, G in enumerate(graphFromLastestClusters(path+'clusters.txt')):\n",
    "    print(\n",
    "        #isomorphism.GraphMatcher(\n",
    "        #    nx.line_graph(filled_cube), nx.line_graph(G)\n",
    "        #).subgraph_is_isomorphic(),\n",
    "        getGraphOverlap(filled_cube, G, 0),\n",
    "         \" - {} of {} cubes\".format(len(G), len(filled_cube)),\n",
    "          G.nodes\n",
    "     )\n",
    "    drawWithCoords(G, coords, i)\n",
    "\n"
   ]
  },
  {
   "cell_type": "code",
   "execution_count": null,
   "id": "95b6da61-5334-40b7-b494-9bde54b5b27b",
   "metadata": {},
   "outputs": [],
   "source": [
    "F = graphFromLastestClusters(path+'clusters.txt')[1]"
   ]
  },
  {
   "cell_type": "code",
   "execution_count": null,
   "id": "1dc76262-ba84-4dc2-88d1-935d1367ef1b",
   "metadata": {},
   "outputs": [],
   "source": [
    "drawWithCoords(F, coords)"
   ]
  },
  {
   "cell_type": "code",
   "execution_count": null,
   "id": "d2da95c7-0dba-4357-926f-5770a27c60b3",
   "metadata": {},
   "outputs": [],
   "source": [
    "isomorphism.GraphMatcher(\n",
    "    filled_cube, F\n",
    ").subgraph_is_isomorphic()"
   ]
  },
  {
   "cell_type": "code",
   "execution_count": null,
   "id": "d5922d6f-fa61-4eb1-bc51-fddd54167a05",
   "metadata": {},
   "outputs": [],
   "source": [
    "isomorphism.GraphMatcher(\n",
    "    nx.line_graph(filled_cube), nx.line_graph(F)\n",
    ").subgraph_is_isomorphic()"
   ]
  },
  {
   "cell_type": "code",
   "execution_count": null,
   "id": "9c3981f7-4791-4a5c-a913-57233b0d00cd",
   "metadata": {},
   "outputs": [],
   "source": [
    "nx.draw(nx.line_graph(F))"
   ]
  },
  {
   "cell_type": "code",
   "execution_count": null,
   "id": "6ec4c3cd-41b8-4ca6-8a49-fc5f9361abb7",
   "metadata": {},
   "outputs": [],
   "source": [
    "#readClusters('new_0.1/solid_full/nt0/T_0.06/clusters.txt', '../shapes/filled_cube.json', 0.75)"
   ]
  },
  {
   "cell_type": "markdown",
   "id": "77d3a8a5-766d-4a81-a2e9-1265c472d95a",
   "metadata": {},
   "source": [
    "# Check if you have isomorphism while removing nodes"
   ]
  },
  {
   "cell_type": "code",
   "execution_count": null,
   "id": "3227584d-badf-4360-97f3-80474de4a9d4",
   "metadata": {},
   "outputs": [],
   "source": [
    "import random\n",
    "G = graphShape('../shapes/filled_cube.json')\n",
    "nx.draw(G)"
   ]
  },
  {
   "cell_type": "code",
   "execution_count": null,
   "id": "19434279-5b7e-4fdf-be00-27d500cb710f",
   "metadata": {},
   "outputs": [],
   "source": [
    "H = G.copy()\n",
    "while len(H) > 0:\n",
    "    H.remove_node(random.choice([n for n in H.nodes]))\n",
    "    #plt.figure(len(G)-len(H)+1)\n",
    "    #nx.draw(H)\n",
    "    print(isomorphism.GraphMatcher(G, H).subgraph_is_isomorphic())"
   ]
  },
  {
   "cell_type": "markdown",
   "id": "7da853ce-4448-48b5-a5e8-5ae056f12251",
   "metadata": {},
   "source": [
    "# Check if you have isomorphism while removing edges"
   ]
  },
  {
   "cell_type": "code",
   "execution_count": null,
   "id": "a32fb72b-6019-402d-baee-901670c00057",
   "metadata": {},
   "outputs": [],
   "source": [
    "H = G.copy()\n",
    "while len(H) > len(G)/2:\n",
    "    H.remove_edge(*random.choice([n for n in H.edges]))\n",
    "    print(isomorphism.GraphMatcher(G, H).subgraph_is_isomorphic())"
   ]
  },
  {
   "cell_type": "code",
   "execution_count": null,
   "id": "d4910fd7-3f5a-404e-b09c-f3db3ecb57ac",
   "metadata": {},
   "outputs": [],
   "source": [
    "H = G.copy()\n",
    "while len(H) > len(G)/2:\n",
    "    H.remove_edge(*random.choice([n for n in H.edges]))\n",
    "    print(isomorphism.GraphMatcher(nx.line_graph(G), nx.line_graph(H)).subgraph_is_isomorphic())"
   ]
  },
  {
   "cell_type": "markdown",
   "id": "7803ec5a-5ec8-4dd9-83ef-89679a97281f",
   "metadata": {},
   "source": [
    "# Minimal filled cube"
   ]
  },
  {
   "cell_type": "code",
   "execution_count": null,
   "id": "d7c2d2b7-d304-41e7-9a72-d7c3072bc836",
   "metadata": {},
   "outputs": [],
   "source": [
    "path = 'new_0.1/solid/nt0/T_0.01/'\n",
    "\n",
    "filled_cube = graphShape('../shapes/filled_cube.json')\n",
    "coords = coordsFromConf(path+'last_conf.dat')\n",
    "for i, G in enumerate(graphFromLastestClusters(path+'clusters.txt')):\n",
    "    print(\n",
    "        getGraphOverlap(filled_cube, G, 0),\n",
    "        \" - {} of {} cubes\".format(len(G), len(filled_cube)),\n",
    "         G.nodes\n",
    "    )\n",
    "    drawWithCoords(G, coords, i)\n",
    "    "
   ]
  },
  {
   "cell_type": "code",
   "execution_count": null,
   "id": "805f2119-00a5-4a5d-bd49-8e3c3a9790b8",
   "metadata": {},
   "outputs": [],
   "source": []
  }
 ],
 "metadata": {
  "kernelspec": {
   "display_name": "Python 3",
   "language": "python",
   "name": "python3"
  },
  "language_info": {
   "codemirror_mode": {
    "name": "ipython",
    "version": 3
   },
   "file_extension": ".py",
   "mimetype": "text/x-python",
   "name": "python",
   "nbconvert_exporter": "python",
   "pygments_lexer": "ipython3",
   "version": "3.8.5"
  }
 },
 "nbformat": 4,
 "nbformat_minor": 5
}
