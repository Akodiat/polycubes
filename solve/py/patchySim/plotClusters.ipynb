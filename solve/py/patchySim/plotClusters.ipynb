{
 "cells": [
  {
   "cell_type": "code",
   "execution_count": null,
   "metadata": {},
   "outputs": [],
   "source": [
    "import re\n",
    "import altair as alt\n",
    "import pandas as pd\n",
    "\n",
    "#alt.data_transformers.enable('json')\n",
    "\n",
    "nParticles = 600\n",
    "\n",
    "def readClusters(filename):\n",
    "    clusters = {}\n",
    "    with open(filename) as f:\n",
    "        step = 0\n",
    "        for line in f:\n",
    "            matches = re.finditer('\\((( ?\\d ?)+)\\)', line)\n",
    "            frame = []\n",
    "            count = 0\n",
    "            for match in matches:\n",
    "                clusterMembers = [int(i) for i in match.group(1).split()]\n",
    "                frame.append(clusterMembers)\n",
    "                count += len(clusterMembers)\n",
    "            for _ in range(nParticles-count):\n",
    "                frame.append([-1])\n",
    "            clusters[step] = frame\n",
    "            step += 1;\n",
    "    return clusters\n",
    "\n",
    "def readEnergy(filename):\n",
    "    energies = {}\n",
    "    with open(filename) as f:\n",
    "        step = 0\n",
    "        for line in f: \n",
    "            time, potential_energy, _,_ = line.split()\n",
    "            energies[float(time)] = float(potential_energy)\n",
    "    return energies\n",
    "\n",
    "def mean(values):\n",
    "    tot = 0\n",
    "    count = 0\n",
    "    for value in values:\n",
    "        tot += value\n",
    "        count += 1\n",
    "    return tot/count\n",
    "\n",
    "dt = 0.01"
   ]
  },
  {
   "cell_type": "code",
   "execution_count": null,
   "metadata": {},
   "outputs": [],
   "source": [
    "import importlib\n",
    "def getdata(path):\n",
    "    m = importlib.import_module(path+'.data')\n",
    "    return {\n",
    "        'completeCluster': m.completeCluster,\n",
    "        'rule': m.rule\n",
    "    }"
   ]
  },
  {
   "cell_type": "code",
   "execution_count": null,
   "metadata": {},
   "outputs": [],
   "source": [
    "import os\n",
    "shapes = []\n",
    "for _, dirs, _ in os.walk('.'):\n",
    "    shapes = {d:  getdata(d) for d in dirs if not d[0] == '.'}\n",
    "    break\n",
    "{k: v['rule'] for k, v in shapes.items()}"
   ]
  },
  {
   "cell_type": "code",
   "execution_count": null,
   "metadata": {},
   "outputs": [],
   "source": [
    "#readEnergy('{}/T_{}/energy.dat'.format('a', '0.01'))"
   ]
  },
  {
   "cell_type": "code",
   "execution_count": null,
   "metadata": {},
   "outputs": [],
   "source": [
    "#tmp = readClusters('{}/T_{}/clusters.txt'.format('a', '0.01'))\n",
    "#[sum(len(c) for c in t) for i,t in tmp.items()]"
   ]
  },
  {
   "cell_type": "code",
   "execution_count": null,
   "metadata": {},
   "outputs": [],
   "source": [
    "#dirs = ['letter_J', 'robot', 'swan']\n",
    "temps = ['0.01', '0.02', '0.03', '0.04', '0.05', '0.06','0.07','0.08','0.09','0.1']\n",
    "\n",
    "data = []\n",
    "\n",
    "for directory, shapeData in shapes.items():\n",
    "    complete = shapeData['completeCluster']\n",
    "    completeSize = len(complete)\n",
    "    for temp in temps :\n",
    "        clusters = readClusters('{}/T_{}/clusters.txt'.format(directory, temp))     \n",
    "        energy = readEnergy('{}/T_{}/energy.dat'.format(directory, temp))\n",
    "        for time, frame in clusters.items():\n",
    "            if(time > 4000):\n",
    "                break\n",
    "            if(time % 100 == 0):\n",
    "                nComplete = len([cluster for cluster in frame if (cluster==complete)])\n",
    "                #print(\"Found {} complete clusters at time {} for {}\".format(nComplete, time, directory))\n",
    "                data.append({\n",
    "                    'dir': directory,\n",
    "                    'shape': directory.split('_')[0],\n",
    "                    'temp': temp,\n",
    "                    'timestep': time,\n",
    "                    'meanSize': (mean(len(cluster) for cluster in frame) if len(frame) > 0 else 0)/completeSize,\n",
    "                    'nComplete': nComplete/50,\n",
    "                    'energy': energy[time*1000]\n",
    "                })\n",
    "            \n",
    "df = pd.DataFrame(data)\n"
   ]
  },
  {
   "cell_type": "code",
   "execution_count": null,
   "metadata": {},
   "outputs": [],
   "source": [
    "df.loc[df['timestep'] == 1000]"
   ]
  },
  {
   "cell_type": "code",
   "execution_count": null,
   "metadata": {},
   "outputs": [],
   "source": [
    "alt.Chart(df.loc[df['timestep'] == 1000]).mark_area(clip=True, line=True).encode(\n",
    "    alt.X('temp:Q'),\n",
    "    alt.Y('nComplete:Q',\n",
    "        title='Complete clusters'\n",
    "    ),\n",
    "    alt.Column('shape', title=None),\n",
    "    alt.Color('dir')\n",
    ").properties(width=150, height=200)"
   ]
  },
  {
   "cell_type": "code",
   "execution_count": null,
   "metadata": {},
   "outputs": [],
   "source": [
    "alt.Chart(df).mark_line(clip=True).encode(\n",
    "    alt.X('timestep:Q'),\n",
    "    alt.Y('energy:Q',\n",
    "        scale=alt.Scale(domain=(-1.5, 1)),\n",
    "        title='Potential energy'\n",
    "    ),\n",
    "    alt.Color('temp', scale=alt.Scale(scheme=\"inferno\")),\n",
    "    alt.Column('dir', title=None)\n",
    ").properties(width=150, height=200)"
   ]
  },
  {
   "cell_type": "code",
   "execution_count": null,
   "metadata": {},
   "outputs": [],
   "source": [
    "alt.Chart(df).mark_line().encode(\n",
    "    alt.Y('meanSize', title='Average cluster size', scale=alt.Scale(type='log')),\n",
    "    alt.Color('temp', scale=alt.Scale(scheme=\"inferno\")),\n",
    "    alt.Column('dir', title=None),\n",
    "    x='timestep:Q'\n",
    ").properties(width=150, height=200)"
   ]
  },
  {
   "cell_type": "code",
   "execution_count": null,
   "metadata": {},
   "outputs": [],
   "source": [
    "alt.Chart(df).mark_line().encode(\n",
    "    alt.Y('nComplete', title='Complete clusters', axis=alt.Axis(format='.0%')),\n",
    "    alt.Color('temp', scale=alt.Scale(scheme=\"inferno\")),\n",
    "    alt.Column('dir', title=None),\n",
    "    x='timestep:Q'\n",
    ").properties(width=150, height=200)"
   ]
  },
  {
   "cell_type": "code",
   "execution_count": null,
   "metadata": {},
   "outputs": [],
   "source": []
  },
  {
   "cell_type": "code",
   "execution_count": null,
   "metadata": {},
   "outputs": [],
   "source": []
  }
 ],
 "metadata": {
  "kernelspec": {
   "display_name": "Python 3",
   "language": "python",
   "name": "python3"
  },
  "language_info": {
   "codemirror_mode": {
    "name": "ipython",
    "version": 3
   },
   "file_extension": ".py",
   "mimetype": "text/x-python",
   "name": "python",
   "nbconvert_exporter": "python",
   "pygments_lexer": "ipython3",
   "version": "3.8.5"
  }
 },
 "nbformat": 4,
 "nbformat_minor": 4
}
