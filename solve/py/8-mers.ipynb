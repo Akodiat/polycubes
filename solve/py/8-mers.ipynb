{
 "cells": [
  {
   "cell_type": "code",
   "execution_count": null,
   "id": "9558e767-5ebc-4095-9f40-887282dfbfab",
   "metadata": {},
   "outputs": [],
   "source": [
    "from solvePlot import isNumber\n",
    "import pandas as pd\n",
    "import altair as alt\n",
    "import os\n",
    "import re"
   ]
  },
  {
   "cell_type": "code",
   "execution_count": null,
   "id": "95054c0d-2bef-4983-8874-6d8746d02716",
   "metadata": {},
   "outputs": [],
   "source": [
    "colordomain = ['Solution', 'None', 'UND', 'MEM']\n",
    "colorrange = ['#4DAF4A', '#E41A1C', '#377EB8', '#170EB8']\n",
    "\n",
    "alt.data_transformers.disable_max_rows()\n",
    "\n",
    "def getResults(shape, getInProgress=False, getCancelled=False):\n",
    "    for root, _, fs in os.walk(shape):\n",
    "        files =  [os.path.join(root, f) for f in fs]\n",
    "        break\n",
    "    results = []\n",
    "    inProgressCounter = 0\n",
    "    cancelledCounter = 0\n",
    "    for path in files:\n",
    "        with open(path) as f:\n",
    "            lines = f.readlines()\n",
    "            \n",
    "        nVars = nClauses = None\n",
    "        m = None\n",
    "        if len(lines) > 8:\n",
    "            m = re.search('Using (\\d+) variables and (\\d+) clauses', lines[1])\n",
    "        if m:\n",
    "            nVars = int(m.group(1))\n",
    "            nClauses = int(m.group(2))\n",
    "        \n",
    "        if len(lines) == 0:\n",
    "            inProgressCounter += 1\n",
    "            if not getInProgress:\n",
    "                continue\n",
    "            result = 'In progress'\n",
    "        else:\n",
    "            result = lines[-1].strip()\n",
    "        if result.startswith('Job submitted date = '):\n",
    "            cancelledCounter += 1\n",
    "            if not getCancelled:\n",
    "                continue\n",
    "            result = \"Cancelled\"\n",
    "        if result == '---------------' or result == \"Job output ends\":\n",
    "            result = 'Error'\n",
    "        category = result\n",
    "            \n",
    "        if not result in ['Cancelled', 'UND', 'None', 'Error', 'TIMEOUT', 'In progress']:\n",
    "            category = 'Solution'\n",
    "            ratio = 1.0\n",
    "        else:\n",
    "            ratio = 0.0\n",
    "            \n",
    "        if isNumber(result):\n",
    "            ratio = float(result)\n",
    "            category = 'UND'\n",
    "            \n",
    "        if 'out-of-memory' in lines[-1]:\n",
    "            category = 'MEM'\n",
    "\n",
    "        m = re.search('([0-9]+)t_([0-9]+)c.out', path)\n",
    "        #m.group(0)\n",
    "        results.append({\n",
    "            'nCubeTypes': int(m.group(1)),\n",
    "            'nColors': int(m.group(2)),\n",
    "            'variables': nVars,\n",
    "            'clauses': nClauses,\n",
    "            'result': result,\n",
    "            'category': category,\n",
    "            'ratio': ratio\n",
    "        })\n",
    "    df = pd.DataFrame(results)\n",
    "    #print(\"Found {} in progress and {} cancelled\".format(inProgressCounter, cancelledCounter))\n",
    "    return df\n",
    "\n",
    "def plotData(df):\n",
    "    base = alt.Chart(df).transform_calculate(\n",
    "        url='https://akodiat.github.io/polycubes?rule=' + alt.datum.result\n",
    "    )\n",
    "    return base.mark_rect().encode(\n",
    "        alt.X('nCubeTypes:O', title='# of species'),\n",
    "        alt.Y('nColors:O', title='# of colors', sort='-y'),\n",
    "        color=alt.Color('category', scale=alt.Scale(domain=colordomain, range=colorrange)),\n",
    "        href='url:N'\n",
    "    ) + base.mark_circle(color='black', opacity=0.5).encode(\n",
    "        alt.X('nCubeTypes:O', title='# of species'),\n",
    "        alt.Y('nColors:O', title='# of colors', sort='-y'),\n",
    "        size=alt.Size('ratio:Q'),\n",
    "        tooltip=['result', 'nCubeTypes', 'nColors', 'ratio'],\n",
    "        href='url:N'\n",
    "    )"
   ]
  },
  {
   "cell_type": "code",
   "execution_count": null,
   "id": "94c1394d-1a3f-4c51-bcf9-3832ea07a4e5",
   "metadata": {},
   "outputs": [],
   "source": [
    "def getSmallest(df, measure):\n",
    "    return df.loc[df['category'] == 'Solution'][measure].min()"
   ]
  },
  {
   "cell_type": "code",
   "execution_count": null,
   "id": "933b6a8e-fe0b-4067-8af5-778bc4372308",
   "metadata": {},
   "outputs": [],
   "source": [
    "paths = !ls -d all_8-mers/8-mer_*/"
   ]
  },
  {
   "cell_type": "code",
   "execution_count": null,
   "id": "125d4719-595b-4649-af55-66047e18894a",
   "metadata": {},
   "outputs": [],
   "source": [
    "df = pd.DataFrame([{\n",
    "    'minNs':getSmallest(getResults(path), 'nCubeTypes'),\n",
    "    'minNc': getSmallest(getResults(path), 'nColors'), \n",
    "    'path': path\n",
    "} for path in paths])"
   ]
  },
  {
   "cell_type": "code",
   "execution_count": null,
   "id": "e77a1d2a-6ec1-48aa-9ad8-0a7d46bd718c",
   "metadata": {},
   "outputs": [],
   "source": [
    "alt.Chart(df).mark_bar().encode(\n",
    "    alt.X(\"minNs:O\", title='Number of species'),\n",
    "    y='count()',\n",
    ") | alt.Chart(df).mark_bar().encode(\n",
    "    alt.X(\"minNc:O\", title='Number of colours'),\n",
    "    y='count()',\n",
    ")"
   ]
  },
  {
   "cell_type": "code",
   "execution_count": null,
   "id": "95f00c24-d033-44e1-b87d-be7ef134cb3e",
   "metadata": {},
   "outputs": [],
   "source": [
    "df.sort_values(by=['minNs'])"
   ]
  },
  {
   "cell_type": "code",
   "execution_count": null,
   "id": "6b821fa1-a5d4-435a-8ad8-e8a501e684da",
   "metadata": {},
   "outputs": [],
   "source": [
    "plotData(getResults('8-mer_89'))"
   ]
  },
  {
   "cell_type": "code",
   "execution_count": null,
   "id": "5f1b0568-c51c-49cc-bcf5-25a41c0db44f",
   "metadata": {},
   "outputs": [],
   "source": [
    "plotData(getResults('8-mer_148'))"
   ]
  },
  {
   "cell_type": "code",
   "execution_count": null,
   "id": "95fd6b8d-5fed-47fa-8b41-27edd1ed0ad4",
   "metadata": {},
   "outputs": [],
   "source": [
    "getResults('8-mer_134')['nCubeTypes'].min()"
   ]
  },
  {
   "cell_type": "code",
   "execution_count": null,
   "id": "38010916-d3b1-4f41-9cfb-5554b6fecc37",
   "metadata": {},
   "outputs": [],
   "source": [
    "getResults('8-mer_134')"
   ]
  },
  {
   "cell_type": "code",
   "execution_count": null,
   "id": "8bf17817-c948-4c00-8135-55f20c0a615c",
   "metadata": {},
   "outputs": [],
   "source": [
    "getSmallest(getResults('8-mer_134'), 'nCubeTypes')"
   ]
  },
  {
   "cell_type": "code",
   "execution_count": null,
   "id": "471d5c41-90db-4c09-b138-a60d9bcd0d6e",
   "metadata": {},
   "outputs": [],
   "source": [
    "paths"
   ]
  },
  {
   "cell_type": "code",
   "execution_count": null,
   "id": "2a946a60-20fb-46f8-8b38-c471a398c229",
   "metadata": {},
   "outputs": [],
   "source": []
  }
 ],
 "metadata": {
  "kernelspec": {
   "display_name": "Python 3",
   "language": "python",
   "name": "python3"
  },
  "language_info": {
   "codemirror_mode": {
    "name": "ipython",
    "version": 3
   },
   "file_extension": ".py",
   "mimetype": "text/x-python",
   "name": "python",
   "nbconvert_exporter": "python",
   "pygments_lexer": "ipython3",
   "version": "3.8.5"
  }
 },
 "nbformat": 4,
 "nbformat_minor": 5
}
