{
 "cells": [
  {
   "cell_type": "code",
   "execution_count": null,
   "id": "worth-reporter",
   "metadata": {},
   "outputs": [],
   "source": [
    "import altair as alt\n",
    "\n",
    "from solvePlot import getResults, plotData\n",
    "\n",
    "alt.data_transformers.disable_max_rows()"
   ]
  },
  {
   "cell_type": "code",
   "execution_count": null,
   "id": "d3d276b7-2327-4738-9c85-482b9952b3f8",
   "metadata": {},
   "outputs": [],
   "source": [
    "plotData(getResults('square')).properties(\n",
    "    title='Square',\n",
    "    width=200, height=200\n",
    ")"
   ]
  },
  {
   "cell_type": "code",
   "execution_count": null,
   "id": "2620fe34-ef20-429e-b670-a6e67bf8231c",
   "metadata": {},
   "outputs": [],
   "source": [
    "plotData(getResults('glasses')).properties(\n",
    "    title='Glasses',\n",
    "    width=400, height=400\n",
    ") | alt.Chart(getResults('glasses')).mark_rect().encode(\n",
    "    alt.X('nCubeTypes:O', title='# of species'),\n",
    "    alt.Y('nColors:O', title='# of colors', sort='-y'),\n",
    "    color=alt.Color('duration', title='Duration (seconds)')\n",
    ").properties(\n",
    "    width=400, height=400\n",
    ")"
   ]
  },
  {
   "cell_type": "code",
   "execution_count": null,
   "id": "4cf8f21d-deea-4f5e-9b87-86c52b4dca10",
   "metadata": {},
   "outputs": [],
   "source": [
    "plotData(getResults('cube4')).properties(\n",
    "    title='4-side solid cube'\n",
    ").properties(\n",
    "    width=300, height=800\n",
    ") | alt.Chart(getResults('cube4')).mark_rect().encode(\n",
    "    alt.X('nCubeTypes:O', title='# of species'),\n",
    "    alt.Y('nColors:O', title='# of colors', sort='-y'),\n",
    "    color=alt.Color('duration', title='Duration (seconds)')\n",
    ").properties(\n",
    "    width=300, height=800\n",
    ") | alt.Chart(getResults('cube4')).mark_rect().encode(\n",
    "    alt.X('nCubeTypes:O', title='# of species'),\n",
    "    alt.Y('nColors:O', title='# of colors', sort='-y'),\n",
    "    color=alt.Color('variables')\n",
    ").properties(\n",
    "    title='Number of variables', width=300, height=800\n",
    ") | alt.Chart(getResults('cube4')).mark_rect().encode(\n",
    "    alt.X('nCubeTypes:O', title='# of species'),\n",
    "    alt.Y('nColors:O', title='# of colors', sort='-y'),\n",
    "    color=alt.Color('clauses')\n",
    ").properties(title='Number of clauses', width=300, height=800)"
   ]
  },
  {
   "cell_type": "code",
   "execution_count": null,
   "id": "904751f3-07a4-4281-9f03-82d66acfd508",
   "metadata": {},
   "outputs": [],
   "source": [
    "plotData(getResults('filled_cube')).properties(\n",
    "    title='Cube3'\n",
    ").properties(\n",
    "    width=300, height=800\n",
    ")| alt.Chart(getResults('filled_cube')).mark_rect().encode(\n",
    "    alt.X('nCubeTypes:O', title='# of species'),\n",
    "    alt.Y('nColors:O', title='# of colors', sort='-y'),\n",
    "    color=alt.Color('duration', title='Duration (seconds)')\n",
    ").properties(\n",
    "    width=300, height=800\n",
    ")"
   ]
  },
  {
   "cell_type": "code",
   "execution_count": null,
   "id": "8422ead0-1505-4d7c-abf6-09f908575def",
   "metadata": {},
   "outputs": [],
   "source": [
    "plotData(getResults('2rectangles')).properties(\n",
    "    title='Multifarious rectangles'\n",
    ")"
   ]
  },
  {
   "cell_type": "code",
   "execution_count": null,
   "id": "4a27f2a8-2fc8-447e-b1ed-3258475ae057",
   "metadata": {},
   "outputs": [],
   "source": [
    "plotData(getResults('0704000000000a0089000084')).properties(\n",
    "    title='0704000000000a0089000084'\n",
    ")"
   ]
  },
  {
   "cell_type": "code",
   "execution_count": null,
   "id": "ccb950fa-d9c4-4a8e-9ecd-873d51c13954",
   "metadata": {},
   "outputs": [],
   "source": [
    "plotData(getResults('filled_cube_no_torsion')).properties(\n",
    "    title='Filled cube without torsion',\n",
    "    width=200, height=200\n",
    ")"
   ]
  },
  {
   "cell_type": "code",
   "execution_count": null,
   "id": "01228e1d-8f75-43d5-9868-3e645077f4d7",
   "metadata": {},
   "outputs": [],
   "source": [
    "plotData(getResults('flowerball-no-torsion')).properties(\n",
    "    title='Flowerball without torsion',\n",
    "    width=500, height=500\n",
    ") | plotData(getResults('flowerball-torsion')).properties(\n",
    "    title='Flowerball with torsion',\n",
    "    width=500, height=500\n",
    ")"
   ]
  },
  {
   "cell_type": "code",
   "execution_count": null,
   "id": "reflected-index",
   "metadata": {},
   "outputs": [],
   "source": [
    "plotData(getResults('cube')).properties(\n",
    "    title='Cube'\n",
    ")"
   ]
  },
  {
   "cell_type": "code",
   "execution_count": null,
   "id": "56dfa551-4866-4f28-9ea4-e05fb38fc540",
   "metadata": {},
   "outputs": [],
   "source": [
    "plotData(getResults('letter_J')).properties(\n",
    "    title='Letter J'\n",
    ")"
   ]
  },
  {
   "cell_type": "code",
   "execution_count": null,
   "id": "7626d2e6-e2d5-4013-8ab0-8aa1289cd56b",
   "metadata": {},
   "outputs": [],
   "source": [
    "plotData(getResults('swan')).properties(\n",
    "    title='Swan'\n",
    ")"
   ]
  },
  {
   "cell_type": "code",
   "execution_count": null,
   "id": "49dcd358-abff-44ed-a850-7c7cc0238bc8",
   "metadata": {},
   "outputs": [],
   "source": [
    "plotData(getResults('filled_cube')).properties(\n",
    "    title='Filled cube'\n",
    ")"
   ]
  },
  {
   "cell_type": "code",
   "execution_count": null,
   "id": "tight-holmes",
   "metadata": {},
   "outputs": [],
   "source": [
    "plotData(getResults('cube')).properties(\n",
    "    title='Hollow cube'\n",
    ")"
   ]
  },
  {
   "cell_type": "code",
   "execution_count": null,
   "id": "polyphonic-denmark",
   "metadata": {},
   "outputs": [],
   "source": [
    "plotData(getResults('flowerball-torsion')).properties(\n",
    "    title='Flowerball with torsion'\n",
    ")"
   ]
  },
  {
   "cell_type": "code",
   "execution_count": null,
   "id": "prepared-effectiveness",
   "metadata": {},
   "outputs": [],
   "source": [
    "def getInProgressOverCompl(name, maxNC, maxNT):\n",
    "    return getResults(name, getInProgress=True).query(\n",
    "        \"category == 'In progress' and (nCubeTypes > {} or nColors > {})\".format(\n",
    "            maxNC, maxNT\n",
    "    ))['jobID'].values.tolist()"
   ]
  },
  {
   "cell_type": "code",
   "execution_count": null,
   "id": "static-extension",
   "metadata": {},
   "outputs": [],
   "source": [
    "print(' '.join([\"{}\".format(id) for id in getInProgressOverCompl('cube', 7,8)]))"
   ]
  },
  {
   "cell_type": "code",
   "execution_count": null,
   "id": "basic-baghdad",
   "metadata": {},
   "outputs": [],
   "source": [
    "def getInProgress(name):\n",
    "    return getResults(name, getInProgress=True).query(\"category == 'In progress'\")['jobID'].values.tolist()"
   ]
  },
  {
   "cell_type": "code",
   "execution_count": null,
   "id": "desperate-aging",
   "metadata": {},
   "outputs": [],
   "source": [
    "print(' '.join([\"{}\".format(id) for id in getInProgress('chair')]))"
   ]
  },
  {
   "cell_type": "code",
   "execution_count": null,
   "id": "reverse-above",
   "metadata": {},
   "outputs": [],
   "source": [
    "def getMemoryFailures(name):\n",
    "    s = ['bash hydraSolveSpecific.sh {}'.format(name)]\n",
    "    for v in getResults(name, getInProgress=True).query(\"category == 'MEM'\").values.tolist():\n",
    "        s.append('{}:{}'.format(*v[:2]))\n",
    "    return ' '.join(s)\n",
    "getMemoryFailures('cube')"
   ]
  },
  {
   "cell_type": "code",
   "execution_count": null,
   "id": "2df9a82a-b8ba-4953-8adf-625c28db05d4",
   "metadata": {},
   "outputs": [],
   "source": []
  }
 ],
 "metadata": {
  "kernelspec": {
   "display_name": "Python 3",
   "language": "python",
   "name": "python3"
  },
  "language_info": {
   "codemirror_mode": {
    "name": "ipython",
    "version": 3
   },
   "file_extension": ".py",
   "mimetype": "text/x-python",
   "name": "python",
   "nbconvert_exporter": "python",
   "pygments_lexer": "ipython3",
   "version": "3.8.5"
  }
 },
 "nbformat": 4,
 "nbformat_minor": 5
}
