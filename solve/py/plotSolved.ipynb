{
 "cells": [
  {
   "cell_type": "code",
   "execution_count": null,
   "id": "driven-strength",
   "metadata": {},
   "outputs": [],
   "source": [
    "import os\n",
    "import re\n",
    "import altair as alt\n",
    "import pandas as pd\n",
    "\n",
    "def getResults(shape, getInProgress=False, getCancelled=False):\n",
    "    for root, _, fs in os.walk(shape):\n",
    "        files =  [os.path.join(root, f) for f in fs]\n",
    "        break\n",
    "    results = []\n",
    "    inProgressCounter = 0\n",
    "    cancelledCounter = 0\n",
    "    for path in files:\n",
    "        with open(path) as f:\n",
    "            result = f.readlines()[-7].strip()\n",
    "        if result == '=========================================================':\n",
    "            inProgressCounter += 1\n",
    "            if not getInProgress:\n",
    "                continue\n",
    "            result = 'In progress'\n",
    "        if result.startswith('Job submitted date = '):\n",
    "            cancelledCounter += 1\n",
    "            if not getCancelled:\n",
    "                continue\n",
    "            result = \"Cancelled\"\n",
    "        if result == '---------------' or result == \"Job output ends\":\n",
    "            result = 'Error'\n",
    "        category = result\n",
    "        if not result in ['Cancelled', 'UND', 'None', 'Error', 'TIMEOUT', 'In progress']:\n",
    "            category = 'Solution'\n",
    "\n",
    "        m = re.search('([0-9]+)t_([0-9]+)c-([0-9]+).out', path)\n",
    "        m.group(0)\n",
    "        results.append({\n",
    "            'nCubeTypes': int(m.group(1)),\n",
    "            'nColors': int(m.group(2)),\n",
    "            'jobID': int(m.group(3)),\n",
    "            'result': result,\n",
    "            'category': category\n",
    "        })\n",
    "    df = pd.DataFrame(results)\n",
    "    df.to_csv(shape+'.csv')\n",
    "    print(\"Found {} in progress and {} cancelled\".format(inProgressCounter, cancelledCounter))\n",
    "    return df\n",
    "\n",
    "def plotData(df):\n",
    "    return alt.Chart(df).transform_calculate(\n",
    "        url='https://akodiat.github.io/polycubes?rule=' + alt.datum.result\n",
    "    ).mark_rect().encode(\n",
    "        alt.X('nCubeTypes:O', title='# of species'),\n",
    "        alt.Y('nColors:O', title='# of colors', sort='-y'),\n",
    "        color='category',\n",
    "        tooltip=['result', 'nCubeTypes', 'nColors', 'jobID'],\n",
    "        href='url:N'\n",
    "    )"
   ]
  },
  {
   "cell_type": "code",
   "execution_count": null,
   "id": "regional-huntington",
   "metadata": {},
   "outputs": [],
   "source": [
    "plotData(getResults('cube')).properties(\n",
    "    title='Cube'\n",
    ")"
   ]
  },
  {
   "cell_type": "code",
   "execution_count": null,
   "id": "scheduled-ontario",
   "metadata": {},
   "outputs": [],
   "source": [
    "plotData(getResults('cross', True, False)).properties(\n",
    "    title='3D cross'\n",
    ")"
   ]
  },
  {
   "cell_type": "code",
   "execution_count": null,
   "id": "appointed-clearing",
   "metadata": {},
   "outputs": [],
   "source": [
    "plotData(getResults('filled_cube', True, False)).properties(\n",
    "    title='Filled cube'\n",
    ")"
   ]
  },
  {
   "cell_type": "code",
   "execution_count": null,
   "id": "breathing-carolina",
   "metadata": {},
   "outputs": [],
   "source": [
    "plotData(getResults('chair')).properties(\n",
    "    title='Chair'\n",
    ")"
   ]
  },
  {
   "cell_type": "code",
   "execution_count": null,
   "id": "textile-lobby",
   "metadata": {},
   "outputs": [],
   "source": [
    "def getInProgressOverCompl(name, maxNC, maxNT):\n",
    "    return getResults(name, getInProgress=True).query(\n",
    "        \"category == 'In progress' and (nCubeTypes > {} or nColors > {})\".format(\n",
    "            maxNC, maxNT\n",
    "    ))['jobID'].values.tolist()"
   ]
  },
  {
   "cell_type": "code",
   "execution_count": null,
   "id": "prepared-increase",
   "metadata": {},
   "outputs": [],
   "source": [
    "print(' '.join([\"{}\".format(id) for id in getInProgressOverCompl('filled_cube', 11,11)]))"
   ]
  },
  {
   "cell_type": "code",
   "execution_count": null,
   "id": "wrong-talent",
   "metadata": {},
   "outputs": [],
   "source": [
    "def getInProgress(name):\n",
    "    return getResults(name, getInProgress=True).query(\"category == 'In progress'\")['jobID'].values.tolist()"
   ]
  },
  {
   "cell_type": "code",
   "execution_count": null,
   "id": "taken-medicine",
   "metadata": {},
   "outputs": [],
   "source": [
    "print(' '.join([\"{}\".format(id) for id in getInProgress('chair')]))"
   ]
  },
  {
   "cell_type": "code",
   "execution_count": null,
   "id": "simple-preview",
   "metadata": {},
   "outputs": [],
   "source": []
  }
 ],
 "metadata": {
  "kernelspec": {
   "display_name": "Python 3",
   "language": "python",
   "name": "python3"
  },
  "language_info": {
   "codemirror_mode": {
    "name": "ipython",
    "version": 3
   },
   "file_extension": ".py",
   "mimetype": "text/x-python",
   "name": "python",
   "nbconvert_exporter": "python",
   "pygments_lexer": "ipython3",
   "version": "3.8.5"
  }
 },
 "nbformat": 4,
 "nbformat_minor": 5
}
