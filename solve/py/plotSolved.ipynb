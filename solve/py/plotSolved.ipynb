{
 "cells": [
  {
   "cell_type": "code",
   "execution_count": null,
   "id": "worth-reporter",
   "metadata": {},
   "outputs": [],
   "source": [
    "import os\n",
    "import re\n",
    "import altair as alt\n",
    "import pandas as pd\n",
    "\n",
    "colordomain = ['Solution', 'None', 'UND']\n",
    "colorrange = ['#4DAF4A', '#E41A1C', '#377EB8']\n",
    "\n",
    "def isNumber(s):\n",
    "    try:\n",
    "        float(s)\n",
    "        return True\n",
    "    except ValueError:\n",
    "        return False\n",
    "\n",
    "def getResults(shape, getInProgress=False, getCancelled=False):\n",
    "    for root, _, fs in os.walk(shape):\n",
    "        files =  [os.path.join(root, f) for f in fs]\n",
    "        break\n",
    "    results = []\n",
    "    inProgressCounter = 0\n",
    "    cancelledCounter = 0\n",
    "    for path in files:\n",
    "        with open(path) as f:\n",
    "            lines = f.readlines()[-7]\n",
    "        result = lines.strip()\n",
    "        if result == '=========================================================':\n",
    "            inProgressCounter += 1\n",
    "            if not getInProgress:\n",
    "                continue\n",
    "            result = 'In progress'\n",
    "        if result.startswith('Job submitted date = '):\n",
    "            cancelledCounter += 1\n",
    "            if not getCancelled:\n",
    "                continue\n",
    "            result = \"Cancelled\"\n",
    "        if result == '---------------' or result == \"Job output ends\":\n",
    "            result = 'Error'\n",
    "        category = result\n",
    "            \n",
    "        if not result in ['Cancelled', 'UND', 'None', 'Error', 'TIMEOUT', 'In progress']:\n",
    "            category = 'Solution'\n",
    "            ratio = 1.0\n",
    "        else:\n",
    "            ratio = 0.0\n",
    "            \n",
    "        if isNumber(result):\n",
    "            ratio = float(result)\n",
    "            category = 'UND'\n",
    "\n",
    "        m = re.search('([0-9]+)t_([0-9]+)c-([0-9]+).out', path)\n",
    "        m.group(0)\n",
    "        results.append({\n",
    "            'nCubeTypes': int(m.group(1)),\n",
    "            'nColors': int(m.group(2)),\n",
    "            'jobID': int(m.group(3)),\n",
    "            'result': result,\n",
    "            'category': category,\n",
    "            'ratio': ratio\n",
    "        })\n",
    "    df = pd.DataFrame(results)\n",
    "    df.to_csv(shape+'.csv')\n",
    "    print(\"Found {} in progress and {} cancelled\".format(inProgressCounter, cancelledCounter))\n",
    "    return df\n",
    "\n",
    "def plotData(df):\n",
    "    base = alt.Chart(df).transform_calculate(\n",
    "        url='https://akodiat.github.io/polycubes?rule=' + alt.datum.result\n",
    "    )\n",
    "    return base.mark_rect().encode(\n",
    "        alt.X('nCubeTypes:O', title='# of species'),\n",
    "        alt.Y('nColors:O', title='# of colors', sort='-y'),\n",
    "        color=alt.Color('category', scale=alt.Scale(domain=colordomain, range=colorrange)),\n",
    "        href='url:N'\n",
    "    ) + base.mark_circle(color='black', opacity=0.5).encode(\n",
    "        alt.X('nCubeTypes:O', title='# of species'),\n",
    "        alt.Y('nColors:O', title='# of colors', sort='-y'),\n",
    "        size=alt.Size('ratio:Q'),\n",
    "        tooltip=['result', 'nCubeTypes', 'nColors', 'jobID', 'ratio'],\n",
    "        href='url:N'\n",
    "    )"
   ]
  },
  {
   "cell_type": "code",
   "execution_count": null,
   "id": "d3d276b7-2327-4738-9c85-482b9952b3f8",
   "metadata": {},
   "outputs": [],
   "source": [
    "plotData(getResults('square')).properties(\n",
    "    title='Square',\n",
    "    width=200, height=200\n",
    ")"
   ]
  },
  {
   "cell_type": "code",
   "execution_count": null,
   "id": "904751f3-07a4-4281-9f03-82d66acfd508",
   "metadata": {},
   "outputs": [],
   "source": [
    "plotData(getResults('2rectangles')).properties(\n",
    "    title='Multifarious rectangles'\n",
    ")"
   ]
  },
  {
   "cell_type": "code",
   "execution_count": null,
   "id": "reflected-index",
   "metadata": {},
   "outputs": [],
   "source": [
    "plotData(getResults('cube')).properties(\n",
    "    title='Cube'\n",
    ")"
   ]
  },
  {
   "cell_type": "code",
   "execution_count": null,
   "id": "tight-holmes",
   "metadata": {},
   "outputs": [],
   "source": [
    "plotData(getResults('cross', True, False)).properties(\n",
    "    title='3D cross'\n",
    ")"
   ]
  },
  {
   "cell_type": "code",
   "execution_count": null,
   "id": "polyphonic-denmark",
   "metadata": {},
   "outputs": [],
   "source": [
    "plotData(getResults('chair')).properties(\n",
    "    title='Chair'\n",
    ")"
   ]
  },
  {
   "cell_type": "code",
   "execution_count": null,
   "id": "prepared-effectiveness",
   "metadata": {},
   "outputs": [],
   "source": [
    "def getInProgressOverCompl(name, maxNC, maxNT):\n",
    "    return getResults(name, getInProgress=True).query(\n",
    "        \"category == 'In progress' and (nCubeTypes > {} or nColors > {})\".format(\n",
    "            maxNC, maxNT\n",
    "    ))['jobID'].values.tolist()"
   ]
  },
  {
   "cell_type": "code",
   "execution_count": null,
   "id": "static-extension",
   "metadata": {},
   "outputs": [],
   "source": [
    "print(' '.join([\"{}\".format(id) for id in getInProgressOverCompl('cube', 7,8)]))"
   ]
  },
  {
   "cell_type": "code",
   "execution_count": null,
   "id": "basic-baghdad",
   "metadata": {},
   "outputs": [],
   "source": [
    "def getInProgress(name):\n",
    "    return getResults(name, getInProgress=True).query(\"category == 'In progress'\")['jobID'].values.tolist()"
   ]
  },
  {
   "cell_type": "code",
   "execution_count": null,
   "id": "desperate-aging",
   "metadata": {},
   "outputs": [],
   "source": [
    "print(' '.join([\"{}\".format(id) for id in getInProgress('chair')]))"
   ]
  },
  {
   "cell_type": "code",
   "execution_count": null,
   "id": "reverse-above",
   "metadata": {},
   "outputs": [],
   "source": []
  }
 ],
 "metadata": {
  "kernelspec": {
   "display_name": "Python 3",
   "language": "python",
   "name": "python3"
  },
  "language_info": {
   "codemirror_mode": {
    "name": "ipython",
    "version": 3
   },
   "file_extension": ".py",
   "mimetype": "text/x-python",
   "name": "python",
   "nbconvert_exporter": "python",
   "pygments_lexer": "ipython3",
   "version": "3.8.5"
  }
 },
 "nbformat": 4,
 "nbformat_minor": 5
}
