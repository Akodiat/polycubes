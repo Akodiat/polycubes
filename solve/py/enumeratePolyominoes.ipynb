{
 "cells": [
  {
   "cell_type": "markdown",
   "id": "9c04ed68-2412-4c63-99b4-1397fab4d43e",
   "metadata": {},
   "source": [
    "# Enumerating polyominoes\n",
    "Adapted from https:#rosettacode.org/wiki/Free_polyominoes_enumeration#Python"
   ]
  },
  {
   "cell_type": "code",
   "execution_count": 1,
   "id": "54fd0432-6346-4b92-999d-da85dc1ca05e",
   "metadata": {},
   "outputs": [],
   "source": [
    "from itertools import groupby, chain\n",
    "from operator import itemgetter\n",
    "from sys import argv\n",
    "from array import array\n",
    "import numpy as np\n",
    "import json\n",
    "import utils\n",
    "\n",
    "def concat_map(func, it):\n",
    "    return list(chain.from_iterable(map(func, it)))\n",
    "\n",
    "def minima(poly):\n",
    "    \"\"\"Finds the min x and y coordiate of a Polyomino.\"\"\"\n",
    "    return (min(pt[0] for pt in poly), min(pt[1] for pt in poly))\n",
    "\n",
    "def translate_to_origin(poly):\n",
    "    (minx, miny) = minima(poly)\n",
    "    return [(x - minx, y - miny) for (x, y) in poly]\n",
    "\n",
    "rotate90   = lambda x_y:    (x_y[1], -x_y[0])\n",
    "rotate180  = lambda x_y1: (-x_y1[0], -x_y1[1])\n",
    "rotate270  = lambda x_y2: (-x_y2[1],  x_y2[0])\n",
    "reflect    = lambda x_y3: (-x_y3[0],  x_y3[1])\n",
    "\n",
    "def rotations_and_reflections(poly):\n",
    "    \"\"\"All the plane symmetries of a rectangular region.\"\"\"\n",
    "    return (poly,\n",
    "            list(map(rotate90, poly)),\n",
    "            list(map(rotate180, poly)),\n",
    "            list(map(rotate270, poly)),\n",
    "            list(map(reflect, poly)),\n",
    "            [reflect(rotate90(pt)) for pt in poly],\n",
    "            [reflect(rotate180(pt)) for pt in poly],\n",
    "            [reflect(rotate270(pt)) for pt in poly])\n",
    "\n",
    "def canonical(poly):\n",
    "    return min(sorted(translate_to_origin(pl)) for pl in rotations_and_reflections(poly))\n",
    "\n",
    "def unique(lst):\n",
    "    lst.sort()\n",
    "    return list(map(next, map(itemgetter(1), groupby(lst))))\n",
    "\n",
    "# All four points in Von Neumann neighborhood.\n",
    "contiguous = lambda x_y4: [(x_y4[0] - 1, x_y4[1]), (x_y4[0] + 1, x_y4[1]), (x_y4[0], x_y4[1] - 1), (x_y4[0], x_y4[1] + 1)]\n",
    "\n",
    "def new_points(poly):\n",
    "    \"\"\"Finds all distinct points that can be added to a Polyomino.\"\"\"\n",
    "    return unique([pt for pt in concat_map(contiguous, poly) if pt not in poly])\n",
    "\n",
    "def new_polys(poly):\n",
    "    return unique([canonical(poly + [pt]) for pt in new_points(poly)])\n",
    "\n",
    "monomino = [(0, 0)]\n",
    "monominoes = [monomino]\n",
    "\n",
    "def rank(n):\n",
    "    \"\"\"Generates polyominoes of rank n recursively.\"\"\"\n",
    "    assert n >= 0\n",
    "    if n == 0: return []\n",
    "    if n == 1: return monominoes\n",
    "    return unique(concat_map(new_polys, rank(n - 1)))\n",
    "\n",
    "def getCoords(n):\n",
    "    return [[np.array([c[0], c[1], 0]) for c in p] for p in rank(n)]"
   ]
  },
  {
   "cell_type": "code",
   "execution_count": 2,
   "id": "074d91b6-5527-464b-adf7-44228bc40d8c",
   "metadata": {},
   "outputs": [],
   "source": [
    "def topFromCoords(coords):\n",
    "    neigbourDirs = utils.getRuleOrder(3)\n",
    "\n",
    "    bindings = []\n",
    "    donePairs = []  # Keep track so that only one bond per pair is saved\n",
    "\n",
    "    # For each position\n",
    "    for i, current in enumerate(coords):\n",
    "        # Enumerate von Neumann neighborhood\n",
    "        for dPi, dP in enumerate(neigbourDirs):\n",
    "            neigbourPos = current + dP\n",
    "            # Check if current neighbor is among the positions\n",
    "            for j, other in enumerate(coords):\n",
    "                if np.array_equal(neigbourPos, other):\n",
    "                    if str(sorted([i,j])) not in donePairs:\n",
    "                        bindings.append([\n",
    "                            # Particle {} patch {}\n",
    "                            i, dPi,\n",
    "                            # with Particle {} patch {}\n",
    "                            j, dPi + (1 if dPi % 2 == 0 else -1)\n",
    "                        ])\n",
    "                        #print(\"Particle {} ({}) patch {} with particle {} ({}) patch {}\".format(i, current, dPi,j, other, dPi + (1 if dPi % 2 == 0 else -1)))\n",
    "                        donePairs.append(str(sorted([i,j])))\n",
    "    return bindings"
   ]
  },
  {
   "cell_type": "code",
   "execution_count": 3,
   "id": "a7bf2999-933c-4acc-87ec-ed37a5c36559",
   "metadata": {},
   "outputs": [],
   "source": [
    "def generateFiles(n, directory='.'):\n",
    "    for i, p in enumerate(getCoords(n)):\n",
    "        with open(\"{}/{}-mer_{}.json\".format(directory, n, i), \"w\") as outfile:\n",
    "            json.dump({\n",
    "                'nDim': 3,\n",
    "                'bindings': topFromCoords(p),\n",
    "                'torsion': True,\n",
    "                'stopAtFirst': True\n",
    "            }, outfile, indent=4)"
   ]
  },
  {
   "cell_type": "code",
   "execution_count": 4,
   "id": "fc2c12cd-8e9e-4383-81ce-4e7faf2a76e8",
   "metadata": {},
   "outputs": [],
   "source": [
    "generateFiles(8, '../shapes/8-mer_polyominoes')"
   ]
  }
 ],
 "metadata": {
  "kernelspec": {
   "display_name": "Python 3",
   "language": "python",
   "name": "python3"
  },
  "language_info": {
   "codemirror_mode": {
    "name": "ipython",
    "version": 3
   },
   "file_extension": ".py",
   "mimetype": "text/x-python",
   "name": "python",
   "nbconvert_exporter": "python",
   "pygments_lexer": "ipython3",
   "version": "3.9.6"
  }
 },
 "nbformat": 4,
 "nbformat_minor": 5
}
