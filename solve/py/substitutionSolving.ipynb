{
 "cells": [
  {
   "cell_type": "markdown",
   "id": "37625950-c454-44fe-aae5-785ae86aea01",
   "metadata": {},
   "source": [
    "# Substitution solving"
   ]
  },
  {
   "cell_type": "code",
   "execution_count": null,
   "id": "aaea342a-a50c-464f-a3ff-4fa643a9e539",
   "metadata": {},
   "outputs": [],
   "source": [
    "import json\n",
    "import utils\n",
    "import numpy as np\n",
    "import solve\n",
    "\n",
    "\n",
    "\n",
    "def vectorAbs(v):\n",
    "    return np.array([abs(x) for x in v])\n",
    "\n",
    "def posToString(pos):\n",
    "    return \",\".join(str(x) for x in pos)\n",
    "def bindingStr(a, b):\n",
    "    return \"{} {}\".format(*sorted([posToString(a), posToString(b)]))"
   ]
  },
  {
   "cell_type": "code",
   "execution_count": null,
   "id": "ad7fcc6e-0616-445d-b6b8-c6e4760af496",
   "metadata": {},
   "outputs": [],
   "source": [
    "solveSpecPath = '../shapes/8-mer_polyominoes/8-mer_49.json'\n",
    "with open(solveSpecPath, 'r') as f:\n",
    "    data = f.read()\n",
    "solveSpec = json.loads(data)\n",
    "utils.calcCoordmapFromTop(solveSpec['bindings'])"
   ]
  },
  {
   "cell_type": "code",
   "execution_count": null,
   "id": "1640d57a-0193-4ce9-aa57-6dca447fd452",
   "metadata": {},
   "outputs": [],
   "source": [
    "l = [-1,-2,3,4,5,6]\n",
    "list(x > 0 for x in l).index(True)"
   ]
  },
  {
   "cell_type": "code",
   "execution_count": null,
   "id": "4abd2e90-9324-4ab5-9f89-098a4855a4cc",
   "metadata": {},
   "outputs": [],
   "source": [
    "def getFullyAdressableRule(solveSpecPath):\n",
    "    with open(solveSpecPath, 'r') as f:\n",
    "        data = f.read()\n",
    "    solveSpec = json.loads(data)\n",
    "    coordMaps = utils.calcCoordmapFromTop(solveSpec['bindings'])\n",
    "    assert len(coordMaps) == 1, \"Found {} shapes\".format(len(coordMaps))\n",
    "    coordMap = coordMaps[0]\n",
    "    coords = coordMap.values()\n",
    "\n",
    "    print(solveSpec['bindings'])\n",
    "    connectors = list(bindingStr(coordMap[b[0]], coordMap[b[2]]) for b in solveSpec['bindings'])\n",
    "\n",
    "    # Find out which dimension has the fewest connectors\n",
    "    dimCount = [0,0,0]\n",
    "    dims = [\n",
    "        np.array([1,0,0]),\n",
    "        np.array([0,1,0]),\n",
    "        np.array([0,0,1])\n",
    "    ]\n",
    "\n",
    "    for p in coords:\n",
    "        for d in utils.getRuleOrder():\n",
    "            neigbourPos = p+d\n",
    "            if bindingStr(p, neigbourPos) in connectors:\n",
    "                for i in range(3):\n",
    "                    if np.array_equal(vectorAbs(d), dims[i]):\n",
    "                        dimCount[i] += 1\n",
    "                        break\n",
    "\n",
    "    minDim = dims[dimCount.index(min(dimCount))]\n",
    "    \n",
    "    # Initialise empty species\n",
    "    rule = []\n",
    "    cubePosMap = {}\n",
    "    for iCube, p in enumerate(coords):\n",
    "        cubeType = []\n",
    "        for i, d in enumerate(utils.getFaceRotations()):\n",
    "            alignDir = d\n",
    "            if not np.array_equal(utils.getRuleOrder()[i], minDim):\n",
    "                alignDir = minDim\n",
    "            cubeType.append({'color':0, 'alignDir': alignDir})\n",
    "        rule.append(cubeType)\n",
    "        cubePosMap[posToString(p)] = iCube\n",
    "\n",
    "    print(connectors)\n",
    "    # Set colors and alignment direcitons\n",
    "    colorCounter = 1\n",
    "    for iCube, p in enumerate(coords):\n",
    "        found = False\n",
    "        for iFace, d in enumerate(utils.getRuleOrder()):\n",
    "            neigbourPos = p+d\n",
    "            if bindingStr(p, neigbourPos) in connectors:\n",
    "                found = True\n",
    "                invDir = -d\n",
    "                iFaceNeigh = list(np.array_equal(invDir, v) for v in utils.getRuleOrder()).index(True)\n",
    "                iCubeNeigh = cubePosMap[posToString(neigbourPos)]\n",
    "                \n",
    "                rule[iCube][iFace]['color'] = colorCounter\n",
    "                rule[iCubeNeigh][iFaceNeigh]['color'] = -colorCounter\n",
    "                rule[iCubeNeigh][iFaceNeigh]['alignDir'] = rule[iCube][iFace]['alignDir']\n",
    "                \n",
    "                colorCounter += 1\n",
    "        if not found:\n",
    "            print(\"{} not found in connections\".format(posToString(p)))\n",
    "                \n",
    "    rule = [[{\n",
    "        'color': face['color'],\n",
    "        'orientation': round(utils.getSignedAngle(\n",
    "            utils.getFaceRotations()[i],\n",
    "            face['alignDir'],\n",
    "            utils.getRuleOrder()[i]\n",
    "        )*(2/np.pi)+4) % 4\n",
    "    } for i, face in enumerate(s)] for s in rule]\n",
    "        \n",
    "    return rule\n",
    "\n",
    "rule = getFullyAdressableRule('../shapes/8-mer_polyominoes/8-mer_49.json')\n",
    "#rule = getFullyAdressableRule('../shapes/robot.json')\n",
    "print(solve.ruleToDec(rule))\n",
    "\n",
    "rule"
   ]
  },
  {
   "cell_type": "code",
   "execution_count": null,
   "id": "18e22583-9613-42f5-918b-c0ea520ed235",
   "metadata": {},
   "outputs": [],
   "source": [
    "list(np.array_equal(np.array([0,1,0]), v) for v in utils.getRuleOrder()).index(True)"
   ]
  },
  {
   "cell_type": "code",
   "execution_count": null,
   "id": "fac52e03-b725-4ea2-bbf7-01422511a44f",
   "metadata": {},
   "outputs": [],
   "source": [
    "[coord for coord in shapes[0].T]"
   ]
  },
  {
   "cell_type": "code",
   "execution_count": null,
   "id": "93c1ad14-f554-4e82-9bc7-d274ff24eb4f",
   "metadata": {},
   "outputs": [],
   "source": [
    "set(\"{}, {}\".format(b[0], b[2]) for b in solveSpec['bindings'])"
   ]
  },
  {
   "cell_type": "code",
   "execution_count": null,
   "id": "311a12cd-7344-4067-8e8c-8768933310a4",
   "metadata": {},
   "outputs": [],
   "source": []
  }
 ],
 "metadata": {
  "kernelspec": {
   "display_name": "Python 3",
   "language": "python",
   "name": "python3"
  },
  "language_info": {
   "codemirror_mode": {
    "name": "ipython",
    "version": 3
   },
   "file_extension": ".py",
   "mimetype": "text/x-python",
   "name": "python",
   "nbconvert_exporter": "python",
   "pygments_lexer": "ipython3",
   "version": "3.8.5"
  }
 },
 "nbformat": 4,
 "nbformat_minor": 5
}
